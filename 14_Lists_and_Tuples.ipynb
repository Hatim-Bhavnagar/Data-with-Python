{
  "nbformat": 4,
  "nbformat_minor": 0,
  "metadata": {
    "colab": {
      "provenance": [],
      "include_colab_link": true
    },
    "kernelspec": {
      "name": "python3",
      "display_name": "Python 3"
    },
    "language_info": {
      "name": "python"
    }
  },
  "cells": [
    {
      "cell_type": "markdown",
      "metadata": {
        "id": "view-in-github",
        "colab_type": "text"
      },
      "source": [
        "<a href=\"https://colab.research.google.com/github/Hatim-Bhavnagar/Data-with-Python/blob/main/14_Lists_and_Tuples.ipynb\" target=\"_parent\"><img src=\"https://colab.research.google.com/assets/colab-badge.svg\" alt=\"Open In Colab\"/></a>"
      ]
    },
    {
      "cell_type": "markdown",
      "metadata": {
        "id": "Z-M-RCWATK71"
      },
      "source": [
        "# Lists and tuples\n",
        "\n",
        "Often we need to store a number of single items of data together so that they can be processed together. This might be because all the data refers to one person (e.g. name, age, gender, etc) OR it might be because we have a set of data (e.g. all the items that should be displayed in a drop down list, such as all the years from this year back to 100 years ago so that someone can select their year of birth)\n",
        "\n",
        "Python has a range of data structures available including:\n",
        "*   lists  \n",
        "*   tuples  \n",
        "*   dictionaries  \n",
        "*   sets\n",
        "\n",
        "This worksheet looks at lists and tuples.\n",
        "\n",
        "## List\n",
        "A list is a set of related, individual data objects, that are indexed and can be processed as a whole, as subsets or as individual items.  Lists are stored, essentially, as contiguous items in memory so that access can be as quick as possible.  However, they are mutable (they can be changed after they are created and stored) and so those mechanisms need to include extra functionality to deal with changing list sizes.\n",
        "\n",
        "## Tuple\n",
        "Essentially the same as a list but it is immutable.  Once it has been created it can't be changed.  It is stored in memory as contiguous items, with the size required being fixed right from the start.  This makes it faster to access.\n",
        "\n",
        "The code below will create two lists and a tuple.\n",
        "*   the first list contains 1000 random numbers between 1 and 100\n",
        "*   the second list is of random length (up to 5000) and each item is one of the 9 characteristics that are protected under the Equality Act in the UK.\n",
        "*   the tuple contains the 9 protected characteristics\n",
        "\n",
        "Before you start the exercises, run the code below.  It will generate the lists and tuple so that you can use them in the exercises.  If you need to recreate the lists again (because you have changed them and need to work on the originals, just run this cell again).\n",
        "\n",
        "***Note:***  *a list variable contains a reference to the start of the list in memory, rather than storing the list itself.  This means that if you assign the list to another variable (to make a copy), it will only copy across the reference.  If you change the copy, you change the original list.*\n",
        "\n",
        "*If you need to make a copy of the list you will need to use a loop to create a new list and copy all items across.*"
      ]
    },
    {
      "cell_type": "code",
      "metadata": {
        "id": "BDRckXeQXFMT",
        "colab": {
          "base_uri": "https://localhost:8080/"
        },
        "outputId": "dd58756e-7d96-448e-dab2-d094311e4ebb"
      },
      "source": [
        "from random import randint, choice\n",
        "\n",
        "def get_num_list():\n",
        "  num_list = [randint(1,100) for n in range(1000)]\n",
        "  return num_list\n",
        "\n",
        "def get_protected_characteristics():\n",
        "  characteristics_tuple = ('age','disability','gender reassignment','marriage and civil partnership','pregnancy and maternity','race','religion or belief','sex','sexual orientation')\n",
        "  return characteristics_tuple\n",
        "\n",
        "def get_protected_characteristic_list(protected_characteristics):\n",
        "  char_list = [choice(protected_characteristics) for ch in range(randint(1,5000))]\n",
        "  return char_list\n",
        "\n",
        "nums = get_num_list()\n",
        "protected_characteristics = get_protected_characteristics()\n",
        "characteristics = get_protected_characteristic_list(protected_characteristics)\n",
        "print(nums)\n",
        "print(protected_characteristics)\n",
        "print(characteristics)"
      ],
      "execution_count": 3,
      "outputs": [
        {
          "output_type": "stream",
          "name": "stdout",
          "text": [
            "[27, 88, 17, 8, 12, 69, 36, 50, 55, 67, 8, 30, 49, 72, 60, 13, 77, 51, 81, 38, 14, 72, 66, 56, 17, 98, 36, 27, 75, 81, 13, 56, 8, 71, 72, 60, 65, 100, 23, 90, 58, 67, 36, 11, 26, 42, 59, 48, 51, 8, 38, 68, 72, 95, 29, 24, 20, 86, 14, 48, 97, 88, 17, 96, 36, 97, 57, 95, 38, 34, 85, 60, 95, 73, 80, 40, 34, 89, 37, 83, 7, 16, 70, 41, 19, 54, 32, 59, 57, 46, 79, 47, 28, 32, 70, 81, 27, 60, 76, 50, 4, 64, 95, 85, 28, 75, 34, 2, 9, 2, 60, 15, 12, 97, 20, 65, 74, 55, 34, 78, 71, 1, 7, 35, 62, 46, 95, 80, 11, 44, 31, 98, 61, 82, 11, 17, 7, 58, 9, 31, 51, 72, 15, 45, 11, 40, 44, 11, 67, 32, 44, 54, 81, 24, 99, 57, 4, 60, 4, 88, 47, 93, 76, 50, 40, 67, 61, 97, 76, 12, 61, 31, 33, 85, 17, 38, 24, 99, 28, 99, 91, 30, 77, 87, 28, 60, 11, 33, 28, 86, 60, 64, 17, 81, 100, 67, 84, 85, 87, 20, 24, 7, 7, 40, 62, 40, 89, 44, 10, 55, 93, 11, 77, 95, 1, 15, 50, 14, 84, 30, 46, 48, 17, 19, 63, 4, 26, 40, 75, 92, 83, 94, 34, 73, 99, 44, 48, 31, 13, 36, 52, 39, 75, 5, 56, 10, 93, 57, 96, 81, 63, 100, 17, 19, 52, 62, 55, 83, 74, 56, 30, 84, 6, 42, 27, 51, 45, 63, 87, 41, 81, 27, 50, 63, 93, 70, 62, 78, 86, 67, 53, 49, 87, 89, 38, 76, 8, 92, 74, 51, 96, 25, 7, 19, 14, 69, 9, 49, 7, 28, 14, 10, 6, 25, 65, 53, 81, 13, 4, 38, 16, 6, 87, 26, 81, 7, 27, 14, 42, 96, 73, 1, 77, 76, 25, 94, 67, 6, 6, 16, 70, 20, 29, 1, 17, 60, 52, 95, 85, 82, 20, 19, 65, 52, 54, 18, 91, 3, 75, 80, 3, 10, 82, 22, 92, 46, 17, 29, 46, 68, 37, 53, 84, 12, 33, 45, 77, 30, 45, 16, 1, 91, 79, 78, 7, 75, 76, 75, 67, 98, 22, 45, 18, 85, 3, 11, 59, 10, 44, 1, 54, 76, 62, 31, 48, 95, 23, 6, 4, 26, 8, 46, 67, 16, 11, 79, 59, 50, 69, 96, 89, 24, 20, 61, 81, 2, 48, 60, 15, 34, 99, 48, 82, 6, 77, 79, 20, 58, 98, 21, 35, 25, 14, 26, 20, 58, 7, 61, 69, 41, 7, 92, 6, 54, 69, 58, 69, 6, 42, 50, 26, 26, 57, 70, 75, 98, 86, 88, 23, 38, 88, 70, 20, 8, 90, 88, 12, 54, 91, 24, 30, 34, 39, 91, 2, 2, 78, 1, 49, 68, 30, 17, 79, 56, 22, 35, 55, 47, 12, 49, 3, 20, 51, 2, 9, 42, 53, 33, 76, 67, 26, 75, 62, 3, 73, 85, 98, 11, 61, 2, 44, 56, 20, 1, 4, 26, 53, 1, 32, 85, 28, 43, 95, 9, 81, 27, 87, 71, 82, 62, 100, 21, 17, 24, 10, 45, 31, 82, 35, 74, 71, 81, 6, 82, 45, 79, 28, 18, 50, 56, 64, 37, 48, 51, 52, 88, 49, 90, 37, 39, 25, 99, 80, 68, 73, 19, 94, 40, 88, 68, 96, 46, 17, 52, 88, 86, 26, 15, 14, 66, 50, 69, 26, 47, 32, 20, 78, 73, 46, 40, 38, 59, 98, 90, 99, 25, 35, 34, 42, 95, 29, 36, 8, 74, 62, 89, 98, 62, 42, 22, 31, 31, 69, 69, 21, 22, 56, 4, 41, 66, 43, 75, 50, 79, 31, 58, 5, 72, 5, 52, 61, 96, 76, 15, 52, 14, 87, 84, 85, 69, 70, 12, 78, 81, 37, 6, 1, 36, 11, 30, 42, 12, 64, 43, 7, 90, 11, 64, 89, 44, 85, 63, 37, 49, 86, 23, 50, 37, 47, 13, 51, 45, 42, 96, 24, 91, 82, 88, 20, 95, 24, 96, 32, 43, 48, 94, 30, 100, 79, 37, 73, 81, 32, 49, 43, 45, 98, 92, 43, 64, 85, 73, 84, 93, 2, 80, 67, 84, 8, 1, 23, 35, 66, 21, 54, 19, 87, 45, 43, 37, 51, 31, 41, 10, 82, 51, 88, 75, 76, 28, 67, 33, 57, 76, 44, 62, 31, 51, 8, 37, 43, 87, 95, 54, 75, 69, 26, 53, 36, 20, 98, 74, 61, 28, 20, 29, 74, 75, 17, 25, 71, 3, 10, 2, 13, 58, 27, 59, 25, 12, 59, 91, 45, 76, 29, 48, 44, 47, 36, 73, 27, 46, 13, 96, 1, 35, 14, 19, 55, 79, 38, 25, 89, 35, 86, 5, 97, 19, 72, 23, 63, 36, 21, 44, 14, 17, 33, 41, 63, 8, 58, 11, 76, 44, 78, 5, 71, 51, 34, 8, 71, 67, 11, 49, 80, 26, 38, 49, 31, 26, 64, 67, 23, 66, 45, 25, 43, 83, 20, 12, 41, 57, 77, 93, 3, 96, 9, 83, 96, 83, 88, 18, 91, 21, 85, 98, 77, 94, 93, 66, 73, 27, 62, 2, 48, 42, 11, 89, 5, 99, 89, 46, 82, 6, 53, 3, 43, 45, 92, 74, 77, 81, 91, 68, 49, 38, 25, 15, 74, 27, 50, 17, 100, 11, 41, 69, 73, 86, 16, 32, 27, 62, 14, 76, 63, 86, 72, 53, 4, 63, 51, 77, 5, 31, 27, 61, 7, 20, 78, 18, 83, 7, 48, 88, 89, 25, 46, 92, 15, 29, 62, 7, 40, 74, 67, 25, 76, 74, 99, 3, 3, 47, 70, 1, 57, 37, 10, 82, 31, 74, 75, 76, 100, 81, 21, 30, 53, 47, 90, 31, 85, 52, 6, 5, 97, 5, 13, 18, 33, 18, 35, 24, 83, 37, 75, 19, 21, 71, 41, 93, 54, 56, 23, 91, 55, 30, 36, 1, 93, 10, 10, 98, 100, 86, 21, 44, 6, 83, 98, 87]\n",
            "('age', 'disability', 'gender reassignment', 'marriage and civil partnership', 'pregnancy and maternity', 'race', 'religion or belief', 'sex', 'sexual orientation')\n",
            "['sex', 'race', 'age', 'religion or belief', 'age', 'race', 'sex', 'pregnancy and maternity', 'sexual orientation', 'gender reassignment', 'gender reassignment', 'pregnancy and maternity', 'race', 'sex', 'marriage and civil partnership', 'sex', 'age', 'pregnancy and maternity', 'gender reassignment', 'sexual orientation', 'age', 'sexual orientation', 'marriage and civil partnership', 'marriage and civil partnership', 'disability', 'pregnancy and maternity', 'sex', 'race', 'pregnancy and maternity', 'sex', 'sexual orientation', 'sex', 'marriage and civil partnership', 'race', 'pregnancy and maternity', 'race', 'sexual orientation', 'gender reassignment', 'age', 'sexual orientation', 'sex', 'race', 'religion or belief', 'age', 'marriage and civil partnership', 'disability', 'race', 'sexual orientation', 'gender reassignment', 'pregnancy and maternity', 'disability', 'disability', 'race', 'gender reassignment', 'age', 'gender reassignment', 'disability', 'age', 'disability', 'race', 'disability', 'age', 'disability', 'pregnancy and maternity', 'pregnancy and maternity', 'age', 'sex', 'gender reassignment', 'marriage and civil partnership', 'age', 'disability', 'sexual orientation', 'gender reassignment', 'religion or belief', 'gender reassignment', 'religion or belief', 'gender reassignment', 'age', 'gender reassignment', 'sexual orientation', 'religion or belief', 'age', 'marriage and civil partnership', 'sexual orientation', 'race', 'pregnancy and maternity', 'sex', 'sexual orientation', 'disability', 'marriage and civil partnership', 'religion or belief', 'marriage and civil partnership', 'sexual orientation', 'age', 'religion or belief', 'religion or belief', 'sex', 'sexual orientation', 'sex', 'disability', 'age', 'religion or belief', 'religion or belief', 'religion or belief', 'race', 'pregnancy and maternity', 'disability', 'sexual orientation', 'age', 'marriage and civil partnership', 'age', 'sexual orientation', 'religion or belief', 'gender reassignment', 'sexual orientation', 'marriage and civil partnership', 'pregnancy and maternity', 'religion or belief', 'gender reassignment', 'sex', 'disability', 'disability', 'gender reassignment', 'age', 'age', 'pregnancy and maternity', 'marriage and civil partnership', 'sex', 'disability', 'marriage and civil partnership', 'disability', 'race', 'sex', 'disability', 'disability', 'pregnancy and maternity', 'sex', 'disability', 'gender reassignment', 'sexual orientation', 'marriage and civil partnership', 'race', 'sex', 'age', 'disability', 'sex', 'sexual orientation', 'gender reassignment', 'pregnancy and maternity', 'pregnancy and maternity', 'gender reassignment', 'gender reassignment', 'sex', 'sexual orientation', 'marriage and civil partnership', 'sexual orientation', 'age', 'religion or belief', 'sex', 'gender reassignment', 'age', 'religion or belief', 'disability', 'gender reassignment', 'religion or belief', 'religion or belief', 'sex', 'marriage and civil partnership', 'disability', 'sexual orientation', 'gender reassignment', 'disability', 'sex', 'marriage and civil partnership', 'religion or belief', 'age', 'religion or belief', 'disability', 'sex', 'pregnancy and maternity', 'pregnancy and maternity', 'disability', 'pregnancy and maternity', 'pregnancy and maternity', 'religion or belief', 'gender reassignment', 'disability', 'age', 'pregnancy and maternity', 'gender reassignment', 'race', 'sexual orientation', 'sexual orientation', 'age', 'disability', 'disability', 'disability', 'religion or belief', 'sexual orientation', 'disability', 'gender reassignment', 'marriage and civil partnership', 'sexual orientation', 'sexual orientation', 'marriage and civil partnership', 'sex', 'pregnancy and maternity', 'marriage and civil partnership', 'race', 'disability', 'sexual orientation', 'gender reassignment', 'race', 'sex', 'age', 'sexual orientation', 'disability', 'gender reassignment', 'marriage and civil partnership', 'sexual orientation', 'pregnancy and maternity', 'age', 'gender reassignment', 'pregnancy and maternity', 'religion or belief', 'disability', 'pregnancy and maternity', 'race', 'sex', 'sexual orientation', 'age', 'race', 'religion or belief', 'race', 'pregnancy and maternity', 'disability', 'marriage and civil partnership', 'religion or belief', 'age', 'religion or belief', 'pregnancy and maternity', 'sexual orientation', 'disability', 'sexual orientation', 'gender reassignment', 'gender reassignment', 'marriage and civil partnership', 'age', 'pregnancy and maternity', 'age', 'religion or belief', 'religion or belief', 'age', 'age', 'disability', 'sexual orientation', 'age', 'religion or belief', 'age', 'age', 'age', 'sex', 'sexual orientation', 'age', 'gender reassignment', 'sexual orientation', 'race', 'age', 'gender reassignment', 'age', 'sexual orientation', 'pregnancy and maternity', 'sexual orientation', 'religion or belief', 'sexual orientation', 'age', 'race', 'pregnancy and maternity', 'age', 'disability', 'marriage and civil partnership', 'gender reassignment', 'marriage and civil partnership', 'marriage and civil partnership', 'sexual orientation', 'disability', 'sex', 'race', 'disability', 'marriage and civil partnership', 'marriage and civil partnership', 'age', 'gender reassignment', 'marriage and civil partnership', 'religion or belief', 'race', 'pregnancy and maternity', 'age', 'pregnancy and maternity', 'disability', 'sex', 'religion or belief', 'disability', 'marriage and civil partnership', 'age', 'gender reassignment', 'marriage and civil partnership', 'pregnancy and maternity', 'race', 'disability', 'gender reassignment', 'pregnancy and maternity', 'religion or belief', 'disability', 'gender reassignment', 'sex', 'sexual orientation', 'pregnancy and maternity', 'religion or belief', 'marriage and civil partnership', 'age', 'race', 'religion or belief', 'pregnancy and maternity', 'race', 'pregnancy and maternity', 'sexual orientation', 'age', 'sexual orientation', 'gender reassignment', 'sexual orientation', 'race', 'race', 'pregnancy and maternity', 'marriage and civil partnership', 'age', 'religion or belief', 'disability', 'sexual orientation', 'disability', 'race', 'pregnancy and maternity', 'gender reassignment', 'sex', 'age', 'age', 'gender reassignment', 'religion or belief', 'pregnancy and maternity', 'disability', 'race', 'disability', 'sexual orientation', 'gender reassignment', 'marriage and civil partnership', 'age', 'sex', 'sex', 'marriage and civil partnership', 'religion or belief', 'pregnancy and maternity', 'gender reassignment', 'marriage and civil partnership', 'religion or belief', 'religion or belief', 'disability', 'race', 'gender reassignment', 'race', 'sexual orientation', 'race', 'age', 'sex', 'disability', 'religion or belief', 'marriage and civil partnership', 'sex', 'religion or belief', 'marriage and civil partnership', 'religion or belief', 'sexual orientation', 'race', 'pregnancy and maternity', 'race', 'age', 'disability', 'religion or belief', 'disability', 'marriage and civil partnership', 'disability', 'sex', 'sex', 'gender reassignment', 'pregnancy and maternity', 'sex', 'disability', 'pregnancy and maternity', 'age', 'race', 'age', 'race', 'age', 'sexual orientation', 'religion or belief', 'disability', 'race', 'sexual orientation', 'religion or belief', 'disability', 'sexual orientation', 'marriage and civil partnership', 'sexual orientation', 'religion or belief', 'race', 'disability', 'pregnancy and maternity', 'age', 'sexual orientation', 'sexual orientation', 'sexual orientation', 'sexual orientation', 'race', 'pregnancy and maternity', 'sexual orientation', 'pregnancy and maternity', 'age', 'disability', 'gender reassignment', 'religion or belief', 'pregnancy and maternity', 'gender reassignment', 'sexual orientation', 'race', 'sex', 'gender reassignment', 'religion or belief', 'marriage and civil partnership', 'age', 'religion or belief', 'sex', 'religion or belief', 'age', 'gender reassignment', 'gender reassignment', 'race', 'gender reassignment', 'race', 'pregnancy and maternity', 'sexual orientation', 'pregnancy and maternity', 'disability', 'pregnancy and maternity', 'marriage and civil partnership', 'sex', 'pregnancy and maternity', 'sexual orientation', 'disability', 'race', 'religion or belief', 'marriage and civil partnership', 'race', 'gender reassignment', 'sex', 'age', 'religion or belief', 'sexual orientation', 'sexual orientation', 'religion or belief', 'sexual orientation', 'religion or belief', 'pregnancy and maternity', 'sexual orientation', 'pregnancy and maternity', 'age', 'race', 'religion or belief', 'race', 'sexual orientation', 'religion or belief', 'sex', 'sex', 'gender reassignment', 'marriage and civil partnership', 'sexual orientation', 'sex', 'disability', 'sexual orientation', 'age', 'disability', 'sexual orientation', 'marriage and civil partnership', 'disability', 'sexual orientation', 'marriage and civil partnership', 'age', 'gender reassignment', 'marriage and civil partnership', 'sexual orientation', 'pregnancy and maternity', 'age', 'disability', 'sexual orientation', 'race', 'pregnancy and maternity', 'religion or belief', 'sex', 'sex', 'pregnancy and maternity', 'religion or belief', 'sex', 'disability', 'marriage and civil partnership', 'religion or belief', 'sexual orientation', 'disability', 'race', 'sex', 'age', 'religion or belief', 'sexual orientation', 'age', 'sex', 'religion or belief', 'gender reassignment', 'religion or belief', 'pregnancy and maternity', 'religion or belief', 'religion or belief', 'disability', 'sexual orientation', 'pregnancy and maternity', 'sex', 'pregnancy and maternity', 'disability', 'pregnancy and maternity', 'marriage and civil partnership', 'pregnancy and maternity', 'gender reassignment', 'pregnancy and maternity', 'pregnancy and maternity', 'gender reassignment', 'sexual orientation', 'race', 'pregnancy and maternity', 'pregnancy and maternity', 'age', 'marriage and civil partnership', 'sexual orientation', 'pregnancy and maternity', 'marriage and civil partnership', 'sexual orientation', 'age', 'pregnancy and maternity', 'pregnancy and maternity', 'marriage and civil partnership', 'gender reassignment', 'marriage and civil partnership', 'pregnancy and maternity', 'religion or belief', 'religion or belief', 'marriage and civil partnership', 'disability', 'religion or belief', 'sex', 'race', 'race', 'gender reassignment', 'sexual orientation', 'pregnancy and maternity', 'pregnancy and maternity', 'pregnancy and maternity', 'marriage and civil partnership', 'sex', 'gender reassignment', 'age', 'gender reassignment', 'religion or belief', 'sexual orientation', 'race', 'sexual orientation', 'age', 'sex', 'disability', 'gender reassignment', 'gender reassignment', 'gender reassignment', 'pregnancy and maternity', 'sex', 'sex', 'sexual orientation', 'religion or belief', 'age', 'disability', 'pregnancy and maternity', 'race', 'race', 'sex', 'gender reassignment', 'disability', 'sex', 'age', 'disability', 'age', 'race', 'marriage and civil partnership', 'sexual orientation', 'race', 'marriage and civil partnership', 'pregnancy and maternity', 'sexual orientation', 'religion or belief', 'marriage and civil partnership', 'religion or belief', 'gender reassignment', 'marriage and civil partnership', 'pregnancy and maternity', 'sex', 'marriage and civil partnership', 'pregnancy and maternity', 'religion or belief', 'race', 'sexual orientation', 'sex', 'religion or belief', 'sexual orientation', 'sexual orientation', 'pregnancy and maternity', 'race', 'race', 'race', 'marriage and civil partnership', 'disability', 'disability', 'sex', 'marriage and civil partnership', 'age', 'marriage and civil partnership', 'marriage and civil partnership', 'race', 'pregnancy and maternity', 'gender reassignment', 'sexual orientation', 'sexual orientation', 'gender reassignment', 'marriage and civil partnership', 'sexual orientation', 'age', 'age', 'marriage and civil partnership', 'religion or belief', 'religion or belief', 'sex', 'age', 'religion or belief', 'disability', 'marriage and civil partnership', 'race', 'pregnancy and maternity', 'religion or belief', 'disability', 'marriage and civil partnership', 'sexual orientation', 'age', 'sexual orientation', 'race', 'age', 'religion or belief', 'race', 'sex', 'gender reassignment', 'age', 'sex', 'sex', 'age', 'pregnancy and maternity', 'sex', 'sex', 'sexual orientation', 'sexual orientation', 'religion or belief', 'religion or belief', 'age', 'disability', 'gender reassignment', 'gender reassignment', 'religion or belief', 'disability', 'age', 'sexual orientation', 'disability', 'marriage and civil partnership', 'religion or belief', 'sex', 'religion or belief', 'age', 'race', 'disability', 'pregnancy and maternity', 'age', 'marriage and civil partnership', 'sexual orientation', 'pregnancy and maternity', 'sex', 'gender reassignment', 'pregnancy and maternity', 'religion or belief', 'age', 'marriage and civil partnership', 'pregnancy and maternity', 'race', 'race', 'age', 'marriage and civil partnership', 'pregnancy and maternity', 'marriage and civil partnership', 'gender reassignment', 'sexual orientation', 'pregnancy and maternity', 'race', 'pregnancy and maternity', 'age', 'age', 'disability', 'sexual orientation', 'religion or belief', 'religion or belief', 'gender reassignment', 'gender reassignment', 'disability', 'sexual orientation', 'gender reassignment', 'age', 'sex', 'race', 'religion or belief', 'marriage and civil partnership', 'marriage and civil partnership', 'sexual orientation', 'sex', 'marriage and civil partnership', 'sex', 'age', 'disability', 'marriage and civil partnership', 'sex', 'pregnancy and maternity', 'disability', 'age', 'sexual orientation', 'religion or belief', 'marriage and civil partnership', 'marriage and civil partnership', 'sexual orientation', 'religion or belief', 'disability', 'disability', 'pregnancy and maternity', 'sexual orientation', 'race', 'race', 'gender reassignment', 'marriage and civil partnership', 'sexual orientation', 'sexual orientation', 'sexual orientation', 'gender reassignment', 'disability', 'marriage and civil partnership', 'disability', 'pregnancy and maternity', 'pregnancy and maternity', 'race', 'disability', 'age', 'sexual orientation', 'age', 'religion or belief', 'sex', 'sexual orientation', 'religion or belief', 'religion or belief', 'age', 'sex', 'pregnancy and maternity', 'age', 'gender reassignment', 'age', 'disability', 'sexual orientation', 'disability', 'marriage and civil partnership', 'pregnancy and maternity', 'age', 'pregnancy and maternity', 'age', 'race', 'pregnancy and maternity', 'religion or belief', 'sex', 'sexual orientation', 'sexual orientation', 'sexual orientation', 'gender reassignment', 'gender reassignment', 'age', 'gender reassignment', 'pregnancy and maternity', 'pregnancy and maternity', 'pregnancy and maternity', 'sexual orientation', 'sexual orientation', 'marriage and civil partnership', 'age', 'age', 'race', 'sex', 'disability', 'marriage and civil partnership', 'pregnancy and maternity', 'religion or belief', 'marriage and civil partnership', 'race', 'religion or belief', 'gender reassignment', 'race', 'disability', 'gender reassignment', 'marriage and civil partnership', 'race', 'gender reassignment', 'disability', 'marriage and civil partnership', 'religion or belief', 'gender reassignment', 'religion or belief', 'disability', 'age', 'disability', 'race', 'sexual orientation', 'sexual orientation', 'age', 'age', 'race', 'sexual orientation', 'gender reassignment', 'religion or belief', 'religion or belief', 'age', 'disability', 'gender reassignment', 'race', 'sex', 'age', 'gender reassignment', 'religion or belief', 'age', 'sexual orientation', 'gender reassignment', 'race', 'sex', 'age', 'sex', 'religion or belief', 'age', 'race', 'race', 'marriage and civil partnership', 'race', 'marriage and civil partnership', 'race', 'pregnancy and maternity', 'gender reassignment', 'sex', 'pregnancy and maternity', 'age', 'pregnancy and maternity', 'race', 'marriage and civil partnership', 'gender reassignment', 'marriage and civil partnership', 'race', 'race', 'gender reassignment', 'disability', 'gender reassignment', 'marriage and civil partnership', 'pregnancy and maternity', 'disability', 'sexual orientation', 'gender reassignment', 'gender reassignment', 'gender reassignment', 'sexual orientation', 'sex', 'pregnancy and maternity', 'sexual orientation', 'sexual orientation', 'pregnancy and maternity', 'age', 'marriage and civil partnership', 'disability', 'pregnancy and maternity', 'age', 'marriage and civil partnership', 'disability', 'race', 'marriage and civil partnership', 'pregnancy and maternity', 'age', 'sex', 'sex', 'disability', 'religion or belief', 'disability', 'race', 'religion or belief', 'religion or belief', 'gender reassignment', 'gender reassignment', 'age', 'pregnancy and maternity', 'race', 'sexual orientation', 'disability', 'gender reassignment', 'pregnancy and maternity', 'disability', 'sex', 'pregnancy and maternity', 'pregnancy and maternity', 'marriage and civil partnership', 'disability', 'race', 'religion or belief', 'race', 'religion or belief', 'religion or belief', 'gender reassignment', 'pregnancy and maternity', 'age', 'disability', 'marriage and civil partnership', 'pregnancy and maternity', 'disability', 'sex', 'gender reassignment', 'gender reassignment', 'disability', 'pregnancy and maternity', 'pregnancy and maternity', 'sex', 'age', 'age', 'religion or belief', 'age', 'marriage and civil partnership', 'age', 'age', 'disability', 'gender reassignment', 'marriage and civil partnership', 'sex', 'sexual orientation', 'religion or belief', 'race', 'religion or belief', 'pregnancy and maternity', 'pregnancy and maternity', 'sex', 'sexual orientation', 'gender reassignment', 'sex', 'marriage and civil partnership', 'race', 'sex', 'sex', 'race', 'pregnancy and maternity', 'sex', 'religion or belief', 'gender reassignment', 'race', 'disability', 'marriage and civil partnership', 'sex', 'sexual orientation', 'age', 'pregnancy and maternity', 'sex', 'religion or belief', 'race', 'sexual orientation', 'religion or belief', 'pregnancy and maternity', 'religion or belief', 'pregnancy and maternity', 'sexual orientation', 'pregnancy and maternity', 'marriage and civil partnership', 'sexual orientation', 'race', 'age', 'marriage and civil partnership', 'gender reassignment', 'sex', 'sexual orientation', 'marriage and civil partnership', 'sexual orientation', 'gender reassignment', 'sexual orientation', 'pregnancy and maternity', 'age', 'pregnancy and maternity', 'sexual orientation', 'gender reassignment', 'race', 'religion or belief', 'religion or belief', 'race', 'disability', 'religion or belief', 'religion or belief', 'race', 'marriage and civil partnership', 'race', 'pregnancy and maternity', 'sex', 'gender reassignment', 'disability', 'gender reassignment', 'sex', 'race', 'gender reassignment', 'religion or belief', 'marriage and civil partnership', 'sex', 'religion or belief', 'age', 'sex', 'disability', 'race', 'gender reassignment', 'pregnancy and maternity', 'gender reassignment', 'religion or belief', 'age', 'disability', 'age', 'gender reassignment', 'disability', 'sex', 'marriage and civil partnership', 'age', 'race', 'age', 'age', 'age', 'disability', 'race', 'age', 'religion or belief', 'religion or belief', 'marriage and civil partnership', 'sex', 'sexual orientation', 'pregnancy and maternity', 'religion or belief', 'race', 'age', 'pregnancy and maternity', 'pregnancy and maternity', 'marriage and civil partnership', 'gender reassignment', 'religion or belief', 'pregnancy and maternity', 'pregnancy and maternity', 'pregnancy and maternity', 'religion or belief', 'religion or belief', 'gender reassignment', 'pregnancy and maternity', 'sexual orientation', 'pregnancy and maternity', 'religion or belief', 'age', 'sexual orientation', 'pregnancy and maternity', 'race', 'sexual orientation', 'age', 'age', 'sex', 'marriage and civil partnership', 'age', 'age', 'marriage and civil partnership', 'religion or belief', 'age', 'sex', 'gender reassignment', 'marriage and civil partnership', 'age', 'gender reassignment', 'sexual orientation', 'disability', 'marriage and civil partnership', 'age']\n"
          ]
        }
      ]
    },
    {
      "cell_type": "markdown",
      "metadata": {
        "id": "xXT38-4ZV45n"
      },
      "source": [
        "## The exercises below will use the lists:  \n",
        "*   **nums** (a list of between 1 and 1000 random numbers, each number is between 0 and 1000)\n",
        "*   **characteristics** (a list of 5000 random protected_characteristics)\n",
        "\n",
        "and the tuple:\n",
        "*  **protected_characteristics** (a set of the 9 protected characteristics identified in the Equality Act)\n",
        "\n",
        "## You can run the cell above any number of times to generate new lists."
      ]
    },
    {
      "cell_type": "markdown",
      "metadata": {
        "id": "Ft0dXl7fUuaK"
      },
      "source": [
        "---\n",
        "### Exercise 1 - list head, tail and shape\n",
        "\n",
        "Write a function, **describe_list()** which will:\n",
        "*  print the length of the list `nums`\n",
        "*  print the first 10 items in `nums`  \n",
        "*  print the last 5 items in `nums`"
      ]
    },
    {
      "cell_type": "code",
      "metadata": {
        "id": "jUcZD7mmTJdA",
        "colab": {
          "base_uri": "https://localhost:8080/"
        },
        "outputId": "cfe6ed04-b78c-43d8-b5fc-d3805b37c242"
      },
      "source": [
        "def describe_list(nums):\n",
        "  print(\"Num list :\", nums)\n",
        "  print(\"The length of list : \",len(nums))\n",
        "  print(\"First 10 items of the list :\", nums[:10])\n",
        "  print(\"Last 5 items of the list :\",nums[-5:])\n",
        "\n",
        "num_list = get_num_list()\n",
        "describe_list(nums)"
      ],
      "execution_count": 4,
      "outputs": [
        {
          "output_type": "stream",
          "name": "stdout",
          "text": [
            "Num list : [27, 88, 17, 8, 12, 69, 36, 50, 55, 67, 8, 30, 49, 72, 60, 13, 77, 51, 81, 38, 14, 72, 66, 56, 17, 98, 36, 27, 75, 81, 13, 56, 8, 71, 72, 60, 65, 100, 23, 90, 58, 67, 36, 11, 26, 42, 59, 48, 51, 8, 38, 68, 72, 95, 29, 24, 20, 86, 14, 48, 97, 88, 17, 96, 36, 97, 57, 95, 38, 34, 85, 60, 95, 73, 80, 40, 34, 89, 37, 83, 7, 16, 70, 41, 19, 54, 32, 59, 57, 46, 79, 47, 28, 32, 70, 81, 27, 60, 76, 50, 4, 64, 95, 85, 28, 75, 34, 2, 9, 2, 60, 15, 12, 97, 20, 65, 74, 55, 34, 78, 71, 1, 7, 35, 62, 46, 95, 80, 11, 44, 31, 98, 61, 82, 11, 17, 7, 58, 9, 31, 51, 72, 15, 45, 11, 40, 44, 11, 67, 32, 44, 54, 81, 24, 99, 57, 4, 60, 4, 88, 47, 93, 76, 50, 40, 67, 61, 97, 76, 12, 61, 31, 33, 85, 17, 38, 24, 99, 28, 99, 91, 30, 77, 87, 28, 60, 11, 33, 28, 86, 60, 64, 17, 81, 100, 67, 84, 85, 87, 20, 24, 7, 7, 40, 62, 40, 89, 44, 10, 55, 93, 11, 77, 95, 1, 15, 50, 14, 84, 30, 46, 48, 17, 19, 63, 4, 26, 40, 75, 92, 83, 94, 34, 73, 99, 44, 48, 31, 13, 36, 52, 39, 75, 5, 56, 10, 93, 57, 96, 81, 63, 100, 17, 19, 52, 62, 55, 83, 74, 56, 30, 84, 6, 42, 27, 51, 45, 63, 87, 41, 81, 27, 50, 63, 93, 70, 62, 78, 86, 67, 53, 49, 87, 89, 38, 76, 8, 92, 74, 51, 96, 25, 7, 19, 14, 69, 9, 49, 7, 28, 14, 10, 6, 25, 65, 53, 81, 13, 4, 38, 16, 6, 87, 26, 81, 7, 27, 14, 42, 96, 73, 1, 77, 76, 25, 94, 67, 6, 6, 16, 70, 20, 29, 1, 17, 60, 52, 95, 85, 82, 20, 19, 65, 52, 54, 18, 91, 3, 75, 80, 3, 10, 82, 22, 92, 46, 17, 29, 46, 68, 37, 53, 84, 12, 33, 45, 77, 30, 45, 16, 1, 91, 79, 78, 7, 75, 76, 75, 67, 98, 22, 45, 18, 85, 3, 11, 59, 10, 44, 1, 54, 76, 62, 31, 48, 95, 23, 6, 4, 26, 8, 46, 67, 16, 11, 79, 59, 50, 69, 96, 89, 24, 20, 61, 81, 2, 48, 60, 15, 34, 99, 48, 82, 6, 77, 79, 20, 58, 98, 21, 35, 25, 14, 26, 20, 58, 7, 61, 69, 41, 7, 92, 6, 54, 69, 58, 69, 6, 42, 50, 26, 26, 57, 70, 75, 98, 86, 88, 23, 38, 88, 70, 20, 8, 90, 88, 12, 54, 91, 24, 30, 34, 39, 91, 2, 2, 78, 1, 49, 68, 30, 17, 79, 56, 22, 35, 55, 47, 12, 49, 3, 20, 51, 2, 9, 42, 53, 33, 76, 67, 26, 75, 62, 3, 73, 85, 98, 11, 61, 2, 44, 56, 20, 1, 4, 26, 53, 1, 32, 85, 28, 43, 95, 9, 81, 27, 87, 71, 82, 62, 100, 21, 17, 24, 10, 45, 31, 82, 35, 74, 71, 81, 6, 82, 45, 79, 28, 18, 50, 56, 64, 37, 48, 51, 52, 88, 49, 90, 37, 39, 25, 99, 80, 68, 73, 19, 94, 40, 88, 68, 96, 46, 17, 52, 88, 86, 26, 15, 14, 66, 50, 69, 26, 47, 32, 20, 78, 73, 46, 40, 38, 59, 98, 90, 99, 25, 35, 34, 42, 95, 29, 36, 8, 74, 62, 89, 98, 62, 42, 22, 31, 31, 69, 69, 21, 22, 56, 4, 41, 66, 43, 75, 50, 79, 31, 58, 5, 72, 5, 52, 61, 96, 76, 15, 52, 14, 87, 84, 85, 69, 70, 12, 78, 81, 37, 6, 1, 36, 11, 30, 42, 12, 64, 43, 7, 90, 11, 64, 89, 44, 85, 63, 37, 49, 86, 23, 50, 37, 47, 13, 51, 45, 42, 96, 24, 91, 82, 88, 20, 95, 24, 96, 32, 43, 48, 94, 30, 100, 79, 37, 73, 81, 32, 49, 43, 45, 98, 92, 43, 64, 85, 73, 84, 93, 2, 80, 67, 84, 8, 1, 23, 35, 66, 21, 54, 19, 87, 45, 43, 37, 51, 31, 41, 10, 82, 51, 88, 75, 76, 28, 67, 33, 57, 76, 44, 62, 31, 51, 8, 37, 43, 87, 95, 54, 75, 69, 26, 53, 36, 20, 98, 74, 61, 28, 20, 29, 74, 75, 17, 25, 71, 3, 10, 2, 13, 58, 27, 59, 25, 12, 59, 91, 45, 76, 29, 48, 44, 47, 36, 73, 27, 46, 13, 96, 1, 35, 14, 19, 55, 79, 38, 25, 89, 35, 86, 5, 97, 19, 72, 23, 63, 36, 21, 44, 14, 17, 33, 41, 63, 8, 58, 11, 76, 44, 78, 5, 71, 51, 34, 8, 71, 67, 11, 49, 80, 26, 38, 49, 31, 26, 64, 67, 23, 66, 45, 25, 43, 83, 20, 12, 41, 57, 77, 93, 3, 96, 9, 83, 96, 83, 88, 18, 91, 21, 85, 98, 77, 94, 93, 66, 73, 27, 62, 2, 48, 42, 11, 89, 5, 99, 89, 46, 82, 6, 53, 3, 43, 45, 92, 74, 77, 81, 91, 68, 49, 38, 25, 15, 74, 27, 50, 17, 100, 11, 41, 69, 73, 86, 16, 32, 27, 62, 14, 76, 63, 86, 72, 53, 4, 63, 51, 77, 5, 31, 27, 61, 7, 20, 78, 18, 83, 7, 48, 88, 89, 25, 46, 92, 15, 29, 62, 7, 40, 74, 67, 25, 76, 74, 99, 3, 3, 47, 70, 1, 57, 37, 10, 82, 31, 74, 75, 76, 100, 81, 21, 30, 53, 47, 90, 31, 85, 52, 6, 5, 97, 5, 13, 18, 33, 18, 35, 24, 83, 37, 75, 19, 21, 71, 41, 93, 54, 56, 23, 91, 55, 30, 36, 1, 93, 10, 10, 98, 100, 86, 21, 44, 6, 83, 98, 87]\n",
            "The length of list :  1000\n",
            "First 10 items of the list : [27, 88, 17, 8, 12, 69, 36, 50, 55, 67]\n",
            "Last 5 items of the list : [44, 6, 83, 98, 87]\n"
          ]
        }
      ]
    },
    {
      "cell_type": "markdown",
      "metadata": {
        "id": "yNWg08k6bXv0"
      },
      "source": [
        "---\n",
        "### Exercise 2 - show tuple items\n",
        "\n",
        "Write a function which will:\n",
        "*   use a loop to print the list of protected characteristics from the `protected_characteristics` tuple.\n"
      ]
    },
    {
      "cell_type": "code",
      "metadata": {
        "id": "P2HnCG9pb1BS",
        "colab": {
          "base_uri": "https://localhost:8080/"
        },
        "outputId": "ee8d5468-0a46-4ce1-c977-212d934ca9e3"
      },
      "source": [
        "def show_tuple_using_loop(protected_characteristics):\n",
        "  for item in protected_characteristics:\n",
        "    print(item)\n",
        "\n",
        "protected_characteristics = get_protected_characteristics()\n",
        "show_tuple_using_loop(protected_characteristics)"
      ],
      "execution_count": 5,
      "outputs": [
        {
          "output_type": "stream",
          "name": "stdout",
          "text": [
            "age\n",
            "disability\n",
            "gender reassignment\n",
            "marriage and civil partnership\n",
            "pregnancy and maternity\n",
            "race\n",
            "religion or belief\n",
            "sex\n",
            "sexual orientation\n"
          ]
        }
      ]
    },
    {
      "cell_type": "markdown",
      "metadata": {
        "id": "RTSuQZs4b1JU"
      },
      "source": [
        "---\n",
        "### Exercise 3 - list a random subset\n",
        "\n",
        "Write a function which will:\n",
        "*  calculate the position of the middle item in the `characteristics` list   \n",
        "(*Hint: use len() to help with this*)\n",
        "*  calculate the position of the item that is 5 places before the middle item\n",
        "*  calculate the position of the item that is 5 places after the middle item\n",
        "*  print the part of the list that includes the items from 5 places before to 5 places after.  \n",
        "\n",
        "Expected output:  \n",
        "Your list will include 11 items."
      ]
    },
    {
      "cell_type": "code",
      "metadata": {
        "id": "OwhFnH2kdC11",
        "colab": {
          "base_uri": "https://localhost:8080/"
        },
        "outputId": "d4de3504-d36b-4e6a-a8da-eb54f73df171"
      },
      "source": [
        "def print_subset(characteristics, start_item, end_item):\n",
        "  print(characteristics[start_item:end_item])\n",
        "\n",
        "\n",
        "protected_characteristics = get_protected_characteristics()\n",
        "characteristics = get_protected_characteristic_list(protected_characteristics)\n",
        "middle_item = len(characteristics) // 2\n",
        "start_item = middle_item - 5\n",
        "end_item = middle_item + 6\n",
        "print_subset(characteristics, start_item, end_item)"
      ],
      "execution_count": 6,
      "outputs": [
        {
          "output_type": "stream",
          "name": "stdout",
          "text": [
            "['sexual orientation', 'pregnancy and maternity', 'sexual orientation', 'religion or belief', 'sex', 'sex', 'disability', 'sex', 'race', 'religion or belief', 'pregnancy and maternity']\n"
          ]
        }
      ]
    },
    {
      "cell_type": "markdown",
      "metadata": {
        "id": "KS0x3oFNePI9"
      },
      "source": [
        "---\n",
        "### Exercise 4 - create a copy\n",
        "\n",
        "Write a function which will: use a for loop to create a copy of the `nums` list:\n",
        "\n",
        "*   create a new, empty, list called **new_nums**  (*Hint: an empty list is [ ]*)\n",
        "*   use a for loop which uses the following syntax:  `for num in nums:`\n",
        "*   each time round the loop append `num` to `new_nums`  ( *`new_nums.append(num)`*)\n",
        "*   print the first 10 items of `new_nums`\n",
        "*   print the first 10 items of `nums`\n",
        "*   print the length of both lists"
      ]
    },
    {
      "cell_type": "code",
      "metadata": {
        "id": "mpK1Ip3we-uC",
        "colab": {
          "base_uri": "https://localhost:8080/"
        },
        "outputId": "7d6d7424-dd8d-4016-b2d1-3dd0dfd68bb0"
      },
      "source": [
        "def copy_list(nums):\n",
        "  new_nums = []\n",
        "  for num in nums:\n",
        "    new_nums.append(num)\n",
        "  return new_nums\n",
        "\n",
        "\n",
        "nums = get_num_list()\n",
        "new_nums = copy_list(nums)\n",
        "print(\"First 10 items of new_nums :\", new_nums[:10])\n",
        "print(\"First 10 items of nums :\", nums[:10])\n",
        "print(\"Length of new_nums :\", len(new_nums))\n",
        "print(\"Length of nums :\", len(nums))\n"
      ],
      "execution_count": 7,
      "outputs": [
        {
          "output_type": "stream",
          "name": "stdout",
          "text": [
            "First 10 items of new_nums : [78, 28, 10, 63, 36, 29, 33, 38, 34, 76]\n",
            "First 10 items of nums : [78, 28, 10, 63, 36, 29, 33, 38, 34, 76]\n",
            "Length of new_nums : 1000\n",
            "Length of nums : 1000\n"
          ]
        }
      ]
    },
    {
      "cell_type": "markdown",
      "metadata": {
        "id": "deUIFWjRe-3G"
      },
      "source": [
        "\n",
        "\n",
        "```\n",
        "# This is formatted as code\n",
        "```\n",
        "\n",
        "---\n",
        "### Exercise 5 - count the occurrence of age in characteristics\n",
        "\n",
        "Write a function which will use the list method:\n",
        "\n",
        "`num_items = list_name.count(item)`\n",
        "\n",
        "to count the number of occurrences of 'age' in the `characteristics` list.  Print the result."
      ]
    },
    {
      "cell_type": "code",
      "metadata": {
        "id": "b9TrHQ9hfoIU",
        "colab": {
          "base_uri": "https://localhost:8080/"
        },
        "outputId": "8b089372-b04e-4fa0-8510-16d249dc6dcb"
      },
      "source": [
        "def count_occurrence_of(list_name, item):\n",
        "  num_items = list_name.count(item)\n",
        "  return num_items\n",
        "\n",
        "protected_characteristics = get_protected_characteristics()\n",
        "characteristics = get_protected_characteristic_list(protected_characteristics)\n",
        "print(\"The occurrence of 'age' in the list:\", count_occurrence_of(characteristics, 'age'))\n"
      ],
      "execution_count": 8,
      "outputs": [
        {
          "output_type": "stream",
          "name": "stdout",
          "text": [
            "The occurrence of 'age' in the list: 472\n"
          ]
        }
      ]
    },
    {
      "cell_type": "markdown",
      "metadata": {
        "id": "zm2VI5RmfoSy"
      },
      "source": [
        "---\n",
        "### Exercise 6 - sort the nums list\n",
        "\n",
        "Write a function which will:\n",
        "*   call the function `get_num_list()` and store the result in a new list called **sort_nums**\n",
        "*   print the first, and last, 20 items in the `sort_nums` list\n",
        "*   use the `list_name.sort()` method to sort the `sort_nums` list into ascending order\n",
        "*   print the first, and last, 20 items again  \n",
        "*   use the `list_name.sort()` method again to sort the `sort_nums` list into descending order\n",
        "*   print the first, and last, 20 items again"
      ]
    },
    {
      "cell_type": "markdown",
      "source": [
        "List Sort function syntax : list.sort(reverse=True|False, key=myFunc)\n",
        "\n",
        "reverse\tOptional. reverse=True will sort the list descending. Default is reverse=False.\n",
        "\n",
        "key\tOptional. A function to specify the sorting criteria(s)"
      ],
      "metadata": {
        "id": "uNJkd9zHMsAC"
      }
    },
    {
      "cell_type": "code",
      "metadata": {
        "id": "Fksgpj9JgWDs",
        "colab": {
          "base_uri": "https://localhost:8080/"
        },
        "outputId": "5f1e911d-4bf3-4247-92b4-5fb229b321be"
      },
      "source": [
        "nums = get_num_list()\n",
        "nums.sort()\n",
        "print(\"The first 20 items :\", nums[:20])\n",
        "print(\"The last 20 items :\", nums[-20:])\n",
        "nums.sort(reverse=False)\n",
        "print(\"The first 20 items in ascending list:\", nums[:20])\n",
        "print(\"The last 20 items in ascending list:\", nums[-20:])\n",
        "nums.sort(reverse=True)\n",
        "print(\"The first 20 items in descending list:\", nums[:20])\n",
        "print(\"The last 20 items in descending list:\", nums[-20:])"
      ],
      "execution_count": 9,
      "outputs": [
        {
          "output_type": "stream",
          "name": "stdout",
          "text": [
            "The first 20 items : [1, 1, 1, 1, 1, 1, 1, 1, 1, 1, 1, 1, 1, 1, 1, 1, 1, 1, 1, 1]\n",
            "The last 20 items : [99, 99, 99, 99, 99, 99, 99, 99, 99, 100, 100, 100, 100, 100, 100, 100, 100, 100, 100, 100]\n",
            "The first 20 items in ascending list: [1, 1, 1, 1, 1, 1, 1, 1, 1, 1, 1, 1, 1, 1, 1, 1, 1, 1, 1, 1]\n",
            "The last 20 items in ascending list: [99, 99, 99, 99, 99, 99, 99, 99, 99, 100, 100, 100, 100, 100, 100, 100, 100, 100, 100, 100]\n",
            "The first 20 items in descending list: [100, 100, 100, 100, 100, 100, 100, 100, 100, 100, 100, 99, 99, 99, 99, 99, 99, 99, 99, 99]\n",
            "The last 20 items in descending list: [1, 1, 1, 1, 1, 1, 1, 1, 1, 1, 1, 1, 1, 1, 1, 1, 1, 1, 1, 1]\n"
          ]
        }
      ]
    },
    {
      "cell_type": "markdown",
      "metadata": {
        "id": "_OF-Xuj1UrW0"
      },
      "source": [
        "---\n",
        "### Exercise 7 - get statistics (max(), min(), sum() )\n",
        "\n",
        "Write a function which will:\n",
        "*   print the maximum and minimum numbers in the `nums` list  \n",
        "*   print the sum of the `nums` list\n",
        "*   calculate and print the average of the `nums` list (using `len()` to help)"
      ]
    },
    {
      "cell_type": "code",
      "metadata": {
        "id": "9YmYMenZVGod",
        "colab": {
          "base_uri": "https://localhost:8080/"
        },
        "outputId": "9e7937ba-0693-4b89-bc50-0ed86466cbe8"
      },
      "source": [
        "nums = get_num_list()\n",
        "print(\"The maximum number in the list :\", max(nums))\n",
        "print(\"The minimum number in the list :\", min(nums))\n",
        "print(\"The sum of the list :\", sum(nums))\n",
        "print(\"The no items in the list :\", len(nums))\n",
        "print(\"The average of the list :\", sum(nums)/len(nums))"
      ],
      "execution_count": 10,
      "outputs": [
        {
          "output_type": "stream",
          "name": "stdout",
          "text": [
            "The maximum number in the list : 100\n",
            "The minimum number in the list : 1\n",
            "The sum of the list : 49973\n",
            "The no items in the list : 1000\n",
            "The average of the list : 49.973\n"
          ]
        }
      ]
    },
    {
      "cell_type": "markdown",
      "metadata": {
        "id": "Mn4tHQ_KVbHa"
      },
      "source": [
        "---\n",
        "### Exercise 8 - percentage difference\n",
        "\n",
        "Write a function which will:\n",
        "*   generate a new list called **ex8_nums** using `get_num_list()`\n",
        "*   calculate and print the percentage difference between the first number in each list (as a percentage of the number in the nums list) (Hint:  find the difference between the two numbers, divide the difference by the number in `nums` and multiply by 100)\n",
        "*   calculate and print the percentage difference between the last numbers in each list in the same way\n",
        "*   calculate and print the percentage difference between the middle numbers in each list in the same way.\n",
        "*   calculate and print the percentage difference between the sums of each list in the same way"
      ]
    },
    {
      "cell_type": "code",
      "metadata": {
        "id": "nJCQjZIeZL0e",
        "colab": {
          "base_uri": "https://localhost:8080/"
        },
        "outputId": "5500063f-0cd5-42eb-ce8e-6873c7aea4e7"
      },
      "source": [
        "nums = get_num_list()\n",
        "ex8_nums = get_num_list()\n",
        "print(\"The first number in the ex8_nums list :\", ex8_nums[0])\n",
        "print(\"The first number in the nums list :\", nums[0])\n",
        "perc_diff1 = round((ex8_nums[0] - nums[0]) / nums[0] * 100,2)\n",
        "print(\"The percentage difference between the first number in each list :\", perc_diff1)\n",
        "\n",
        "print(\"The last number in the ex8_nums list :\", ex8_nums[-1])\n",
        "print(\"The last number in the nums list :\", nums[-1])\n",
        "perc_diff2 = round((ex8_nums[-1] - nums[-1]) / nums[-1] * 100,2)\n",
        "print(\"The percentage difference between the last number in each list :\", perc_diff2)\n",
        "\n",
        "print(\"The middle number in the ex8_nums list :\", ex8_nums[len(ex8_nums)//2])\n",
        "print(\"The middle number in the nums list :\", nums[len(nums)//2])\n",
        "perc_diff3 = round((ex8_nums[len(ex8_nums)//2] - nums[len(nums)//2]) / nums[len(nums)//2] * 100,2)\n",
        "print(\"The percentage difference between the middle number in each list :\", perc_diff3)\n",
        "\n",
        "print(\"The sum of the ex8_nums list  :\", sum(ex8_nums))\n",
        "print(\"The sum of the nums list  :\", sum(nums))\n",
        "perc_diff4 = round((sum(ex8_nums) - sum(nums)) / sum(nums) * 100,2)\n",
        "print(\"The percentage difference between the sum of number in each list :\", perc_diff4)"
      ],
      "execution_count": 11,
      "outputs": [
        {
          "output_type": "stream",
          "name": "stdout",
          "text": [
            "The first number in the ex8_nums list : 13\n",
            "The first number in the nums list : 54\n",
            "The percentage difference between the first number in each list : -75.93\n",
            "The last number in the ex8_nums list : 21\n",
            "The last number in the nums list : 9\n",
            "The percentage difference between the last number in each list : 133.33\n",
            "The middle number in the ex8_nums list : 13\n",
            "The middle number in the nums list : 8\n",
            "The percentage difference between the middle number in each list : 62.5\n",
            "The sum of the ex8_nums list  : 49312\n",
            "The sum of the nums list  : 49863\n",
            "The percentage difference between the sum of number in each list : -1.11\n"
          ]
        }
      ]
    },
    {
      "cell_type": "markdown",
      "metadata": {
        "id": "HNs3lZmYawFO"
      },
      "source": [
        "---\n",
        "### Exercise 9 - characteristic counts\n",
        "\n",
        "Write a function which will:\n",
        "*  iterate through the `protected_characteristics` tuple and for each **characteristic**:\n",
        "*   *   count the number of occurrences of that `characteristic` in the `characteristics` list\n",
        "*   *   print the `protected_characteristic` and the **count**  \n",
        "\n",
        "Example expected output:\n",
        "\n",
        "age 100  \n",
        "disability 120  \n",
        "gender reassignment 120  \n",
        "marriage and civil partnership 111  \n",
        "pregnancy and maternity 103  \n",
        "race 106  \n",
        "religion or belief 95  \n",
        "sex 110  \n",
        "sexual orientation 113  \n",
        "\n",
        "Extra learning:  you can read [here](https://thispointer.com/python-how-to-pad-strings-with-zero-space-or-some-other-character/) how to justify the printed characteristic so that the output is organised into two columns as shown below:  \n",
        "![tabulated output](https://drive.google.com/uc?id=1CCXfX6K5ZeDefnq7vUsqxCDmqvcfY8Mz)\n",
        "\n",
        "\n",
        "\n"
      ]
    },
    {
      "cell_type": "code",
      "source": [
        "protected_characteristics = get_protected_characteristics()\n",
        "characteristics = get_protected_characteristic_list(protected_characteristics)\n",
        "\n",
        "for proc_char in protected_characteristics:\n",
        "  print(\"The occurrence of '\",proc_char.strip(),\"' in the list:\", count_occurrence_of(characteristics,proc_char))\n",
        "\n",
        "print(\"Formatted List:\")\n",
        "Head1 = \"Proctected Characteristics\".ljust(32)\n",
        "Head2 = \"Frequency\".ljust(20)\n",
        "print(Head1, Head2)\n",
        "for proc_char in protected_characteristics:\n",
        "  print(proc_char.ljust(32), str(count_occurrence_of(characteristics,proc_char)).ljust(20))"
      ],
      "metadata": {
        "colab": {
          "base_uri": "https://localhost:8080/"
        },
        "id": "c4Xh8At8TT2o",
        "outputId": "ec3cd5bd-2074-4396-eeaf-9d321342c54c"
      },
      "execution_count": 16,
      "outputs": [
        {
          "output_type": "stream",
          "name": "stdout",
          "text": [
            "The occurrence of ' age ' in the list: 160\n",
            "The occurrence of ' disability ' in the list: 153\n",
            "The occurrence of ' gender reassignment ' in the list: 132\n",
            "The occurrence of ' marriage and civil partnership ' in the list: 133\n",
            "The occurrence of ' pregnancy and maternity ' in the list: 136\n",
            "The occurrence of ' race ' in the list: 163\n",
            "The occurrence of ' religion or belief ' in the list: 153\n",
            "The occurrence of ' sex ' in the list: 138\n",
            "The occurrence of ' sexual orientation ' in the list: 150\n",
            "Formatted List:\n",
            "Proctected Characteristics       Frequency           \n",
            "age                              160                 \n",
            "disability                       153                 \n",
            "gender reassignment              132                 \n",
            "marriage and civil partnership   133                 \n",
            "pregnancy and maternity          136                 \n",
            "race                             163                 \n",
            "religion or belief               153                 \n",
            "sex                              138                 \n",
            "sexual orientation               150                 \n"
          ]
        }
      ]
    },
    {
      "cell_type": "markdown",
      "metadata": {
        "id": "9Po7yQj-ds38"
      },
      "source": [
        "---\n",
        "### Exercise 10 - characteristics statistics\n",
        "\n",
        "Assuming that the `characteristics` list may have been taken from a study of cases that have been taken to court in relation to the Equality Act.  \n",
        "\n",
        "Write a function which will:\n",
        "\n",
        "*   find the most common characteristic resulting in court action, from this population\n",
        "*   print this in a message, e.g. The characteristic with the highest number of court cases is:  *characteristic*\n",
        "*   print the list of `protected_characteristics`, on one line if possible - see [here](https://www.geeksforgeeks.org/g-fact-25-print-single-multiple-variable-python/)\n",
        "*   ask the user to enter a characteristic that they would like to see statistics on and use a while loop to continue until the user has entered a valid characteristic\n",
        "*   print the characteristic, its frequency and the percentage that this frequency is of the whole population."
      ]
    },
    {
      "cell_type": "code",
      "metadata": {
        "id": "uk_I5z7UgbDs",
        "colab": {
          "base_uri": "https://localhost:8080/"
        },
        "outputId": "2d97cf0e-b3fc-4cca-d511-a97a265d3d93"
      },
      "source": [
        "protected_characteristics = get_protected_characteristics()\n",
        "characteristics = get_protected_characteristic_list(protected_characteristics)\n",
        "print(\"The most common characteristic resulting in court action :\", max(set(characteristics), key=characteristics.count))\n",
        "print(\"The list of protected characteristics :\", *protected_characteristics, sep = \", \")\n",
        "characteristic = input(\"Enter a characteristic that you would like to see statistics on :\")\n",
        "while characteristic not in protected_characteristics:\n",
        "  print(\"Invalid characteristic\")\n",
        "  characteristic = input(\"Enter a characteristic that you would like to see statistics on :\")\n",
        "  if characteristic in protected_characteristics:\n",
        "    print(\"The frequency of the characteristic :\", count_occurrence_of(characteristics,characteristic))\n"
      ],
      "execution_count": 22,
      "outputs": [
        {
          "output_type": "stream",
          "name": "stdout",
          "text": [
            "The most common characteristic resulting in court action : marriage and civil partnership\n",
            "The list of protected characteristics :, age, disability, gender reassignment, marriage and civil partnership, pregnancy and maternity, race, religion or belief, sex, sexual orientation\n",
            "Enter a characteristic that you would like to see statistics on :Age\n",
            "Invalid characteristic\n",
            "Enter a characteristic that you would like to see statistics on :age\n",
            "The frequency of the characteristic : 267\n"
          ]
        }
      ]
    },
    {
      "cell_type": "markdown",
      "source": [
        "Got aware about some additional print options, formatting output, operations on list of data"
      ],
      "metadata": {
        "id": "rATgLyxowihN"
      }
    },
    {
      "cell_type": "markdown",
      "source": [
        "## Your thoughts on what you have learnt\n",
        "Please add some comments in the box below to reflect on what you have learnt through completing this worksheet, and any problems you encountered while doing so.\n",
        "\n",
        "While doing this worksheet, i had to refer to various study material on python realted handling list of data and print option available for formatting output."
      ],
      "metadata": {
        "id": "0keHaFx_wiBW"
      }
    }
  ]
}