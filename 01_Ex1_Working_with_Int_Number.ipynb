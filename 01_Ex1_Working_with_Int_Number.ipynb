{
  "nbformat": 4,
  "nbformat_minor": 0,
  "metadata": {
    "colab": {
      "provenance": [],
      "authorship_tag": "ABX9TyOJ7jzzqD6LUnACHvG3xhZw",
      "include_colab_link": true
    },
    "kernelspec": {
      "name": "python3",
      "display_name": "Python 3"
    },
    "language_info": {
      "name": "python"
    }
  },
  "cells": [
    {
      "cell_type": "markdown",
      "metadata": {
        "id": "view-in-github",
        "colab_type": "text"
      },
      "source": [
        "<a href=\"https://colab.research.google.com/github/Hatim-Bhavnagar/Data-with-Python/blob/main/01_Ex1_Working_with_Int_Number.ipynb\" target=\"_parent\"><img src=\"https://colab.research.google.com/assets/colab-badge.svg\" alt=\"Open In Colab\"/></a>"
      ]
    },
    {
      "cell_type": "markdown",
      "source": [
        "I am working on numbers as per example given in worksheet. Here the input is 345 as integer and output will be 346."
      ],
      "metadata": {
        "id": "E8yAWDZqxwko"
      }
    },
    {
      "cell_type": "code",
      "source": [
        "def Add_one(  ):\n",
        "  num = int(345)\n",
        "  num_plus_one = num + 1\n",
        "  print(num_plus_one)\n",
        "\n",
        "Add_one()"
      ],
      "metadata": {
        "colab": {
          "base_uri": "https://localhost:8080/"
        },
        "id": "wZVsJHP3yT7w",
        "outputId": "6ab87248-31ec-4184-c056-8fba026a796a"
      },
      "execution_count": null,
      "outputs": [
        {
          "output_type": "stream",
          "name": "stdout",
          "text": [
            "346\n"
          ]
        }
      ]
    },
    {
      "cell_type": "markdown",
      "source": [
        "I tried various defination naming combination like Add_one(), Add_one( ), Add_one(   ). The result is the same everytime, i didn't got any error.\n",
        "\n",
        "However, when i tried executing int( 345 ) with space between brackets it gave error. So, the spaces are allow in \"def\" but not when you are using standard function withing the program."
      ],
      "metadata": {
        "id": "K-T4iVbt0a06"
      }
    },
    {
      "cell_type": "code",
      "source": [
        "def Add_one():\n",
        "  num = int(345)\n",
        "  num = 400\n",
        "  num_plus_one = num + 1\n",
        "  print(num_plus_one)\n",
        "\n",
        "Add_one()"
      ],
      "metadata": {
        "colab": {
          "base_uri": "https://localhost:8080/"
        },
        "id": "1xW6S9S93-je",
        "outputId": "84d9cb05-e305-47cd-a336-44a69be2ca15"
      },
      "execution_count": 2,
      "outputs": [
        {
          "output_type": "stream",
          "name": "stdout",
          "text": [
            "401\n"
          ]
        }
      ]
    },
    {
      "cell_type": "markdown",
      "source": [
        "I change num from 345 to 400. it works perfectly."
      ],
      "metadata": {
        "id": "9pjSjl37_rpA"
      }
    },
    {
      "cell_type": "code",
      "source": [
        "def Add_one():\n",
        "  num = int(\"two\")\n",
        "  num_plus_one = num + 1\n",
        "  print(num_plus_one)\n",
        "\n",
        "Add_one()"
      ],
      "metadata": {
        "colab": {
          "base_uri": "https://localhost:8080/",
          "height": 297
        },
        "id": "6cG7UfhH397d",
        "outputId": "dbcbea09-4fa6-46a2-fe5f-23375335ef42"
      },
      "execution_count": 4,
      "outputs": [
        {
          "output_type": "error",
          "ename": "ValueError",
          "evalue": "invalid literal for int() with base 10: 'two'",
          "traceback": [
            "\u001b[0;31m---------------------------------------------------------------------------\u001b[0m",
            "\u001b[0;31mValueError\u001b[0m                                Traceback (most recent call last)",
            "\u001b[0;32m<ipython-input-4-845a7cae0145>\u001b[0m in \u001b[0;36m<cell line: 6>\u001b[0;34m()\u001b[0m\n\u001b[1;32m      4\u001b[0m   \u001b[0mprint\u001b[0m\u001b[0;34m(\u001b[0m\u001b[0mnum_plus_one\u001b[0m\u001b[0;34m)\u001b[0m\u001b[0;34m\u001b[0m\u001b[0;34m\u001b[0m\u001b[0m\n\u001b[1;32m      5\u001b[0m \u001b[0;34m\u001b[0m\u001b[0m\n\u001b[0;32m----> 6\u001b[0;31m \u001b[0mAdd_one\u001b[0m\u001b[0;34m(\u001b[0m\u001b[0;34m)\u001b[0m\u001b[0;34m\u001b[0m\u001b[0;34m\u001b[0m\u001b[0m\n\u001b[0m",
            "\u001b[0;32m<ipython-input-4-845a7cae0145>\u001b[0m in \u001b[0;36mAdd_one\u001b[0;34m()\u001b[0m\n\u001b[1;32m      1\u001b[0m \u001b[0;32mdef\u001b[0m \u001b[0mAdd_one\u001b[0m\u001b[0;34m(\u001b[0m\u001b[0;34m)\u001b[0m\u001b[0;34m:\u001b[0m\u001b[0;34m\u001b[0m\u001b[0;34m\u001b[0m\u001b[0m\n\u001b[0;32m----> 2\u001b[0;31m   \u001b[0mnum\u001b[0m \u001b[0;34m=\u001b[0m \u001b[0mint\u001b[0m\u001b[0;34m(\u001b[0m\u001b[0;34m\"two\"\u001b[0m\u001b[0;34m)\u001b[0m\u001b[0;34m\u001b[0m\u001b[0;34m\u001b[0m\u001b[0m\n\u001b[0m\u001b[1;32m      3\u001b[0m   \u001b[0mnum_plus_one\u001b[0m \u001b[0;34m=\u001b[0m \u001b[0mnum\u001b[0m \u001b[0;34m+\u001b[0m \u001b[0;36m1\u001b[0m\u001b[0;34m\u001b[0m\u001b[0;34m\u001b[0m\u001b[0m\n\u001b[1;32m      4\u001b[0m   \u001b[0mprint\u001b[0m\u001b[0;34m(\u001b[0m\u001b[0mnum_plus_one\u001b[0m\u001b[0;34m)\u001b[0m\u001b[0;34m\u001b[0m\u001b[0;34m\u001b[0m\u001b[0m\n\u001b[1;32m      5\u001b[0m \u001b[0;34m\u001b[0m\u001b[0m\n",
            "\u001b[0;31mValueError\u001b[0m: invalid literal for int() with base 10: 'two'"
          ]
        }
      ]
    },
    {
      "cell_type": "markdown",
      "source": [
        "In Python, it cannot process the data in word as number. However if we change it to 2, then its works fine ( As shown in the code below )"
      ],
      "metadata": {
        "id": "XgyE2lAnDIM3"
      }
    },
    {
      "cell_type": "code",
      "source": [
        "def Add_one():\n",
        "  num = int(\"2\")\n",
        "  num_plus_one = num + 1\n",
        "  print(num_plus_one)\n",
        "\n",
        "Add_one()"
      ],
      "metadata": {
        "id": "lU3Rzj03H1Eu",
        "outputId": "5196233d-1171-4241-ca3e-3b9c0a31a97e",
        "colab": {
          "base_uri": "https://localhost:8080/"
        }
      },
      "execution_count": 5,
      "outputs": [
        {
          "output_type": "stream",
          "name": "stdout",
          "text": [
            "3\n"
          ]
        }
      ]
    },
    {
      "cell_type": "markdown",
      "source": [
        "I learn't that , In python, we cannot use number in word for any mathematical conversion or operation."
      ],
      "metadata": {
        "id": "83oeC66KIIqF"
      }
    },
    {
      "cell_type": "markdown",
      "source": [
        "Add On: In python, there are function in to convert text to number in \"word2number\" library. ref(https://pypi.org/project/word2number/)"
      ],
      "metadata": {
        "id": "h8sAQUudJOGu"
      }
    }
  ]
}