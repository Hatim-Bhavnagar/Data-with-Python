{
  "nbformat": 4,
  "nbformat_minor": 0,
  "metadata": {
    "colab": {
      "provenance": [],
      "authorship_tag": "ABX9TyO6YWk2R20rFeWoEHaNiPm+",
      "include_colab_link": true
    },
    "kernelspec": {
      "name": "python3",
      "display_name": "Python 3"
    },
    "language_info": {
      "name": "python"
    }
  },
  "cells": [
    {
      "cell_type": "markdown",
      "metadata": {
        "id": "view-in-github",
        "colab_type": "text"
      },
      "source": [
        "<a href=\"https://colab.research.google.com/github/Hatim-Bhavnagar/Data-with-Python/blob/main/01_Ex1_Working_with_Int_Number.ipynb\" target=\"_parent\"><img src=\"https://colab.research.google.com/assets/colab-badge.svg\" alt=\"Open In Colab\"/></a>"
      ]
    },
    {
      "cell_type": "markdown",
      "source": [
        "I am working on numbers as per example given in worksheet. Here the input is 345 as integer and output will be 346."
      ],
      "metadata": {
        "id": "E8yAWDZqxwko"
      }
    },
    {
      "cell_type": "code",
      "source": [
        "def Add_one(  ):\n",
        "  num = int(345)\n",
        "  num_plus_one = num + 1\n",
        "  print(num_plus_one)\n",
        "\n",
        "Add_one()"
      ],
      "metadata": {
        "colab": {
          "base_uri": "https://localhost:8080/"
        },
        "id": "wZVsJHP3yT7w",
        "outputId": "6ab87248-31ec-4184-c056-8fba026a796a"
      },
      "execution_count": null,
      "outputs": [
        {
          "output_type": "stream",
          "name": "stdout",
          "text": [
            "346\n"
          ]
        }
      ]
    },
    {
      "cell_type": "markdown",
      "source": [
        "I tried various defination naming combination like Add_one(), Add_one( ), Add_one(   ). The result is the same everytime, i didn't got any error.\n",
        "\n",
        "However, when i tried executing int( 345 ) with space between brackets it gave error. So, the spaces are allow in \"def\" but not when you are using standard function withing the program."
      ],
      "metadata": {
        "id": "K-T4iVbt0a06"
      }
    },
    {
      "cell_type": "code",
      "source": [
        "def Add_one(  ):\n",
        "  num = int(345)\n",
        "  num_plus_one = num + 1\n",
        "  print(num_plus_one)\n",
        "\n",
        "Add_one()"
      ],
      "metadata": {
        "id": "1xW6S9S93-je"
      },
      "execution_count": null,
      "outputs": []
    },
    {
      "cell_type": "markdown",
      "source": [
        "Based on the above sample code, The Conclusion is we can convert float to int and vice-versa. Also, we can convert int/float to complex, but when we convert complex to int/float then is not allowed and gives error."
      ],
      "metadata": {
        "id": "9pjSjl37_rpA"
      }
    },
    {
      "cell_type": "markdown",
      "source": [
        "I tried various calculate using various combination and conversion"
      ],
      "metadata": {
        "id": "3SUEniiU9PwP"
      }
    },
    {
      "cell_type": "code",
      "source": [
        "def show_message1():\n",
        "   # add your code below here\n",
        "    name = \"Hatim\"\n",
        "    age = \"25\"\n",
        "    message = \"Hello \" + name + \", your age is \" + age + \" years old.\"\n",
        "    print(message)\n",
        "\n",
        "show_message1()"
      ],
      "metadata": {
        "colab": {
          "base_uri": "https://localhost:8080/"
        },
        "id": "6cG7UfhH397d",
        "outputId": "dd899b55-ad21-4a47-f040-2428cd504167"
      },
      "execution_count": null,
      "outputs": [
        {
          "output_type": "stream",
          "name": "stdout",
          "text": [
            "Hello Hatim, your age is 25 years old.\n"
          ]
        }
      ]
    },
    {
      "cell_type": "code",
      "source": [
        "def show_message2():\n",
        "   # add your code below here\n",
        "    name = \"Hatim\"\n",
        "    age = 25\n",
        "    message = \"Hello \" + name + \", your age is \" + age + \" years old.\"\n",
        "    print(message)\n",
        "\n",
        "show_message2()"
      ],
      "metadata": {
        "colab": {
          "base_uri": "https://localhost:8080/",
          "height": 297
        },
        "id": "7iROPIoeB0DO",
        "outputId": "be045387-f6d2-423d-f2c2-e3ce8611cc93"
      },
      "execution_count": null,
      "outputs": [
        {
          "output_type": "error",
          "ename": "TypeError",
          "evalue": "can only concatenate str (not \"int\") to str",
          "traceback": [
            "\u001b[0;31m---------------------------------------------------------------------------\u001b[0m",
            "\u001b[0;31mTypeError\u001b[0m                                 Traceback (most recent call last)",
            "\u001b[0;32m<ipython-input-22-dc20a3c565f1>\u001b[0m in \u001b[0;36m<cell line: 8>\u001b[0;34m()\u001b[0m\n\u001b[1;32m      6\u001b[0m     \u001b[0mprint\u001b[0m\u001b[0;34m(\u001b[0m\u001b[0mmessage\u001b[0m\u001b[0;34m)\u001b[0m\u001b[0;34m\u001b[0m\u001b[0;34m\u001b[0m\u001b[0m\n\u001b[1;32m      7\u001b[0m \u001b[0;34m\u001b[0m\u001b[0m\n\u001b[0;32m----> 8\u001b[0;31m \u001b[0mshow_message\u001b[0m\u001b[0;34m(\u001b[0m\u001b[0;34m)\u001b[0m\u001b[0;34m\u001b[0m\u001b[0;34m\u001b[0m\u001b[0m\n\u001b[0m",
            "\u001b[0;32m<ipython-input-22-dc20a3c565f1>\u001b[0m in \u001b[0;36mshow_message\u001b[0;34m()\u001b[0m\n\u001b[1;32m      3\u001b[0m     \u001b[0mname\u001b[0m \u001b[0;34m=\u001b[0m \u001b[0;34m\"Hatim\"\u001b[0m\u001b[0;34m\u001b[0m\u001b[0;34m\u001b[0m\u001b[0m\n\u001b[1;32m      4\u001b[0m     \u001b[0mage\u001b[0m \u001b[0;34m=\u001b[0m \u001b[0;36m25\u001b[0m\u001b[0;34m\u001b[0m\u001b[0;34m\u001b[0m\u001b[0m\n\u001b[0;32m----> 5\u001b[0;31m     \u001b[0mmessage\u001b[0m \u001b[0;34m=\u001b[0m \u001b[0;34m\"Hello \"\u001b[0m \u001b[0;34m+\u001b[0m \u001b[0mname\u001b[0m \u001b[0;34m+\u001b[0m \u001b[0;34m\", your age is \"\u001b[0m \u001b[0;34m+\u001b[0m \u001b[0mage\u001b[0m \u001b[0;34m+\u001b[0m \u001b[0;34m\" years old.\"\u001b[0m\u001b[0;34m\u001b[0m\u001b[0;34m\u001b[0m\u001b[0m\n\u001b[0m\u001b[1;32m      6\u001b[0m     \u001b[0mprint\u001b[0m\u001b[0;34m(\u001b[0m\u001b[0mmessage\u001b[0m\u001b[0;34m)\u001b[0m\u001b[0;34m\u001b[0m\u001b[0;34m\u001b[0m\u001b[0m\n\u001b[1;32m      7\u001b[0m \u001b[0;34m\u001b[0m\u001b[0m\n",
            "\u001b[0;31mTypeError\u001b[0m: can only concatenate str (not \"int\") to str"
          ]
        }
      ]
    },
    {
      "cell_type": "markdown",
      "source": [],
      "metadata": {
        "id": "DFssUKclCTp4"
      }
    },
    {
      "cell_type": "markdown",
      "source": [
        "In Python, you can't directly concatenate strings and integers. This is why you are seeing the TypeError: can only concatenate str (not \"int\") to str.\n",
        "As age is int and hence not allowed."
      ],
      "metadata": {
        "id": "tSX9U_AGCTDD"
      }
    },
    {
      "cell_type": "code",
      "source": [
        "def show_message3():\n",
        "   # add your code below here\n",
        "    name = \"Hatim\"\n",
        "    age = 25\n",
        "    message = \"Hello \" + name + \", your age is \" + str(age) + \" years old.\"\n",
        "    print(message)\n",
        "    age = str(25)\n",
        "    message = \"Hello \" + name + \", your age is \" + age + \" years old.\"\n",
        "    print(message)\n",
        "\n",
        "show_message3()"
      ],
      "metadata": {
        "colab": {
          "base_uri": "https://localhost:8080/"
        },
        "id": "QjG4bynDCQHz",
        "outputId": "a247d12c-7f21-45a1-f4d5-4139beb2bd1c"
      },
      "execution_count": null,
      "outputs": [
        {
          "output_type": "stream",
          "name": "stdout",
          "text": [
            "Hello Hatim, your age is 25 years old.\n",
            "Hello Hatim, your age is 25 years old.\n"
          ]
        }
      ]
    },
    {
      "cell_type": "markdown",
      "source": [
        "Before concatenate int into string, we need convert the int to string. 2 ways to convert as show in show_message3 function."
      ],
      "metadata": {
        "id": "XgyE2lAnDIM3"
      }
    }
  ]
}