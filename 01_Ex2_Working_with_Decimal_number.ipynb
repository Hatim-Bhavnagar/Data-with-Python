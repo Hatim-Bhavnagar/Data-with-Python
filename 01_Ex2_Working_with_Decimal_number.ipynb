{
  "nbformat": 4,
  "nbformat_minor": 0,
  "metadata": {
    "colab": {
      "provenance": [],
      "authorship_tag": "ABX9TyNePc8sF6mesWP0ugGzV104",
      "include_colab_link": true
    },
    "kernelspec": {
      "name": "python3",
      "display_name": "Python 3"
    },
    "language_info": {
      "name": "python"
    }
  },
  "cells": [
    {
      "cell_type": "markdown",
      "metadata": {
        "id": "view-in-github",
        "colab_type": "text"
      },
      "source": [
        "<a href=\"https://colab.research.google.com/github/Hatim-Bhavnagar/Data-with-Python/blob/main/01_Ex2_Working_with_Decimal_number.ipynb\" target=\"_parent\"><img src=\"https://colab.research.google.com/assets/colab-badge.svg\" alt=\"Open In Colab\"/></a>"
      ]
    },
    {
      "cell_type": "markdown",
      "source": [
        "I am working on numbers as per example given in worksheet. Here the input is 345 as integer and output will be 346."
      ],
      "metadata": {
        "id": "E8yAWDZqxwko"
      }
    },
    {
      "cell_type": "code",
      "source": [
        "def Calculate_total():\n",
        "  num1 = int(346)\n",
        "  num2 = float(32.67)\n",
        "  total = num1 + num2\n",
        "  print(total)\n",
        "\n",
        "Calculate_total()"
      ],
      "metadata": {
        "colab": {
          "base_uri": "https://localhost:8080/"
        },
        "id": "wZVsJHP3yT7w",
        "outputId": "b798bf24-d2ed-44b8-e15a-e64d116c783c"
      },
      "execution_count": 1,
      "outputs": [
        {
          "output_type": "stream",
          "name": "stdout",
          "text": [
            "378.67\n"
          ]
        }
      ]
    },
    {
      "cell_type": "markdown",
      "source": [
        "I tried various defination naming combination like Add_one(), Add_one( ), Add_one(   ). The result is the same everytime, i didn't got any error.\n",
        "\n",
        "However, when i tried executing int( 345 ) with space between brackets it gave error. So, the spaces are allow in \"def\" but not when you are using standard function withing the program."
      ],
      "metadata": {
        "id": "K-T4iVbt0a06"
      }
    },
    {
      "cell_type": "code",
      "source": [
        "def Calculate_total():\n",
        "  num1 = int(346)\n",
        "  num2 = float(10)\n",
        "  num3 = float(10.30)\n",
        "  num4 = complex(10, 0.0)\n",
        "  num5 = complex(10, -0.0)\n",
        "  num6 = complex(-10, 0.0)\n",
        "  num7 = complex(-10, -0.0)\n",
        "  num8 = float(-10)\n",
        "\n",
        "  Total1 = num1 + num2\n",
        "  print(Total1)\n",
        "  Total1 = num1 + num3\n",
        "  print(Total1)\n",
        "  Total1 = num2 + num3\n",
        "  print(Total1)\n",
        "  Total1 = num3 + num4\n",
        "  print(Total1)\n",
        "  Total1 = num4 + num5\n",
        "  print(Total1)\n",
        "  Total1 = num1 + num4\n",
        "  print(Total1)\n",
        "  Total1 = num3 + num4\n",
        "  print(Total1)\n",
        "  Total1 = num4 + num6\n",
        "  print(Total1)\n",
        "  Total1 = num4 + num7\n",
        "  print(Total1)\n",
        "  Total1 = num6 + num7\n",
        "  print(Total1)\n",
        "  # not allowed : Total2 = float(Total1), this statement gives error, as Total1 is complex and cannot be converted to float and gives error.\n",
        "  Total2 = int(num2 + num3)  # float to int assignment/conversion is allowed but data gets truncated. here num2 and num3 are float\n",
        "  # not allowed : Total2 = int(num2 + num4), this statement gives error where num2 is float and num4 is complex\n",
        "  print(Total2)\n",
        "  Total2 = complex(num2 + num3)  # However we can covert from float to complex\n",
        "  print(Total2)\n",
        "\n",
        "  Total1 = num4 + num8\n",
        "  print(Total1)\n",
        "\n",
        "Calculate_total()\n",
        "\n",
        "\n"
      ],
      "metadata": {
        "colab": {
          "base_uri": "https://localhost:8080/"
        },
        "id": "1xW6S9S93-je",
        "outputId": "3669118a-2373-4b65-a2a6-256458444062"
      },
      "execution_count": null,
      "outputs": [
        {
          "output_type": "stream",
          "name": "stdout",
          "text": [
            "356.0\n",
            "356.3\n",
            "20.3\n",
            "(20.3+0j)\n",
            "(20+0j)\n",
            "(356+0j)\n",
            "(20.3+0j)\n",
            "0j\n",
            "0j\n",
            "(-20+0j)\n",
            "20\n",
            "(20.3+0j)\n",
            "0j\n"
          ]
        }
      ]
    },
    {
      "cell_type": "markdown",
      "source": [
        "Based on the above sample code, The Conclusion is we can convert float to int and vice-versa. Also, we can convert int/float to complex, but when we convert complex to int/float then is not allowed and gives error."
      ],
      "metadata": {
        "id": "9pjSjl37_rpA"
      }
    },
    {
      "cell_type": "markdown",
      "source": [
        "I tried various calculate using various combination and conversion"
      ],
      "metadata": {
        "id": "3SUEniiU9PwP"
      }
    },
    {
      "cell_type": "code",
      "source": [
        "def Calculate_total():\n",
        " # num1 = \"56.7\"     #TypeError: can only concatenate str (not \"float\") to str\n",
        " # num1 = int(\"56.7\")  #ValueError: invalid literal for int() with base 10: '56.7'\n",
        "  num1 = float(\"56.7\")\n",
        "  num2 = float(32.67)\n",
        "  total = num1 + num2\n",
        "  print(total)\n",
        "\n",
        "  num1 = complex(\"56.7\")\n",
        "  total = num1 + num2\n",
        "  print(total)\n",
        "\n",
        "Calculate_total()"
      ],
      "metadata": {
        "colab": {
          "base_uri": "https://localhost:8080/"
        },
        "id": "6cG7UfhH397d",
        "outputId": "478b14f1-6ece-47e0-a73b-55f09230c98c"
      },
      "execution_count": 9,
      "outputs": [
        {
          "output_type": "stream",
          "name": "stdout",
          "text": [
            "89.37\n",
            "(89.37+0j)\n"
          ]
        }
      ]
    },
    {
      "cell_type": "markdown",
      "source": [
        "In Python, Float cannot be converted from str to number using direct or int(). we can only use float() / complex()"
      ],
      "metadata": {
        "id": "WuYPR8NvMYer"
      }
    }
  ]
}