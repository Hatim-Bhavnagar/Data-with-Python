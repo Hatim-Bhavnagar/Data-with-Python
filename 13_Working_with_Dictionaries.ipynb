{
  "nbformat": 4,
  "nbformat_minor": 0,
  "metadata": {
    "colab": {
      "provenance": [],
      "include_colab_link": true
    },
    "kernelspec": {
      "name": "python3",
      "display_name": "Python 3"
    },
    "language_info": {
      "name": "python"
    }
  },
  "cells": [
    {
      "cell_type": "markdown",
      "metadata": {
        "id": "view-in-github",
        "colab_type": "text"
      },
      "source": [
        "<a href=\"https://colab.research.google.com/github/Hatim-Bhavnagar/Data-with-Python/blob/main/13_Working_with_Dictionaries.ipynb\" target=\"_parent\"><img src=\"https://colab.research.google.com/assets/colab-badge.svg\" alt=\"Open In Colab\"/></a>"
      ]
    },
    {
      "cell_type": "markdown",
      "metadata": {
        "id": "AiiF1h2X4PHP"
      },
      "source": [
        "# Dictionaries\n",
        "\n",
        "---\n",
        "\n",
        "A **dictionary** is a collection of dissimilar data stored together in one *record*. Each item of data has a  (or key) that describes its paired value.  \n",
        "\n",
        "Create a dictionary object by declaring the set of keys and values, e.g.:\n",
        "\n",
        "```\n",
        "   transport = {\n",
        "       \"type\":\"bus\",\n",
        "       \"numPassengers\":72,\n",
        "       \"colour\":\"blue\",\n",
        "       \"fuel\":\"diesel\"\n",
        "   }\n",
        "```\n",
        "\n",
        "To access a value in a dictionary, use its key:  \n",
        "\n",
        "```\n",
        "transport[\"type\"] = \"coach\"\n",
        "transport_type = transport[\"type\"]\n",
        "transport_colour = transport[\"colour\"]\n",
        "transport[\"fuel\"] = petrol\n",
        "```\n",
        "\n",
        "To add a new key/value pair to a dictionary, simply assign a value to a new key:  \n",
        "```\n",
        "transport[\"seats\"] = 54\n",
        "```\n",
        "\n",
        "The transport dictionary will now look like this:  \n",
        "```\n",
        "   transport = {\n",
        "       \"type\":\"bus\",\n",
        "       \"numPassengers\":72,\n",
        "       \"colour\":\"blue\",\n",
        "       \"fuel\":\"diesel\",\n",
        "       \"seats\":54\n",
        "   }\n",
        "```\n",
        "\n"
      ]
    },
    {
      "cell_type": "markdown",
      "metadata": {
        "id": "1uZ5kNWB6CqK"
      },
      "source": [
        "---\n",
        "### Exercise 1 - print dictionary\n",
        "\n",
        "Write a function which will:  \n",
        "\n",
        "*  create an empty dictionary for a person (name, age and postcode, with values \"\", 0 and \"\")\n",
        "*  ask the user for name, age and postcode and assign the values to the correct keys in the dictionary  \n",
        "*  print the dictionary\n",
        "\n",
        "Test input:  \n",
        "Jack Jones  \n",
        "16  \n",
        "AB5 3DF  \n",
        "\n",
        "Expected output:  \n",
        "```{'name':'Jack Jones', 'age':16, 'postcode':'AB5 3DF'}```"
      ]
    },
    {
      "cell_type": "code",
      "metadata": {
        "id": "Ac7VQTj94Mrc",
        "colab": {
          "base_uri": "https://localhost:8080/"
        },
        "outputId": "d31e4131-2c17-4b18-9c8f-8c52ed6b4274"
      },
      "source": [
        "def create_person():\n",
        "  # add your code below this line\n",
        "  person = {\n",
        "      \"name\" : \"\",\n",
        "      \"age\" : 0,\n",
        "      \"postcode\" : \"\"\n",
        "  }\n",
        "  name = input(\"Enter Name: \")\n",
        "  age = int(input(\"Enter Age: \"))\n",
        "  postcode = input(\"Enter Postcode: \")\n",
        "  person[\"name\"] = name.capitalize()\n",
        "  person[\"age\"] = age\n",
        "  person[\"postcode\"] = postcode.upper()\n",
        "\n",
        "  print(person)\n",
        "\n",
        "create_person()"
      ],
      "execution_count": null,
      "outputs": [
        {
          "output_type": "stream",
          "name": "stdout",
          "text": [
            "Enter Name: jack jones\n",
            "Enter Age: 16\n",
            "Enter Postcode: ab5 3df\n",
            "{'name': 'Jack jones', 'age': 16, 'postcode': 'AB5 3DF'}\n"
          ]
        }
      ]
    },
    {
      "cell_type": "markdown",
      "metadata": {
        "id": "0OtNqNKv7WKm"
      },
      "source": [
        "---\n",
        "### Exercise 2 - create a dictionary\n",
        "\n",
        "Write a function that will create two dictionaries,without values:  \n",
        "\n",
        "1.  person (with keys firstname, surname, birthdate, postcode)  \n",
        "2.  car (with key/value pairs as follows:  make - Vauxhall, model - Corsa, engineSize - 1199, fuelType - unleaded, num_doors - 4)  \n",
        "\n",
        "*   ask the user to enter the values for the person dictionary  \n",
        "*   print, on one line, the person's name from the person dictionary and the make of the car from the car dictionary.\n",
        "\n",
        "Test input:  \n",
        "Jack  \n",
        "Jones  \n",
        "2005/02/02    \n",
        "AB5 3DF  \n",
        "\n",
        "Expected output:  \n",
        "Jack Jones Vauxhall"
      ]
    },
    {
      "cell_type": "code",
      "metadata": {
        "id": "ZyqhaBCC-GdI",
        "colab": {
          "base_uri": "https://localhost:8080/"
        },
        "outputId": "83ff57d1-4789-413f-cd86-cab52c63c432"
      },
      "source": [
        "from datetime import datetime\n",
        "\n",
        "def create_person():\n",
        "  # add your code below this line\n",
        "  firstname  = input(\"Enter Firstname: \")\n",
        "  surname = input(\"Enter Surname: \")\n",
        "  birthdate = input(\"Enter Birthdate as (2024/05/23): \")\n",
        "  postcode = input(\"Enter Postcode: \")\n",
        "\n",
        "  person = {\n",
        "      \"firstname\" : firstname.capitalize(),\n",
        "      \"surname\" : surname.capitalize(),\n",
        "      \"birthdate\" : datetime.strptime(birthdate,\"%Y/%m/%d\"),\n",
        "      \"postcode\" : postcode.upper(),\n",
        "  }\n",
        "  car_make = \"Vauxhall\"\n",
        "  car_model = \"Corsa\"\n",
        "  car_enginesize = 1199\n",
        "  car_fueltype = \"unleaded\"\n",
        "  car_numdoors = 4\n",
        "  car = {\n",
        "     \"car_make\" : car_make,\n",
        "     \"car model\" : car_model,\n",
        "     \"car enginesize\" : car_enginesize,\n",
        "     \"car fueltype\" : car_fueltype,\n",
        "     \"car numdoors\" : car_numdoors,\n",
        "  }\n",
        "\n",
        "  print(person[\"firstname\"],\" \",person[\"surname\"],\" has a car \",car[\"car_make\"])\n",
        "\n",
        "create_person()"
      ],
      "execution_count": 2,
      "outputs": [
        {
          "output_type": "stream",
          "name": "stdout",
          "text": [
            "Enter Firstname: jACK\n",
            "Enter Surname: joNES\n",
            "Enter Birthdate as (2024/05/23): 2005/02/02\n",
            "Enter Postcode: AB5 3df\n",
            "Jack   Jones  has a car  Vauxhall\n"
          ]
        }
      ]
    },
    {
      "cell_type": "markdown",
      "metadata": {
        "id": "gYuuOUYw-G4I"
      },
      "source": [
        "---\n",
        "### Exercise 3 - check dictionary values\n",
        "\n",
        "Write a new function which will:\n",
        "\n",
        "*  set up the same two dictionaries as in Exercise 2  \n",
        "*  ask the user to enter the details to complete the person record  \n",
        "*  calculate the person's age  \n",
        "*  if the person is under 17 then print a message to say that they can't buy a car as they are too young to drive\n",
        "*  else if the person is under 25 then print a message to say that an engine size under 1200 is recommended  \n",
        "*  ask the user to enter the make of car that the person is looking for  \n",
        "*  if the user enters the same make as that stored in the car record, then print a message to say that you have one car of that make in stock and print all the details of the car that you have the record for\n",
        "*  else (if the user enters any other car make) then print a message to say sorry that you don't have any cars of that make in stock\n",
        "*  print a message to say that the user can get more details for stockist in the <user's postcode> area if they call 01234567890\n",
        "*  print a message to say \"Thank you <user's name> for using our site\"  \n",
        "\n",
        "Test input:  \n",
        "Jack  \n",
        "Jones  \n",
        "2005/02/02  \n",
        "AB5 3DF  \n",
        "Vauxhall  \n",
        "\n",
        "Expected output:  \n",
        "You are too young to drive\n",
        "\n",
        "Test input:  \n",
        "John  \n",
        "Jones  \n",
        "2003/02/02  \n",
        "AB5 3DF  \n",
        "Vauxhall\n",
        "\n",
        "Expected output:  \n",
        "An engine size under 1200 is recommended  \n",
        "We have one Vauxhall in stock, details:  \n",
        "Make - Vauxhall    \n",
        "Model - Corsa    \n",
        "Engine size - 1199  \n",
        "Fuel type - unleaded   \n",
        "Number of doors - 4  \n",
        "You can get more details of stockists near AB5 3DF on 01234567890  \n",
        "Thank you John Jones for using our site.     \n",
        "\n",
        "Test input:  \n",
        "John  \n",
        "Jones  \n",
        "2003/02/02  \n",
        "AB5 3DF  \n",
        "Ford  \n",
        "\n",
        "Expected output:  \n",
        "An engine size under 1200 is recommended  \n",
        "Sorry, we don't have any of that make in stock  \n"
      ]
    },
    {
      "cell_type": "code",
      "metadata": {
        "id": "Wp9Il2JG_hDh",
        "colab": {
          "base_uri": "https://localhost:8080/"
        },
        "outputId": "39b5bd27-02ab-4f52-e48e-e2642c9a301f"
      },
      "source": [
        "from datetime import datetime\n",
        "\n",
        "def check_person_data():\n",
        "  # add your code below this line\n",
        "  firstname  = input(\"Enter Firstname: \")\n",
        "  surname = input(\"Enter Surname: \")\n",
        "  birthdate = input(\"Enter Birthdate: \")\n",
        "  postcode = input(\"Enter Postcode: \")\n",
        "\n",
        "  person = {\n",
        "      \"firstname\" : firstname.capitalize(),\n",
        "      \"surname\" : surname.capitalize(),\n",
        "      \"birthdate\" : datetime.strptime(birthdate,\"%Y/%m/%d\"),\n",
        "      \"postcode\" : postcode.upper(),\n",
        "  }\n",
        "  car_make = \"Vauxhall\"\n",
        "  car_model = \"Corsa\"\n",
        "  car_enginesize = 1199\n",
        "  car_fueltype = \"unleaded\"\n",
        "  car_numdoors = 4\n",
        "  car = {\n",
        "     \"car_make\" : car_make,\n",
        "     \"car model\" : car_model,\n",
        "     \"car enginesize\" : car_enginesize,\n",
        "     \"car fueltype\" : car_fueltype,\n",
        "     \"car numdoors\" : car_numdoors,\n",
        "  }\n",
        "\n",
        "  age = datetime.now().year - person[\"birthdate\"].year\n",
        "  print(\"Age: \",age)\n",
        "  if age < 17:\n",
        "    print(\"You are too young to drive\")\n",
        "  elif age >=17 and age < 25:\n",
        "    print(\"An engine size under 1200 is recommended\")\n",
        "    make = input(\"Enter your choice of car make: \")\n",
        "    if make.lower() == car[\"car_make\"].lower():\n",
        "      print(\"we have one \", car[\"car_make\"],\" in stock, Details os following\")\n",
        "      print(\"Make - \",car[\"car_make\"])\n",
        "      print(\"Model - \",car[\"car model\"])\n",
        "      print(\"Engine size - \",car[\"car enginesize\"])\n",
        "      print(\"Fuel type - \",car[\"car fueltype\"])\n",
        "      print(\"Number of doors - \",car[\"car numdoors\"])\n",
        "      print(\"You can get more details of stockists near \",person[\"postcode\"],\" on 01234567890\")\n",
        "    else:\n",
        "      print(\"Sorry, we don't have any of that make in stock\")\n",
        "\n",
        "  print(\"Thanks you \",person[\"firstname\"],person[\"surname\"],\" for using our site\")\n",
        "\n",
        "check_person_data()"
      ],
      "execution_count": null,
      "outputs": [
        {
          "output_type": "stream",
          "name": "stdout",
          "text": [
            "Enter Firstname: Jack\n",
            "Enter Surname: jones\n",
            "Enter Birthdate: 2008/02/02\n",
            "Enter Postcode: dd4 6pw\n",
            "Age:  16\n",
            "You are too young to drive\n",
            "Thanks you  Jack Jones  for using our site\n"
          ]
        }
      ]
    },
    {
      "cell_type": "markdown",
      "metadata": {
        "id": "I6dUiRwn7Gkg"
      },
      "source": [
        "---\n",
        "### Exercise 4 - print keys and values\n",
        "\n",
        "Two dictionaries have been created below.  You can print a list of the dictionary's keys using `dictionary_name.keys()` and the values using `dictionary_name.values()`\n",
        "\n",
        "Write a function which will accept a dictionary as a parameter and will:  \n",
        "*  print the dictionary keys as a list   \n",
        "*  print the dictionary values as a list  \n",
        "\n",
        "*Hint*:  you will need to cast the keys as a list (`list(dictionary_name.keys()`)  and do the same for the values.\n",
        "\n",
        "**Expected Output**\n",
        "\n",
        "Input: English  \n",
        "Output:\n",
        "['Andy', 'Angela']  \n",
        "[95, 53]  \n",
        "\n",
        "Input: Maths  \n",
        "Output:  \n",
        "['Andy', 'Angela']  \n",
        "[58, 72]\n",
        "\n",
        "\n",
        "\n"
      ]
    },
    {
      "cell_type": "code",
      "metadata": {
        "id": "FApOckhJEsMs",
        "colab": {
          "base_uri": "https://localhost:8080/"
        },
        "outputId": "58820f21-d4dc-4f5d-fc81-72d4a4cbe0ff"
      },
      "source": [
        "def display_dictionary(scores):\n",
        "  #  add your code below this line\n",
        "  print(list(scores.keys()))\n",
        "  print(list(scores.values()))\n",
        "\n",
        "\n",
        "english_scores = {'Andy': 95, 'Angela': 53}\n",
        "maths_scores = {'Andy': 58, 'Angela': 72}\n",
        "display_dictionary(english_scores)\n",
        "display_dictionary(maths_scores)"
      ],
      "execution_count": 4,
      "outputs": [
        {
          "output_type": "stream",
          "name": "stdout",
          "text": [
            "['Andy', 'Angela']\n",
            "[95, 53]\n",
            "['Andy', 'Angela']\n",
            "[58, 72]\n"
          ]
        }
      ]
    },
    {
      "cell_type": "markdown",
      "metadata": {
        "id": "segSpkmBFSJl"
      },
      "source": [
        "---\n",
        "### Exercise 5 - add field\n",
        "\n",
        "Write a function which will:\n",
        "\n",
        "*  create a new dictionary called **science_scores** with values of 0 for both Andy and Angela\n",
        "*  update Andy's score for science to 73 and Angela's score to 73   \n",
        "*  create a new key/value pair by adding another learner to the `science_scores`  dictionary (George has a score of 55)    \n",
        "*  print the `science_scores` dictionary to check results  \n",
        "\n",
        "Expected Output\n",
        "\n",
        "{'Andy': 73, 'Angela': 73, 'George': 55}"
      ]
    },
    {
      "cell_type": "code",
      "metadata": {
        "id": "BL1JM-Z7Gttf",
        "colab": {
          "base_uri": "https://localhost:8080/"
        },
        "outputId": "c50393a7-5de7-44a9-8326-9bd018db7a18"
      },
      "source": [
        "def add_update_dictionary(scores, key, value):\n",
        "  scores[key] = value\n",
        "  return scores\n",
        "\n",
        "science_scores = {\n",
        "    'Andy' : 0,\n",
        "    'Angela' : 0,\n",
        "    'George' : 0\n",
        "    }\n",
        "science_scores = add_update_dictionary(science_scores,'Andy', 73)\n",
        "science_scores = add_update_dictionary(science_scores,'Angela', 73)\n",
        "science_scores = add_update_dictionary(science_scores,'George', 55)\n",
        "print(list(science_scores.keys()))\n",
        "print(list(science_scores.values()))\n"
      ],
      "execution_count": 23,
      "outputs": [
        {
          "output_type": "stream",
          "name": "stdout",
          "text": [
            "['Andy', 'Angela', 'George']\n",
            "[73, 73, 55]\n"
          ]
        }
      ]
    },
    {
      "cell_type": "markdown",
      "metadata": {
        "id": "_Vzv0zlHGt-C"
      },
      "source": [
        "---\n",
        "### Exercise 6 - loop through keys/value pairs\n",
        "\n",
        "Write a function which will use a *for* loop to print the each key/value pair in the science dictionary (recreate this dictionary in this function)\n",
        "\n",
        "*(Hint: you can iterate through the key/value pairs in the dictionary in the same way as you iterate through a loop (e.g. for record in dictionary) and print the record (which is the key) and its value)*\n",
        "\n",
        "Expected output:  \n",
        "\n",
        "Angela 72  \n",
        "Andy 72  \n",
        "George 55  "
      ]
    },
    {
      "cell_type": "code",
      "metadata": {
        "id": "JL40_-W-Hxnt",
        "colab": {
          "base_uri": "https://localhost:8080/"
        },
        "outputId": "a9ccbe3e-a447-42d2-9d1c-ae7cb02668c8"
      },
      "source": [
        "def loop_dictionary(scores):\n",
        "  for key,value in scores.items():\n",
        "    print(key,\" \", value)\n",
        "\n",
        "#Create dictionary\n",
        "science_scores = {\n",
        "    'Angela' : 0,\n",
        "    'Andy' : 0,\n",
        "    'George' : 0\n",
        "    }\n",
        "#Update the dictionary the function define in Ex.5\n",
        "science_scores = add_update_dictionary(science_scores,'Angela', 72)\n",
        "science_scores = add_update_dictionary(science_scores,'Andy', 72)\n",
        "science_scores = add_update_dictionary(science_scores,'George', 55)\n",
        "loop_dictionary(science_scores)\n"
      ],
      "execution_count": 24,
      "outputs": [
        {
          "output_type": "stream",
          "name": "stdout",
          "text": [
            "Angela   72\n",
            "Andy   72\n",
            "George   55\n"
          ]
        }
      ]
    },
    {
      "cell_type": "markdown",
      "metadata": {
        "id": "G9wamxzRJdrE"
      },
      "source": [
        "---\n",
        "### Exercise 7 - generate new dictionary  \n",
        "\n",
        "Write a functions which will:\n",
        "*  create a new dictionary where the keys are numbers between 1 and 15 (both included) and the values are square of keys\n",
        "*  print the dictionary\n",
        "\n",
        "Expected output:  \n",
        "{1: 1, 2: 4, 3: 9, 4: 16, 5: 25, 6: 36, 7: 49, 8: 64, 9: 81, 10: 100, 11: 121, 12: 144, 13: 169, 14: 196, 15: 225}"
      ]
    },
    {
      "cell_type": "code",
      "metadata": {
        "id": "1-LI-LVrJ--N",
        "colab": {
          "base_uri": "https://localhost:8080/"
        },
        "outputId": "074a46c4-aed1-41e3-be78-3cea48112306"
      },
      "source": [
        "def create_squarenum_dictionry():\n",
        "  square_dictionary = {}\n",
        "  for i in range(1,16):\n",
        "    #square_dictionary[i] = i*i   #other the update the dictionary key and value\n",
        "    square_dictionary = add_update_dictionary(square_dictionary,i,i*i) #Update the dictionary the function define in Ex.5\n",
        "  print(square_dictionary)\n",
        "  loop_dictionary(square_dictionary)  #printing the dictionaries using the function created in Ex.6\n",
        "\n",
        "create_squarenum_dictionry()"
      ],
      "execution_count": 25,
      "outputs": [
        {
          "output_type": "stream",
          "name": "stdout",
          "text": [
            "{1: 1, 2: 4, 3: 9, 4: 16, 5: 25, 6: 36, 7: 49, 8: 64, 9: 81, 10: 100, 11: 121, 12: 144, 13: 169, 14: 196, 15: 225}\n",
            "1   1\n",
            "2   4\n",
            "3   9\n",
            "4   16\n",
            "5   25\n",
            "6   36\n",
            "7   49\n",
            "8   64\n",
            "9   81\n",
            "10   100\n",
            "11   121\n",
            "12   144\n",
            "13   169\n",
            "14   196\n",
            "15   225\n"
          ]
        }
      ]
    },
    {
      "cell_type": "markdown",
      "metadata": {
        "id": "t0y4mefwJ_jQ"
      },
      "source": [
        "---\n",
        "### Exercise 8 - colour dictionary  \n",
        "\n",
        "Write a function which will:  \n",
        "*  create a new dictionary record called colour_codes with the values 'red' - '#FF0000', 'green' - '#008000', 'black' - '#000000', 'white' - '#FFFFFF'\n",
        "*  add a new colour code:  'blue' - '#0000FF'    \n",
        "*  remove the colours black and white from the dictionary  \n",
        "\n",
        "*Hint:  there is a list of methods [here](https://www.w3schools.com/python/python_ref_dictionary.asp)*  "
      ]
    },
    {
      "cell_type": "code",
      "metadata": {
        "id": "yod1mUNOMeWg",
        "colab": {
          "base_uri": "https://localhost:8080/"
        },
        "outputId": "6fecfda4-18a0-4510-fc28-be527cab71e3"
      },
      "source": [
        "def create_colour_dictionary(color_dictionary):\n",
        "  #update the dictionary using Ex.5 function\n",
        "  color_dictionary = add_update_dictionary(color_dictionary,'red','#FF0000')\n",
        "  color_dictionary = add_update_dictionary(color_dictionary,'green','#008000')\n",
        "  color_dictionary = add_update_dictionary(color_dictionary,'black','#000000')\n",
        "  color_dictionary = add_update_dictionary(color_dictionary,'white','#FFFFFF')\n",
        "  color_dictionary = add_update_dictionary(color_dictionary,'blue','#0000FF')\n",
        "  return color_dictionary\n",
        "\n",
        "color_dictionary = {}\n",
        "color_dictionary = create_colour_dictionary(color_dictionary)\n",
        "print(\"Color dictionary before delete :\", color_dictionary )\n",
        "color_dictionary.pop('black')\n",
        "color_dictionary.pop('white')\n",
        "print(\"Color dictionary after delete/pop :\", color_dictionary )\n"
      ],
      "execution_count": 26,
      "outputs": [
        {
          "output_type": "stream",
          "name": "stdout",
          "text": [
            "Color dictionary before delete : {'red': '#FF0000', 'green': '#008000', 'black': '#000000', 'white': '#FFFFFF', 'blue': '#0000FF'}\n",
            "Color dictionary after delete/pop : {'red': '#FF0000', 'green': '#008000', 'blue': '#0000FF'}\n"
          ]
        }
      ]
    },
    {
      "cell_type": "markdown",
      "metadata": {
        "id": "gjos_0vuMeyS"
      },
      "source": [
        "---\n",
        "### Exercise 9 - item tuples  \n",
        "\n",
        "Write a function which will:  \n",
        "*  create a new dictionary containing the colour codes for red, green, blue, black and white\n",
        "*  print the key/value pairs of a dictionary as a list of tuples  \n",
        "\n",
        "*Hint:  iterate through colours.items()*"
      ]
    },
    {
      "cell_type": "code",
      "metadata": {
        "id": "EzuMkUypOKTY",
        "colab": {
          "base_uri": "https://localhost:8080/"
        },
        "outputId": "17ee6c04-54e1-4caf-bdb1-d235e39fcae0"
      },
      "source": [
        "colors = {}\n",
        "colors = create_colour_dictionary(colors) #uSING Function created in Ex.8 to colors\n",
        "print(list(colors.items())) #printing key/ value pair using list"
      ],
      "execution_count": 29,
      "outputs": [
        {
          "output_type": "stream",
          "name": "stdout",
          "text": [
            "[('red', '#FF0000'), ('green', '#008000'), ('black', '#000000'), ('white', '#FFFFFF'), ('blue', '#0000FF')]\n"
          ]
        }
      ]
    },
    {
      "cell_type": "markdown",
      "metadata": {
        "id": "Jw1ot10cOc6r"
      },
      "source": [
        "---\n",
        "### Exercise 10 - check if empty\n",
        "Taken from w3resouce.com  \n",
        "\n",
        "Write a function which will check if a dictionary is empty or not\n",
        "\n",
        "*Hint:  you can use bool(dictionary_name), if the dictionary is empty then bool(dictionary_name will be false)*\n",
        "\n",
        "Test 1 sample data:\n",
        "{}\n",
        "\n",
        "Expected output:\n",
        "Dictionary is empty  \n",
        "\n",
        "Test 2 sample data:  \n",
        "{\"name\":\"Groucho\", \"occupation\":\"comedian\"}\n",
        "\n",
        "Expected output:  \n",
        "Dictionary is not empty"
      ]
    },
    {
      "cell_type": "code",
      "metadata": {
        "id": "7UdM1TfwRqnt",
        "colab": {
          "base_uri": "https://localhost:8080/"
        },
        "outputId": "2f7729f9-9752-4b3d-9e25-0a3d037ecb62"
      },
      "source": [
        "sample_data = {}\n",
        "if bool(sample_data):\n",
        "  print(\"Dictionary is not empty\")\n",
        "else:\n",
        "  print(\"Dictionary is empty\")\n",
        "\n",
        "sample_data = add_update_dictionary(sample_data,'name','Groucho')\n",
        "sample_data = add_update_dictionary(sample_data,'occupation','comedian')\n",
        "if bool(sample_data):\n",
        "  print(\"Dictionary is not empty\")\n",
        "else:\n",
        "  print(\"Dictionary is empty\")"
      ],
      "execution_count": 31,
      "outputs": [
        {
          "output_type": "stream",
          "name": "stdout",
          "text": [
            "Dictionary is empty\n",
            "Dictionary is not empty\n"
          ]
        }
      ]
    },
    {
      "cell_type": "markdown",
      "source": [
        "## Your thoughts on what you have learnt\n",
        "Please add some comments in the box below to reflect on what you have learnt through completing this worksheet, and any problems you encountered while doing so."
      ],
      "metadata": {
        "id": "EXYfVV1hv8U-"
      }
    },
    {
      "cell_type": "markdown",
      "source": [
        "Learned various dictionary operation and also implemented code modularisation using function learnt from previous worksheet"
      ],
      "metadata": {
        "id": "e_295aNvv9U2"
      }
    }
  ]
}