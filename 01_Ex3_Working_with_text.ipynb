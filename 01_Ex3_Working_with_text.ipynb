{
  "nbformat": 4,
  "nbformat_minor": 0,
  "metadata": {
    "colab": {
      "provenance": [],
      "authorship_tag": "ABX9TyMwPxv7QaCqORscGQMBTsOa",
      "include_colab_link": true
    },
    "kernelspec": {
      "name": "python3",
      "display_name": "Python 3"
    },
    "language_info": {
      "name": "python"
    }
  },
  "cells": [
    {
      "cell_type": "markdown",
      "metadata": {
        "id": "view-in-github",
        "colab_type": "text"
      },
      "source": [
        "<a href=\"https://colab.research.google.com/github/Hatim-Bhavnagar/Data-with-Python/blob/main/01_Ex3_Working_with_text.ipynb\" target=\"_parent\"><img src=\"https://colab.research.google.com/assets/colab-badge.svg\" alt=\"Open In Colab\"/></a>"
      ]
    },
    {
      "cell_type": "code",
      "source": [
        "def show_message1():\n",
        "   # add your code below here\n",
        "    name = \"Indira\"\n",
        "    age = \"25\"\n",
        "    message = \"Hello \" + name + \", your age is \" + age + \" years old.\"\n",
        "    print(message)\n",
        "\n",
        "show_message1()"
      ],
      "metadata": {
        "colab": {
          "base_uri": "https://localhost:8080/"
        },
        "id": "6cG7UfhH397d",
        "outputId": "a65f9e1f-66af-4276-a970-14d8f0f022b2"
      },
      "execution_count": 1,
      "outputs": [
        {
          "output_type": "stream",
          "name": "stdout",
          "text": [
            "Hello Indira, your age is 25 years old.\n"
          ]
        }
      ]
    },
    {
      "cell_type": "code",
      "source": [
        "def show_message2():\n",
        "   # add your code below here\n",
        "    name = \"Indira\"\n",
        "    age = 25\n",
        "    message = \"Hello \" + name + \", your age is \" + age + \" years old.\"\n",
        "    print(message)\n",
        "\n",
        "show_message2()"
      ],
      "metadata": {
        "colab": {
          "base_uri": "https://localhost:8080/",
          "height": 297
        },
        "id": "7iROPIoeB0DO",
        "outputId": "811b15a0-deb1-4089-afb2-ca3395be5c4c"
      },
      "execution_count": 2,
      "outputs": [
        {
          "output_type": "error",
          "ename": "TypeError",
          "evalue": "can only concatenate str (not \"int\") to str",
          "traceback": [
            "\u001b[0;31m---------------------------------------------------------------------------\u001b[0m",
            "\u001b[0;31mTypeError\u001b[0m                                 Traceback (most recent call last)",
            "\u001b[0;32m<ipython-input-2-4b96334999ef>\u001b[0m in \u001b[0;36m<cell line: 8>\u001b[0;34m()\u001b[0m\n\u001b[1;32m      6\u001b[0m     \u001b[0mprint\u001b[0m\u001b[0;34m(\u001b[0m\u001b[0mmessage\u001b[0m\u001b[0;34m)\u001b[0m\u001b[0;34m\u001b[0m\u001b[0;34m\u001b[0m\u001b[0m\n\u001b[1;32m      7\u001b[0m \u001b[0;34m\u001b[0m\u001b[0m\n\u001b[0;32m----> 8\u001b[0;31m \u001b[0mshow_message2\u001b[0m\u001b[0;34m(\u001b[0m\u001b[0;34m)\u001b[0m\u001b[0;34m\u001b[0m\u001b[0;34m\u001b[0m\u001b[0m\n\u001b[0m",
            "\u001b[0;32m<ipython-input-2-4b96334999ef>\u001b[0m in \u001b[0;36mshow_message2\u001b[0;34m()\u001b[0m\n\u001b[1;32m      3\u001b[0m     \u001b[0mname\u001b[0m \u001b[0;34m=\u001b[0m \u001b[0;34m\"Indira\"\u001b[0m\u001b[0;34m\u001b[0m\u001b[0;34m\u001b[0m\u001b[0m\n\u001b[1;32m      4\u001b[0m     \u001b[0mage\u001b[0m \u001b[0;34m=\u001b[0m \u001b[0;36m25\u001b[0m\u001b[0;34m\u001b[0m\u001b[0;34m\u001b[0m\u001b[0m\n\u001b[0;32m----> 5\u001b[0;31m     \u001b[0mmessage\u001b[0m \u001b[0;34m=\u001b[0m \u001b[0;34m\"Hello \"\u001b[0m \u001b[0;34m+\u001b[0m \u001b[0mname\u001b[0m \u001b[0;34m+\u001b[0m \u001b[0;34m\", your age is \"\u001b[0m \u001b[0;34m+\u001b[0m \u001b[0mage\u001b[0m \u001b[0;34m+\u001b[0m \u001b[0;34m\" years old.\"\u001b[0m\u001b[0;34m\u001b[0m\u001b[0;34m\u001b[0m\u001b[0m\n\u001b[0m\u001b[1;32m      6\u001b[0m     \u001b[0mprint\u001b[0m\u001b[0;34m(\u001b[0m\u001b[0mmessage\u001b[0m\u001b[0;34m)\u001b[0m\u001b[0;34m\u001b[0m\u001b[0;34m\u001b[0m\u001b[0m\n\u001b[1;32m      7\u001b[0m \u001b[0;34m\u001b[0m\u001b[0m\n",
            "\u001b[0;31mTypeError\u001b[0m: can only concatenate str (not \"int\") to str"
          ]
        }
      ]
    },
    {
      "cell_type": "markdown",
      "source": [],
      "metadata": {
        "id": "DFssUKclCTp4"
      }
    },
    {
      "cell_type": "markdown",
      "source": [
        "In Python, you can't directly concatenate strings and integers. This is why you are seeing the TypeError: can only concatenate str (not \"int\") to str.\n",
        "As age is int and hence not allowed."
      ],
      "metadata": {
        "id": "tSX9U_AGCTDD"
      }
    },
    {
      "cell_type": "code",
      "source": [
        "def show_message3():\n",
        "   # add your code below here\n",
        "    name = \"Indira\"\n",
        "    age = 25\n",
        "    message = \"Hello \" + name + \", your age is \" + str(age) + \" years old.\"\n",
        "    print(message)\n",
        "    age = str(25)\n",
        "    message = \"Hello \" + name + \", your age is \" + age + \" years old.\"\n",
        "    print(message)\n",
        "\n",
        "show_message3()"
      ],
      "metadata": {
        "colab": {
          "base_uri": "https://localhost:8080/"
        },
        "id": "QjG4bynDCQHz",
        "outputId": "5c5a2ebe-24b5-4103-ce1e-ee7dfafd84c5"
      },
      "execution_count": 3,
      "outputs": [
        {
          "output_type": "stream",
          "name": "stdout",
          "text": [
            "Hello Indira, your age is 25 years old.\n",
            "Hello Indira, your age is 25 years old.\n"
          ]
        }
      ]
    },
    {
      "cell_type": "markdown",
      "source": [
        "Before concatenate int into string, we need convert the int to string. 2 ways to convert as show in show_message3 function."
      ],
      "metadata": {
        "id": "XgyE2lAnDIM3"
      }
    },
    {
      "cell_type": "markdown",
      "source": [
        "I learned how to perform string operation in python and print a text message in the output."
      ],
      "metadata": {
        "id": "LOqpW0fNR1v6"
      }
    }
  ]
}