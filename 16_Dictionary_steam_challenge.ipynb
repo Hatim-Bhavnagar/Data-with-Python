{
  "nbformat": 4,
  "nbformat_minor": 0,
  "metadata": {
    "colab": {
      "provenance": [],
      "include_colab_link": true
    },
    "kernelspec": {
      "name": "python3",
      "display_name": "Python 3"
    },
    "language_info": {
      "name": "python"
    }
  },
  "cells": [
    {
      "cell_type": "markdown",
      "metadata": {
        "id": "view-in-github",
        "colab_type": "text"
      },
      "source": [
        "<a href=\"https://colab.research.google.com/github/Hatim-Bhavnagar/Data-with-Python/blob/main/16_Dictionary_steam_challenge.ipynb\" target=\"_parent\"><img src=\"https://colab.research.google.com/assets/colab-badge.svg\" alt=\"Open In Colab\"/></a>"
      ]
    },
    {
      "cell_type": "markdown",
      "source": [
        "### Dictionaries Steam Challenge\n",
        "---\n",
        "\n",
        "In this challenge you will be creating some dictionaries using the steam purchase data.\n",
        "\n",
        "Your task will be to:\n",
        "1. create a list of dictionaries matching user id and games into key value pairs\n",
        "2. grouping dictionaries to create a dictionary of games and lists of users who've bought them"
      ],
      "metadata": {
        "id": "4N2tXa3vFf8_"
      }
    },
    {
      "cell_type": "markdown",
      "source": [
        "### Run this cell to load in the data ready to use\n",
        "---\n",
        "\n",
        "2 lists are being created:  \n",
        "**users** - contains a list of user ID's    \n",
        "**titles** - contains the list of game titles   "
      ],
      "metadata": {
        "id": "HEP45tLOIeQ9"
      }
    },
    {
      "cell_type": "code",
      "source": [
        "import pandas as pd\n",
        "\n",
        "# open the data file and get a copy of the Titles column\n",
        "def get_users_and_titles():\n",
        "  url = \"https://drive.google.com/uc?id=1rkG8-cp-KLBc1zK4YMLHIsMMyyTVk5Ju\"\n",
        "  data_table = pd.read_csv(url)\n",
        "  return data_table[\"User\"].tolist(), data_table[\"Title\"].tolist()\n",
        "\n",
        "users, titles = get_users_and_titles()"
      ],
      "metadata": {
        "id": "zNx-LNgtIaan"
      },
      "execution_count": 2,
      "outputs": []
    },
    {
      "cell_type": "markdown",
      "source": [
        "### Task 1\n",
        "---\n",
        "\n",
        "Create a list of dictionaries from the 2 lists above (**users** & **titles**):\n",
        "* The users should be the keys  \n",
        "* the titles should be the corresponding values\n",
        "* You should end up with a list of dictionaries with user:title key value pairs\n",
        "\n",
        "*(hint: use a `for` loop and `append()` to help)*\n",
        "\n"
      ],
      "metadata": {
        "id": "QQ3fXxcdIVPd"
      }
    },
    {
      "cell_type": "code",
      "execution_count": 3,
      "metadata": {
        "id": "HbsI2riIFczA",
        "colab": {
          "base_uri": "https://localhost:8080/"
        },
        "outputId": "3777d8fc-3e94-4aa1-ebdb-db0acf7acfe6"
      },
      "outputs": [
        {
          "output_type": "stream",
          "name": "stdout",
          "text": [
            "sample dictionary list item : {151603712: 'The Elder Scrolls V Skyrim'}\n",
            "The Length of dictionary: 129511\n",
            "The Length of users list: 129511\n",
            "The Length of titles list: 129511\n"
          ]
        }
      ],
      "source": [
        "def merge_users_and_titles(users, titles):\n",
        "  user_title_dict = []\n",
        "  for i in range(len(users)):\n",
        "    user_title_dict.append({users[i]: titles[i]})\n",
        "  return user_title_dict\n",
        "\n",
        "users, titles = get_users_and_titles()\n",
        "user_title_dict = merge_users_and_titles(users, titles)\n",
        "print(\"sample dictionary list item :\", user_title_dict[0])\n",
        "print(\"The Length of dictionary:\",len(user_title_dict))\n",
        "print(\"The Length of users list:\",len(users))\n",
        "print(\"The Length of titles list:\",len(titles))\n",
        "\n"
      ]
    },
    {
      "cell_type": "markdown",
      "source": [
        "### Task 2\n",
        "---\n",
        "Create a list with only the unique titles    \n",
        "*(hint: use a `for` loop and `append()`)*\n",
        "\n",
        "**Expected Output**  \n",
        "Length of list should be 5155"
      ],
      "metadata": {
        "id": "QhpXbivVSZav"
      }
    },
    {
      "cell_type": "code",
      "source": [
        "def unique_list(datalist):\n",
        "  uniquelist =[]\n",
        "  for i in range(len(datalist)):\n",
        "    if datalist[i] not in uniquelist:\n",
        "      uniquelist.append(datalist[i])\n",
        "  return uniquelist\n",
        "\n",
        "users, titles = get_users_and_titles()\n",
        "user_title_dict = merge_users_and_titles(users, titles)\n",
        "unique_titles = []\n",
        "unique_titles = unique_list(titles)\n",
        "\n",
        "print(\"The Length of unique title dictionary:\",len(unique_titles))\n",
        "print(\"The 1st title in the list : \",unique_titles[0])\n"
      ],
      "metadata": {
        "colab": {
          "base_uri": "https://localhost:8080/"
        },
        "id": "6k_dVLkYoXe1",
        "outputId": "26658612-22c6-4f60-e396-824fdb515c07"
      },
      "execution_count": 16,
      "outputs": [
        {
          "output_type": "stream",
          "name": "stdout",
          "text": [
            "The Length of unique title dictionary: 5155\n",
            "The 1st title in the list :  The Elder Scrolls V Skyrim\n"
          ]
        }
      ]
    },
    {
      "cell_type": "code",
      "source": [
        "# Method 2 to create a list of unique dataset/values\n",
        "users, titles = get_users_and_titles()\n",
        "unique_titles = list(set(titles))\n",
        "# unique_titles.sort()\n",
        "print(\"The Length of unique title dictionary:\",len(unique_titles))\n",
        "print(\"The 1st title in the list : \",unique_titles[0])"
      ],
      "metadata": {
        "id": "O6ZJylBeS43y",
        "colab": {
          "base_uri": "https://localhost:8080/"
        },
        "outputId": "df0ef052-640e-4fa5-df95-1c46d9f9e47c"
      },
      "execution_count": 15,
      "outputs": [
        {
          "output_type": "stream",
          "name": "stdout",
          "text": [
            "The Length of unique title dictionary: 5155\n",
            "The 1st title in the list :  Machinarium\n"
          ]
        }
      ]
    },
    {
      "cell_type": "markdown",
      "source": [
        "### Task 3\n",
        "---\n",
        "Now that we have a list of the unique games that were bought, we can make a dictionary of the users that bought those games.\n",
        "\n",
        "We're going to start by doing it just for the first title in the list.\n",
        "\n",
        "1. find the first title *(use indexing)*\n",
        "2. create an empty list called **user_list**\n",
        "2. use a loop to iterate through your dictionary from task 1\n",
        "3. use `if` to match the title with dictionary entry\n",
        "4. if a match, append the corresponding user to your user list\n",
        "5. create a dictionary where the 1st title is the key and the user list is the value\n",
        "\n",
        "\n",
        "**Expected Output**  \n",
        "The user_list should be length 717"
      ],
      "metadata": {
        "id": "stO21xJyS520"
      }
    },
    {
      "cell_type": "code",
      "source": [
        "def no_of_users(title):\n",
        "  user_list = []\n",
        "  for i in range(len(user_title_dict)):\n",
        "    if list(user_title_dict[i].values())[0] == title:\n",
        "      user_list.append(list(user_title_dict[i].keys())[0])\n",
        "  return user_list\n",
        "\n",
        "users, titles = get_users_and_titles()\n",
        "user_title_dict = merge_users_and_titles(users, titles)\n",
        "user_list = []\n",
        "# unique_titles = list(set(titles))\n",
        "unique_titles = unique_list(titles)\n",
        "print(\"The 1st title in the list : \",unique_titles[0])\n",
        "# unique_titles.sort()\n",
        "# print(\"The Length of unique title dictionary:\",len(unique_titles))\n",
        "user_list = no_of_users(unique_titles[0])\n",
        "print(\"The Length of user_list for title '\",unique_titles[0],\"':\",len(user_list))\n"
      ],
      "metadata": {
        "id": "ixjMf6xEUuMw",
        "colab": {
          "base_uri": "https://localhost:8080/"
        },
        "outputId": "21b47744-2c85-41a9-dcfc-81614024b9da"
      },
      "execution_count": 17,
      "outputs": [
        {
          "output_type": "stream",
          "name": "stdout",
          "text": [
            "The 1st title in the list :  The Elder Scrolls V Skyrim\n",
            "The Length of user_list for title ' The Elder Scrolls V Skyrim ': 717\n"
          ]
        }
      ]
    },
    {
      "cell_type": "markdown",
      "source": [
        "### Task 4\n",
        "---\n",
        "Try repeating task 3 but for different games, what about the last game or the 100th?"
      ],
      "metadata": {
        "id": "mZgiFbi4UuxQ"
      }
    },
    {
      "cell_type": "code",
      "source": [
        "users, titles = get_users_and_titles()\n",
        "user_title_dict = merge_users_and_titles(users, titles)\n",
        "user_list = []\n",
        "# unique_titles = list(set(titles))\n",
        "unique_titles = unique_list(titles)\n",
        "print(\"The 100th title in the list : \",unique_titles[99])\n",
        "# unique_titles.sort()\n",
        "# print(\"The Length of unique title dictionary:\",len(unique_titles))\n",
        "user_list = no_of_users(unique_titles[99])\n",
        "print(\"The Length of user_list for 100th title '\",unique_titles[99],\"':\",len(user_list))\n",
        "user_list = no_of_users(unique_titles[-1])\n",
        "print(\"The Length of user_list for last title '\",unique_titles[-1],\"':\",len(user_list))"
      ],
      "metadata": {
        "id": "XjtCvbQxU6vO",
        "colab": {
          "base_uri": "https://localhost:8080/"
        },
        "outputId": "a29024cb-9ccb-48ff-bc65-02dd4221048d"
      },
      "execution_count": 20,
      "outputs": [
        {
          "output_type": "stream",
          "name": "stdout",
          "text": [
            "The 100th title in the list :  Dust An Elysian Tail\n",
            "The Length of user_list for 100th title ' Dust An Elysian Tail ': 76\n",
            "The Length of user_list for last title ' Executive Assault ': 1\n"
          ]
        }
      ]
    },
    {
      "cell_type": "markdown",
      "source": [
        "## Your thoughts on what you have learnt\n",
        "Please add some comments in the box below to reflect on what you have learnt through completing this worksheet, and any problems you encountered while doing so."
      ],
      "metadata": {
        "id": "3u3khNolxB_3"
      }
    },
    {
      "cell_type": "markdown",
      "source": [],
      "metadata": {
        "id": "538c-j8IxC1w"
      }
    }
  ]
}