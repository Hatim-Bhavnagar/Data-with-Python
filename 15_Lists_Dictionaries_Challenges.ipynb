{
  "nbformat": 4,
  "nbformat_minor": 0,
  "metadata": {
    "colab": {
      "provenance": [],
      "include_colab_link": true
    },
    "kernelspec": {
      "name": "python3",
      "display_name": "Python 3"
    },
    "language_info": {
      "name": "python"
    }
  },
  "cells": [
    {
      "cell_type": "markdown",
      "metadata": {
        "id": "view-in-github",
        "colab_type": "text"
      },
      "source": [
        "<a href=\"https://colab.research.google.com/github/Hatim-Bhavnagar/Data-with-Python/blob/main/15_Lists_Dictionaries_Challenges.ipynb\" target=\"_parent\"><img src=\"https://colab.research.google.com/assets/colab-badge.svg\" alt=\"Open In Colab\"/></a>"
      ]
    },
    {
      "cell_type": "markdown",
      "metadata": {
        "id": "nEJLJX3J9B2k"
      },
      "source": [
        "# Some challenges to help you become more confident with using Lists, Tuples and Dictionaries\n",
        "\n",
        "---\n",
        "\n"
      ]
    },
    {
      "cell_type": "markdown",
      "metadata": {
        "id": "JvV6htgh9Nc1"
      },
      "source": [
        "### Exercise 1 - extending a list\n",
        "\n",
        "There are three ways to extend a list in Python:  \n",
        "*  use `list_name.append(item)`, `list_name.insert(item)`\n",
        "*  concatenate two lists using the + operator (e.g. new_list = list1 + list2)\n",
        "*  use `list1_name.extend(list2_name)`\n",
        "\n",
        "The last method allows us to add all the `list2` items onto `list1` and for the new, extended list to now be `list1`.  `list2` will always be added to the end of `list1`.  \n",
        "\n",
        "If the objective is to add list2 before list1 then use `list2.extend(list1)`\n",
        "\n",
        "Write a function which will:  \n",
        "*  create a list of **years** containing the years 1960, 1970, 1980, 1990, 2000  \n",
        "*  print the list of years  \n",
        "*  calculate how long ago each year was and print the year and how long ago it was (e.g. 1990 was 30 years ago)  *(Hint:  use the datetime library to get the current year)*   \n",
        "*  create a second list, **years2** containing the years 2010 and 2020, extend `years` to include these later years\n",
        "*  create a third list, **years3** containing the years 1930, 1940 and 1950 and extend the` years3` list to include all the years between 1930 and 2020\n",
        "*  print the final list\n",
        "\n",
        "Expected output:  \n",
        "[1960, 1970, 1980, 1990]  \n",
        "1960 was 61 years ago  \n",
        "1970 was 51 years ago  \n",
        "1980 was 41 years ago  \n",
        "1990 was 31 years ago  \n",
        "2000 was 21 years ago  \n",
        "[1930, 1940, 1950, 1960, 1970, 1980, 1990, 2000, 2010, 2020]"
      ]
    },
    {
      "cell_type": "code",
      "metadata": {
        "id": "QAyTVqoO8-08",
        "colab": {
          "base_uri": "https://localhost:8080/"
        },
        "outputId": "229c2c91-c991-4717-ea51-b2c4930cbf5b"
      },
      "source": [
        "def count_years(year):\n",
        "  import datetime\n",
        "  current_year = datetime.datetime.now().year\n",
        "  return (current_year - year)\n",
        "\n",
        "\n",
        "years = [1960, 1970, 1980, 1990, 2000]\n",
        "print(years)\n",
        "for year in years:\n",
        "  print(f\"{year} was {count_years(year)} years ago\")\n",
        "\n",
        "years2 = [2010, 2020]\n",
        "years.extend(years2)\n",
        "print(years)\n",
        "\n",
        "years3 = [1930, 1940, 1950]\n",
        "years3 = years3 + years\n",
        "print(years3)\n"
      ],
      "execution_count": null,
      "outputs": [
        {
          "output_type": "stream",
          "name": "stdout",
          "text": [
            "[1960, 1970, 1980, 1990, 2000]\n",
            "1960 was 64 years ago\n",
            "1970 was 54 years ago\n",
            "1980 was 44 years ago\n",
            "1990 was 34 years ago\n",
            "2000 was 24 years ago\n",
            "[1960, 1970, 1980, 1990, 2000, 2010, 2020]\n",
            "[1930, 1940, 1950, 1960, 1970, 1980, 1990, 2000, 2010, 2020]\n"
          ]
        }
      ]
    },
    {
      "cell_type": "markdown",
      "metadata": {
        "id": "S5iPicFzBzOW"
      },
      "source": [
        "---\n",
        "### Exercise 2 - creating a dictionary from a tuple and three lists\n",
        "\n",
        "Write a function which will create a list of dictionary items using the values in a tuple as the dictionary keys and the values in three corresponding lists as the dictionary values.\n",
        "\n",
        "*  loop through the status items in the tuple called task_status\n",
        "*  for each status, loop through the list with the same name (*Hint:  you can use eval(status) to access the list with the matching name  e.g. for task in eval(status)* )\n",
        "*  each time round this second loop, create a dictionary object with the  key:value pair {status : task}\n",
        "*  add each new dictionary to a list called **project_board** that was created as an empty list before the loops  \n",
        "*  print the project_board list\n",
        "\n",
        "Expected output:  \n",
        "\n",
        "[{'assigned': 'task1'}, {'assigned': 'task2'}, {'assigned': 'task3'}, {'inprogress': 'task4'}, {'inprogress': 'task5'}, {'inprogress': 'task6'}, {'completed': 'task7'}, {'completed': 'task8'}, {'completed': 'task9'}]\n",
        "\n",
        "\n",
        "Copy this code into the cell below to get you started:\n",
        "```\n",
        "def create_project_board():\n",
        "  task_status = (\"assigned\", \"inprogress\", \"completed\")\n",
        "  assigned = ['task1','task2','task3']\n",
        "  inprogress = ['task4','task5','task6']\n",
        "  completed = ['task7','task8','task9']\n",
        "  #  add your code below here\n",
        "\n",
        "\n",
        "\n",
        "\n",
        "create_project_board()\n",
        "```\n"
      ]
    },
    {
      "cell_type": "code",
      "metadata": {
        "id": "KXYOSHY-C7m4",
        "colab": {
          "base_uri": "https://localhost:8080/"
        },
        "outputId": "df94892b-a0ec-492f-e4f7-1ee860026e7b"
      },
      "source": [
        "def create_project_board():\n",
        "  task_status = (\"assigned\", \"inprogress\", \"completed\")\n",
        "  assigned = ['task1','task2','task3']\n",
        "  inprogress = ['task4','task5','task6']\n",
        "  completed = ['task7','task8','task9']\n",
        "  #  add your code below here\n",
        "  project_board = []\n",
        "\n",
        "  for status in task_status:\n",
        "    #print(status,\":\",eval(status))\n",
        "    for task in eval(status):\n",
        "      project_board.append({status : task})\n",
        "    #print(project_board)\n",
        "  print(\"project_board =\",project_board)\n",
        "\n",
        "create_project_board()"
      ],
      "execution_count": null,
      "outputs": [
        {
          "output_type": "stream",
          "name": "stdout",
          "text": [
            "project_board = [{'assigned': 'task1'}, {'assigned': 'task2'}, {'assigned': 'task3'}, {'inprogress': 'task4'}, {'inprogress': 'task5'}, {'inprogress': 'task6'}, {'completed': 'task7'}, {'completed': 'task8'}, {'completed': 'task9'}]\n"
          ]
        }
      ]
    },
    {
      "cell_type": "markdown",
      "metadata": {
        "id": "M1BuTu9p19Ma"
      },
      "source": [
        "---\n",
        "### Exercise 3 - names and heights\n",
        "\n",
        "Write a function which will allow a user to enter the names and heights of a set of people and add each set of information as a record (dictionary) to a list. The function will stop collecting names and heights when the user enters \"STOP\" as the name.\n",
        "\n",
        "Then, the function will:  \n",
        "\n",
        "*   produce a list of names in order of the shortest person to the tallest\n",
        "*   calculate the name of the tallest person\n",
        "*   calculate the name of the shortest person\n",
        "*   calculate the average height\n",
        "*   calculate the name of the person who is closest to the average height\n",
        "\n",
        "\n",
        "\n",
        "\n"
      ]
    },
    {
      "cell_type": "code",
      "metadata": {
        "id": "reuyww3e18uv",
        "colab": {
          "base_uri": "https://localhost:8080/"
        },
        "outputId": "0d7b7b7d-699b-4627-e065-4d4fe564df2e"
      },
      "source": [
        "def get_name_height():\n",
        "  name = input(\"Enter a name or 'STOP' to quit: \")\n",
        "  if name.upper() == \"STOP\":\n",
        "    return\n",
        "  height = float(input(\"Enter the height in cm: \"))\n",
        "  return ({name : height})\n",
        "\n",
        "person = []\n",
        "person_info = {}\n",
        "while True:\n",
        "  person_info = get_name_height()\n",
        "  if person_info == None:\n",
        "    break\n",
        "  person.append(person_info)\n",
        "print(person)\n",
        "#print(person.sort(key=lambda x: list(x.values())[0]))\n",
        "#print(person)\n",
        "tallest = person[0]\n",
        "shortest = person[0]\n",
        "total_height = 0\n",
        "for p in person:\n",
        "  #print(p)\n",
        "  #print(p.values())\n",
        "  #print(list(p.values())[0])\n",
        "  if list(p.values())[0] > list(tallest.values())[0]:\n",
        "    tallest = p\n",
        "  if list(p.values())[0] < list(shortest.values())[0]:\n",
        "    shortest = p\n",
        "  total_height += list(p.values())[0]\n",
        "print(\"Tallest =\",tallest)\n",
        "print(\"Shortest =\",shortest)\n",
        "average_height = total_height / len(person)\n",
        "print(\"Average height =\",average_height)\n",
        "closest = person[0]\n",
        "for p in person:\n",
        "  if abs(list(p.values())[0] - average_height) < abs(list(closest.values())[0] - average_height):\n",
        "    closest = p\n",
        "print(\"Person closest to average =\",closest)\n"
      ],
      "execution_count": 10,
      "outputs": [
        {
          "output_type": "stream",
          "name": "stdout",
          "text": [
            "Enter a name or 'STOP' to quit: Ha\n",
            "Enter the height in cm: 70\n",
            "Enter a name or 'STOP' to quit: in\n",
            "Enter the height in cm: 60\n",
            "Enter a name or 'STOP' to quit: hu\n",
            "Enter the height in cm: 67\n",
            "Enter a name or 'STOP' to quit: al\n",
            "Enter the height in cm: 40\n",
            "Enter a name or 'STOP' to quit: stop\n",
            "[{'Ha': 70.0}, {'in': 60.0}, {'hu': 67.0}, {'al': 40.0}]\n",
            "Tallest = {'Ha': 70.0}\n",
            "Shortest = {'al': 40.0}\n",
            "Average height = 59.25\n",
            "Person closest to average = {'in': 60.0}\n"
          ]
        }
      ]
    },
    {
      "cell_type": "markdown",
      "source": [
        "## Your thoughts on what you have learnt\n",
        "Please add some comments in the box below to reflect on what you have learnt through completing this worksheet, and any problems you encountered while doing so."
      ],
      "metadata": {
        "id": "-hXBSpyHwJvm"
      }
    },
    {
      "cell_type": "markdown",
      "source": [
        "Discovered various complex list and dictionaries object operation that can be performed for analysis of the data"
      ],
      "metadata": {
        "id": "ktYJQmNjwK7H"
      }
    }
  ]
}