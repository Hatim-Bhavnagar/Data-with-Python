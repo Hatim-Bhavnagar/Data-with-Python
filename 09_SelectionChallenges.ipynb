{
  "nbformat": 4,
  "nbformat_minor": 0,
  "metadata": {
    "colab": {
      "provenance": [],
      "include_colab_link": true
    },
    "kernelspec": {
      "name": "python3",
      "display_name": "Python 3"
    }
  },
  "cells": [
    {
      "cell_type": "markdown",
      "metadata": {
        "id": "view-in-github",
        "colab_type": "text"
      },
      "source": [
        "<a href=\"https://colab.research.google.com/github/Hatim-Bhavnagar/Data-with-Python/blob/main/09_SelectionChallenges.ipynb\" target=\"_parent\"><img src=\"https://colab.research.google.com/assets/colab-badge.svg\" alt=\"Open In Colab\"/></a>"
      ]
    },
    {
      "cell_type": "markdown",
      "metadata": {
        "id": "-QxAKPD8DZfj"
      },
      "source": [
        "# Three selection challenges\n",
        "\n",
        "---\n"
      ]
    },
    {
      "cell_type": "markdown",
      "metadata": {
        "id": "2KYUALILDcM9"
      },
      "source": [
        "### Challenge 1 - password format  \n",
        "\n",
        "Write a function called **check_password_valid()** which will check the validity of a **password** input by a user.\n",
        "\n",
        "Rules for a valid password are:  \n",
        "\n",
        "*  At least 1 letter between [a-z] and 1 letter between [A-Z].\n",
        "*  At least 1 number between [0-9].\n",
        "*  At least 1 character from [$#@].\n",
        "*  Minimum length 6 characters.\n",
        "*  Maximum length 16 characters.  \n",
        "\n",
        "Let the user know if the `password` they have typed is valid and, if not, where was the first error.\n",
        "\n",
        "*Hint:  to test if a set of characters is present in a password String, you can use re.search('[character set]', `password`)*  \n",
        "\n",
        "Example:   \n",
        "*if re.search('[a-z]',`password`):*    \n",
        "if there is at least 1 character a-z in the password, re.search will not be None.\n",
        "\n",
        "**re** is a pre-written Python function for pattern searching in Strings.  It has been imported for you in the code cell below.  "
      ]
    },
    {
      "cell_type": "code",
      "metadata": {
        "id": "8wBK9IA4BO2e",
        "colab": {
          "base_uri": "https://localhost:8080/"
        },
        "outputId": "b7079888-2198-4f5b-c77a-778262867210"
      },
      "source": [
        "import re\n",
        "def check_password_valid(password):\n",
        "  #password = input(\"Enter a Password :\")\n",
        "  length = len(password)\n",
        "  if length >= 6 and length <= 16 :\n",
        "    if re.search('[a-z]',password) == None:\n",
        "      print(\"Invalid Password\")\n",
        "    elif re.search('[A-Z]',password) == None:\n",
        "      print(\"Invalid Password\")\n",
        "    elif re.search('[0-9]',password) == None:\n",
        "      print(\"Invalid Password\")\n",
        "    elif re.search('[$#@]',password) == None:\n",
        "      print(\"Invalid Password\")\n",
        "    else :\n",
        "      print(\"Valid Password\")\n",
        "  else:\n",
        "    print(\"Invalid Password\")\n",
        "\n",
        "\n",
        "check_password_valid(\"Abcd@1234\")\n",
        "check_password_valid(\"Abcd1234\")\n",
        "check_password_valid(\"Abcd@1234thewoiewAS\")"
      ],
      "execution_count": 7,
      "outputs": [
        {
          "output_type": "stream",
          "name": "stdout",
          "text": [
            "Valid Password\n",
            "Invalid Password\n",
            "Invalid Password\n"
          ]
        }
      ]
    },
    {
      "cell_type": "markdown",
      "source": [
        "Using one liner decision statement\n",
        "result = {(condition1 :  <code1>) , (condition2 :  <code2>) }.get(True, <code3>)"
      ],
      "metadata": {
        "id": "JSzeQOCZBbij"
      }
    },
    {
      "cell_type": "code",
      "source": [
        "import re\n",
        "def check_password_valid2(password):\n",
        "  #password = input(\"Enter a Password :\")\n",
        "  length = len(password)\n",
        "  #using one-linear decision statement\n",
        "  #{(condition1 :  <code1>) , (condition2 :  <code2>) }.get(True, <code3>)\n",
        "  result = {(length >= 6 and length <= 16):\n",
        "            {re.search('[a-z]',password) == None: \"Invalid Password\",\n",
        "            re.search('[A-Z]',password) == None: \"Invalid Password\",\n",
        "            re.search('[0-9]',password) == None: \"Invalid Password\",\n",
        "            re.search('[$#@]',password) == None: \"Invalid Password\"}.get(True, \"Valid Password\")}.get(True, \"Invalid Password\")\n",
        "  print(result)\n",
        "\n",
        "check_password_valid2(\"Abcd@1234\")\n",
        "check_password_valid2(\"Abcd1234\")\n",
        "check_password_valid2(\"Abcd@1234thewoiewAS\")"
      ],
      "metadata": {
        "id": "wSSU4C06BO0l",
        "outputId": "3541a5e6-9cfd-4b6d-c75e-bdab87d1e928",
        "colab": {
          "base_uri": "https://localhost:8080/"
        }
      },
      "execution_count": 8,
      "outputs": [
        {
          "output_type": "stream",
          "name": "stdout",
          "text": [
            "Valid Password\n",
            "Invalid Password\n",
            "Invalid Password\n"
          ]
        }
      ]
    },
    {
      "cell_type": "markdown",
      "metadata": {
        "id": "f0R4GYTEFQS-"
      },
      "source": [
        "---\n",
        "### Challenge 2 - triangle shape  \n",
        "\n",
        "Write a function called **evaluate_triangle_shape()** which will check if a triangle is equilateral, isosceles or scalene, based on the three side lengths entered by a user (**x**, **y** and **z**.\n",
        "\n",
        "An equilateral triangle is a triangle in which all three sides are equal.\n",
        "A scalene triangle is a triangle that has three unequal sides.\n",
        "An isosceles triangle is a triangle with (at least) two equal sides.\n",
        "\n",
        "For example:  \n",
        "A triange with side lengths                                 \n",
        "x: 6                                                                    \n",
        "y: 8                                                                    \n",
        "z: 12                                                                   \n",
        "is a *Scalene triangle*\n",
        "\n",
        "A triangle with side lengths\n",
        "x:5  \n",
        "y:3   \n",
        "z:5  \n",
        "is an *Isosceles triangle*"
      ]
    },
    {
      "cell_type": "code",
      "source": [
        "def evaluate_triangle_shape() :\n",
        "  print(\"Enter sides of Triangle\")\n",
        "  x = int(input(\"Enter side 1 : \"))\n",
        "  y = int(input(\"Enter side 2 : \"))\n",
        "  z = int(input(\"Enter side 3 : \"))\n",
        "\n",
        "  if x == y == z :\n",
        "    print(\"It's an Equilateral triangle\")\n",
        "  elif x == y or y == z or z == x :\n",
        "    print(\"It's an Isoceles triangle\")\n",
        "  else :\n",
        "    print(\"It's an Scalene triangle\")\n",
        "\n",
        "evaluate_triangle_shape()"
      ],
      "metadata": {
        "colab": {
          "base_uri": "https://localhost:8080/"
        },
        "id": "GJyjJTxmvJBW",
        "outputId": "b3009f20-d969-4d9c-ac54-991443f1d067"
      },
      "execution_count": null,
      "outputs": [
        {
          "output_type": "stream",
          "name": "stdout",
          "text": [
            "Enter sides of Triangle\n",
            "Enter side 1 : 3\n",
            "Enter side 2 : 5\n",
            "Enter side 3 : 3\n",
            "It's an Isoceles triangle\n"
          ]
        }
      ]
    },
    {
      "cell_type": "markdown",
      "metadata": {
        "id": "hr2EotkqG33l"
      },
      "source": [
        "---\n",
        "### Challenge 3 - which season\n",
        "\n",
        "Write a function called **determine_season()** which will ask the user to enter two integers representing a **month** and **day** and prints the season for that month and day.\n",
        "\n",
        "Note:  for this exercise the season dates are:\n",
        "*  Winter December 21 to March 20    \n",
        "*  Spring March 21 to June 20  \n",
        "*  Summer June 21 to September 20  \n",
        "*  Autumn September 21 to December 20\n",
        "\n",
        "Test input:  \n",
        "Input the month (e.g. January, February etc.): 7                     \n",
        "Input the day: 31                                                       \n",
        "\n",
        "Expected output:  \n",
        "Season is summer\n",
        "\n",
        "*Note: this will require multiple and or or operators and you should use brackets to help Python know which operations to do first*  \n",
        "\n",
        "*For an extra challenge you can check that the day is valid for the month*"
      ]
    },
    {
      "cell_type": "code",
      "metadata": {
        "id": "cvbfz8nzG4IL",
        "colab": {
          "base_uri": "https://localhost:8080/"
        },
        "outputId": "fa6b46ad-7e25-47ad-d24f-ab7d849b6302"
      },
      "source": [
        "def determine_season():\n",
        "  month = int(input(\"Enter Month :\"))\n",
        "  day  = int(input(\"Enter Day:\"))\n",
        "  if ( month == 12 and day >= 21 ) or ( month == 1 or month == 2 ) or ( month == 3 and day <= 20 ) :\n",
        "    print(\"Season is Winter\")\n",
        "  elif ( month == 3 and day >= 21 ) or ( month == 4 or month == 5 ) or ( month == 6 and day <= 20 ) :\n",
        "    print(\"Season is Spring\")\n",
        "  elif ( month == 6 and day >= 21 ) or ( month == 7 or month == 8 ) or ( month == 9 and day <= 20 ) :\n",
        "    print(\"Season is Summer\")\n",
        "  else :\n",
        "    print(\"Season is Autumn\")\n",
        "\n",
        "determine_season()\n",
        "\n"
      ],
      "execution_count": null,
      "outputs": [
        {
          "output_type": "stream",
          "name": "stdout",
          "text": [
            "Enter Month :7\n",
            "Enter Day:31\n",
            "Season is Summer\n"
          ]
        }
      ]
    },
    {
      "cell_type": "markdown",
      "source": [
        "---\n",
        "# Your thoughts on what you have learnt from these challenges  \n",
        "\n",
        "Please add some comments in the box below to reflect on what you have learnt through completing this worksheet, and any problems you encountered while doing so."
      ],
      "metadata": {
        "id": "xr6B589Youcr"
      }
    },
    {
      "cell_type": "markdown",
      "source": [
        "Learned how to form a complex decision statement and explore regular expression libraries."
      ],
      "metadata": {
        "id": "qIfjax_VovRz"
      }
    }
  ]
}