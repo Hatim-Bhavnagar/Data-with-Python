{
  "nbformat": 4,
  "nbformat_minor": 0,
  "metadata": {
    "colab": {
      "provenance": [],
      "include_colab_link": true
    },
    "kernelspec": {
      "name": "python3",
      "display_name": "Python 3"
    }
  },
  "cells": [
    {
      "cell_type": "markdown",
      "metadata": {
        "id": "view-in-github",
        "colab_type": "text"
      },
      "source": [
        "<a href=\"https://colab.research.google.com/github/Hatim-Bhavnagar/Data-with-Python/blob/main/03_Working_with_strings.ipynb\" target=\"_parent\"><img src=\"https://colab.research.google.com/assets/colab-badge.svg\" alt=\"Open In Colab\"/></a>"
      ]
    },
    {
      "cell_type": "markdown",
      "metadata": {
        "id": "GdT0fwTCa4gI"
      },
      "source": [
        "# Working with Strings"
      ]
    },
    {
      "cell_type": "markdown",
      "source": [
        "---\n",
        "### String data\n",
        "\n",
        "One of the smallest file formats for storing data is CSV (Comma Separated Values).  A CSV file is a text file in which table data is organised in rows, with values separated by commas.  CSV files can be opened in spreadsheet software but are a fraction of the size of an Excel file.  \n",
        "\n",
        "This makes them the ideal choice for storing data and transferring it over networks.\n",
        "\n",
        "Learning to work with strings, finding substrings, capitalising, will have value when cleaning and transforming data."
      ],
      "metadata": {
        "id": "UinO7YCjGNZP"
      }
    },
    {
      "cell_type": "markdown",
      "source": [
        "---\n",
        "## Creating string data and joining strings together\n",
        "\n",
        "String variables are often used to hold names of things but also used to hold descriptions, messages, etc.  To assign string data to a variable, encase the text in \"\"  \n",
        "\n",
        "`name = \"Monty\"`  \n",
        "`description = \"A large snake\"`\n",
        "\n",
        "We often need to join strings together.  This might be to add a prefix to a filename, create an identifier, etc.\n",
        "\n",
        "Here is an example.  A function will add \"Q1_\" to the beginning of a `filename`.\n",
        "\n",
        "```\n",
        "new_filename = \"q1_\" + filename\n",
        "```\n",
        "So if `filename` is \"inventory.xlsx\" then `new_filename` will be \"Q1_inventory.xlsx\"\n",
        "\n",
        "Here is another example.  A function has done something and there has been an error with a `code` and a `description`.  The function needs to show an error message, so it creates a message with the code and description included.\n",
        "\n",
        "If the `code` is \"404\" and the `description` is \"file not found\", then the message can be generated like this:\n",
        "\n",
        "`message = \"Error \" + code + \" has occurred: \" + description`\n",
        "\n",
        "Now message will have the value \"Error 404 has occurred: file not found\"\n",
        "\n",
        "\n",
        "\n"
      ],
      "metadata": {
        "id": "Qpv0IlhYacwJ"
      }
    },
    {
      "cell_type": "markdown",
      "metadata": {
        "id": "ozWLM6Pfa7d_"
      },
      "source": [
        "---\n",
        "### Exercise 1 input and strings\n",
        "\n",
        "**Scenario**\n",
        "\n",
        "A system is needed to help collect personal data.  YOu have been asked to create a function that will collect a first, middle and last name\n",
        "\n",
        "**Recap**: to get input from the user and store it in a variable, use the instruction  \n",
        "\n",
        "*variableName = input(\"message asking user for required information\")*  \n",
        "\n",
        "*Remember: Unless you state otherwise, all input is String data*  \n",
        "\n",
        "**Your task**\n",
        "\n",
        "Write a function called **show_details()** which will:\n",
        "\n",
        "*  ask the user to input a **first_name**  \n",
        "*  ask the user to input a **middle_name**  \n",
        "*  ask the user to input a **surname**  \n",
        "*  print the name in the format: `surname`, `first_name` `middle_name`  \n",
        "\n",
        "**Test Inputs**:  \n",
        "Peter  \n",
        "Barry  \n",
        "Burrows  \n",
        "\n",
        "**Expected output**:  \n",
        "Burrows, Peter Barry\n"
      ]
    },
    {
      "cell_type": "code",
      "metadata": {
        "id": "lMJckNo-ab3z",
        "colab": {
          "base_uri": "https://localhost:8080/"
        },
        "outputId": "ecd2a052-f114-403c-fadf-550f9bed76c0"
      },
      "source": [
        "def show_details():\n",
        "   # add your code below here to ask the user to input a first, middle and a last name and print them in the correct format.\n",
        "   first_name = input(\"Please enter your first name: \")\n",
        "   middle_name = input(\"Please enter your middle name: \")\n",
        "   surname = input(\"Please enter your surname: \")\n",
        "   print(surname + \", \" + first_name + \" \" + middle_name)\n",
        "\n",
        "show_details()"
      ],
      "execution_count": 1,
      "outputs": [
        {
          "output_type": "stream",
          "name": "stdout",
          "text": [
            "Please enter your first name: Peter\n",
            "Please enter your middle name: Barry\n",
            "Please enter your surname: Burrows\n",
            "Burrows, Peter Barry\n"
          ]
        }
      ]
    },
    {
      "cell_type": "markdown",
      "metadata": {
        "id": "1Pvs8lp3bfYQ"
      },
      "source": [
        "# Substrings\n",
        "\n",
        "---\n",
        "\n",
        "A String is a set of characters. Each String has a length and each character in the string has a position or index. Indexing starts at 0 so the first character of a String is at position 0. As Strings have varying lengths, the last character of the String is at position -1. To find any character in the String, count from 0 or, if you want to count backwards from the end, count back from -1.  \n",
        "\n",
        "You can get a particular character, or a set of consecutive characters (substring) from a String using [] and the positions of the characters you want.  \n",
        "\n",
        "Example:  \n",
        "To get the first letter of a String (in this case the String is called **name**)   \n",
        "**first_letter** = `name`[0]  \n",
        "**second_letter** = `name`[1]  \n",
        "**sixth_letter** = `name`[5]  \n",
        "\n",
        "To get the last letter of name:  \n",
        "**last_letter** = `name`[-1]  \n",
        "**second_last_letter** = `name`[-2]  \n",
        "**third_last_letter** = `name`[-3]  \n",
        "\n",
        "Have a go"
      ]
    },
    {
      "cell_type": "code",
      "metadata": {
        "id": "1EMg6ff7bw7o",
        "colab": {
          "base_uri": "https://localhost:8080/"
        },
        "outputId": "a4bd1c17-059b-4f74-84f9-7046c75800f8"
      },
      "source": [
        "def show_letters():\n",
        "   name = \"Robert\"\n",
        "   # How to get a particular letter from string and print it.\n",
        "   first_letter = name[0]\n",
        "   print(\"First Letter :\" + first_letter)\n",
        "   second_letter = name[1]\n",
        "   print(\"Second Letter :\" + second_letter)\n",
        "   sixth_letter = name[5]\n",
        "   print(\"Sixth Letter :\" + sixth_letter)\n",
        "   last_letter = name[-1]\n",
        "   print(\"Last Letter :\" + last_letter)\n",
        "   second_last_letter = name[-2]\n",
        "   print(\"Second Last Letter :\" + second_last_letter)\n",
        "   third_last_letter = name[-3]\n",
        "   print(\"Third Last Letter :\" + third_last_letter)\n",
        "\n",
        "show_letters()"
      ],
      "execution_count": 3,
      "outputs": [
        {
          "output_type": "stream",
          "name": "stdout",
          "text": [
            "First Letter :R\n",
            "Second Letter :o\n",
            "Sixth Letter :t\n",
            "Last Letter :t\n",
            "Second Last Letter :r\n",
            "Third Last Letter :e\n"
          ]
        }
      ]
    },
    {
      "cell_type": "markdown",
      "metadata": {
        "id": "FfkpprKbb0Eu"
      },
      "source": [
        "To get a set of letters from a String, use the slice operator \":\".  \n",
        "\n",
        "*substring = stringname[ index of first letter to be included_ : index + 1 of last letter ]*\n",
        "\n",
        "Example:  \n",
        "\n",
        "**first_three_letters** = `name`[0:3]  \n",
        "**second_to_fifth_letters** = `name`[1:5]  \n",
        "**last_three_letters** = `name`[-3:]  \n",
        "\n",
        "*Note: we can't add 1 to -1 as the result would be 0 and confused with the first letter, so we omit the second number to indicate that we want all characters to the end of the string*"
      ]
    },
    {
      "cell_type": "code",
      "metadata": {
        "id": "FGQj_JCVcPGj",
        "colab": {
          "base_uri": "https://localhost:8080/"
        },
        "outputId": "ed7def74-a01d-4276-d609-0fe78770a1e0"
      },
      "source": [
        "def show_substrings():\n",
        "  # How to get a particular letter, or set of letters from string and print them.\n",
        "   name = \"Robert\"\n",
        "   first_three_letters = name[0:3]\n",
        "   print(\"First Three Letters :\" + first_three_letters)\n",
        "   second_to_fifth_letters = name[1:5]\n",
        "   print(\"Second to Fifth Letters :\" + second_to_fifth_letters)\n",
        "   last_three_letters = name[-3:]\n",
        "   print(\"Last Three Letters :\" + last_three_letters)\n",
        "\n",
        "show_substrings()"
      ],
      "execution_count": 4,
      "outputs": [
        {
          "output_type": "stream",
          "name": "stdout",
          "text": [
            "First Three Letters :Rob\n",
            "Second to Fifth Letters :ober\n",
            "Last Three Letters :ert\n"
          ]
        }
      ]
    },
    {
      "cell_type": "markdown",
      "metadata": {
        "id": "Cb2OHs_jcQFv"
      },
      "source": [
        "---\n",
        "### Exercise 2 - substrings\n",
        "\n",
        "Write a function called **show_substring()** which will:\n",
        "\n",
        "Ask the user to input a **name** of at least 5 letters  \n",
        "Print the **second** to the **fourth** letters in the `name`  \n",
        "\n",
        "**Test Inputs**:  \n",
        "Bartholomew  \n",
        "\n",
        "**Expected output**:  \n",
        "art\n"
      ]
    },
    {
      "cell_type": "code",
      "metadata": {
        "id": "IfABvmw2cgfH",
        "colab": {
          "base_uri": "https://localhost:8080/"
        },
        "outputId": "a8c24950-d102-4627-ec3c-4cdc7368ba2c"
      },
      "source": [
        "def show_substring():\n",
        "   # How to get a substring from string\n",
        "   name  = input(\"Please enter a name of at least 5 letters: \")\n",
        "   second_to_fourth_letters = name[1:4]\n",
        "   print(\"Second to Fourth Letters :\" + second_to_fourth_letters)\n",
        "\n",
        "show_substring()"
      ],
      "execution_count": 5,
      "outputs": [
        {
          "output_type": "stream",
          "name": "stdout",
          "text": [
            "Please enter a name of at least 5 letters: Bartholomew\n",
            "Second to Fourth Letters :art\n"
          ]
        }
      ]
    },
    {
      "cell_type": "markdown",
      "metadata": {
        "id": "6ryO1LJMchLQ"
      },
      "source": [
        "---\n",
        "### Exercise 3  - Formatting String output  \n",
        "\n",
        "Write a function called **show_formatted()** which will:  \n",
        "\n",
        "*  ask the user to input a **house_number**\n",
        "*  ask the user to input a **road_name**, then a **town**, then a **postcode**  \n",
        "*  print the three lines of the address(`house_number` with a comma and `road_name`, `town`, `postcode`)  \n",
        "\n",
        "**Test Input**:  \n",
        "10  \n",
        "Old Road  \n",
        "Chatham  \n",
        "ME4 1AA  \n",
        "\n",
        "**Expected output**:   \n",
        "10, Old Road  \n",
        "Chatham  \n",
        "ME4 1AA  "
      ]
    },
    {
      "cell_type": "code",
      "metadata": {
        "id": "qNHq7Ub4c1xP",
        "colab": {
          "base_uri": "https://localhost:8080/"
        },
        "outputId": "1f5b7297-fb20-4f61-d875-afb5c3005c79"
      },
      "source": [
        "def show_formatted():\n",
        "   # How to get the house number, road name, town and postcode and print them formatted.\n",
        "   house_number = input(\"Please enter your house number: \")\n",
        "   road_name = input(\"Please enter your road name: \")\n",
        "   town = input(\"Please enter your town: \")\n",
        "   postcode = input(\"Please enter your postcode: \")\n",
        "   print()\n",
        "   print(house_number + \", \" + road_name)\n",
        "   print(town)\n",
        "   print(postcode)\n",
        "\n",
        "show_formatted()"
      ],
      "execution_count": 7,
      "outputs": [
        {
          "output_type": "stream",
          "name": "stdout",
          "text": [
            "Please enter your house number: 10\n",
            "Please enter your road name: Old Road\n",
            "Please enter your town: Chatham\n",
            "Please enter your postcode: ME4 1AA\n",
            "\n",
            "10, Old Road\n",
            "Chatham\n",
            "ME4 1AA\n"
          ]
        }
      ]
    },
    {
      "cell_type": "markdown",
      "metadata": {
        "id": "E4BkKHlyc2BA"
      },
      "source": [
        "# String functions\n",
        "\n",
        "## String length\n",
        "\n",
        "You can get the length of a String using the len() function   \n",
        "e.g. **namelength** = len(`name`)  \n",
        "\n",
        "The length function can be useful in finding strings that are too long to fit in output boxes, to check the length of a password to ensure that it fits the password rules.\n"
      ]
    },
    {
      "cell_type": "markdown",
      "metadata": {
        "id": "B0-NtV3uc8UC"
      },
      "source": [
        "---\n",
        "### Exercise 4 - String length  \n",
        "\n",
        "Write a function called **show_namelength()** which will:  \n",
        "\n",
        "*  ask the user to input a **name**  \n",
        "*  assign the length of the name to a variable called **name_length**  \n",
        "*  print the `name` followed by a comma, then `name_length`, then the word “characters”.\n",
        "\n",
        "**Test Input**:  \n",
        "William  \n",
        "\n",
        "**Expected Output**:  \n",
        "William, 7 characters"
      ]
    },
    {
      "cell_type": "code",
      "metadata": {
        "id": "ldWAjdrIdOzn",
        "colab": {
          "base_uri": "https://localhost:8080/"
        },
        "outputId": "b297fa75-e741-4662-cf8e-607893dc11bc"
      },
      "source": [
        "def show_namelength():\n",
        "   #How to get the name and then print the name followed by then the length/ no of characters\n",
        "   name = input(\"Please enter your name: \")\n",
        "   name_length = len(name)\n",
        "   print(name + \" has, \" + str(name_length) + \" characters\")\n",
        "\n",
        "show_namelength()\n"
      ],
      "execution_count": 9,
      "outputs": [
        {
          "output_type": "stream",
          "name": "stdout",
          "text": [
            "Please enter your name: William\n",
            "William has 7 characters\n"
          ]
        }
      ]
    },
    {
      "cell_type": "markdown",
      "metadata": {
        "id": "2UTCEzYtdPTH"
      },
      "source": [
        "## String Case Conversion  \n",
        "\n",
        "When you start to compare and search for strings, you will need to be aware that data doesn’t always turn up in the state we would like it.  People often forget to use capital letters at the beginning of their names and will sometimes use all capitals.  It is useful, therefore, to be able to convert a String either to all capitals or all lowercase, depending on how you want to see it.  \n",
        "\n",
        "There are three functions for this, which are linked to the String (here the String variable is called **name**).  \n",
        "\n",
        "*   **upper_case_name** = `name.upper()`\n",
        "*   **lower_case_name** = `name.lower()`\n",
        "*   **capitalised_name** = `name.capitalize()`\n"
      ]
    },
    {
      "cell_type": "markdown",
      "metadata": {
        "id": "X-Fv314Hdicp"
      },
      "source": [
        "---\n",
        "### Exercise 5 - case conversion  \n",
        "\n",
        "Write a function called **convert_to_capitals()** which will:  \n",
        "\n",
        "*  ask the user to input a **name** in lowercase letters\n",
        "*  assign the capitalised String to the variable **capitalised_name**\n",
        "*  print the `name` in capitals  \n",
        "\n",
        "**Test input**:  \n",
        "jaswinder  \n",
        "\n",
        "**Expected output**:  \n",
        "JASWINDER  \n"
      ]
    },
    {
      "cell_type": "code",
      "metadata": {
        "id": "aHDLaligd0Do",
        "colab": {
          "base_uri": "https://localhost:8080/"
        },
        "outputId": "c9f9f893-6a1b-4297-ac44-ade0b4cd6b53"
      },
      "source": [
        "def convert_to_capitals():\n",
        "   # How to convert to uppercase the string and print it\n",
        "   name = input(\"Please enter your name in lowercase: \")\n",
        "   capitalised_name = name.upper()\n",
        "   print(capitalised_name)\n",
        "\n",
        "convert_to_capitals()"
      ],
      "execution_count": 14,
      "outputs": [
        {
          "output_type": "stream",
          "name": "stdout",
          "text": [
            "Please enter your name in lowercase: Jaswinder\n",
            "JASWINDER\n"
          ]
        }
      ]
    },
    {
      "cell_type": "markdown",
      "metadata": {
        "id": "DZeyD6p8dusQ"
      },
      "source": [
        "---\n",
        "###Exercise 6 - case conversion  \n",
        "\n",
        "Write a function called **capitalise_names()** which will:  \n",
        "\n",
        "*  ask the user to input a **name** and a **surname**  \n",
        "*  print both `name` and `surname` in lowercase with a capital letter at the start, even if they didn't have capitals when they were typed in  \n",
        "\n",
        "**Test input**:  \n",
        "benJamIN  \n",
        "\n",
        "**Expected output**:  \n",
        "Benjamin\n"
      ]
    },
    {
      "cell_type": "code",
      "metadata": {
        "id": "bpCdYaPdap3V",
        "colab": {
          "base_uri": "https://localhost:8080/"
        },
        "outputId": "05bf88e0-011d-41fa-ea0a-72a4760d797a"
      },
      "source": [
        "def capitalise_names():\n",
        "   # How to capitalise the name and surname and print it\n",
        "   name = input(\"Please enter your name: \")\n",
        "   surname = input(\"Please enter your surname: \")\n",
        "   capitalised_name = name.capitalize()\n",
        "   capitalised_surname = surname.capitalize()\n",
        "   print(capitalised_name + \" \" + capitalised_surname)\n",
        "\n",
        "capitalise_names()"
      ],
      "execution_count": 13,
      "outputs": [
        {
          "output_type": "stream",
          "name": "stdout",
          "text": [
            "Please enter your name: mArk\n",
            "Please enter your surname: benJamIN\n",
            "Mark Benjamin\n"
          ]
        }
      ]
    },
    {
      "cell_type": "markdown",
      "metadata": {
        "id": "8Q9-32tFaqLN"
      },
      "source": [
        "---\n",
        "### Exercise 7 - Substrings\n",
        "\n",
        "Write a function called **show_postcode_letters()** which will:   \n",
        "\n",
        "*  ask the user to enter a **postcode**  \n",
        "*  assign the first two letters of the postcode to a variable called **postcode_area**  \n",
        "*  convert the `postcode_area` String to capital letters and assign this to a variable called **capitalised_area**  \n",
        "*  print the `capitalised_area`  \n",
        "\n",
        "**Test input**:  \n",
        "Me4 6bb  \n",
        "\n",
        "**Expected output**:  \n",
        "ME\n"
      ]
    },
    {
      "cell_type": "code",
      "metadata": {
        "id": "dB3M2qagbUsE",
        "colab": {
          "base_uri": "https://localhost:8080/"
        },
        "outputId": "c653de0e-f0ee-4c3e-8e72-85aa444858de"
      },
      "source": [
        "def show_postcode_letters():\n",
        "   # How to get the first two letters of the postcode and convert them to uppercase and print\n",
        "   postcode = input(\"Please enter your postcode: \")\n",
        "   postcode_area = postcode[0:2]\n",
        "   capitalised_area = postcode_area.upper()\n",
        "   print(capitalised_area)\n",
        "\n",
        "show_postcode_letters()"
      ],
      "execution_count": 15,
      "outputs": [
        {
          "output_type": "stream",
          "name": "stdout",
          "text": [
            "Please enter your postcode: Me4 6bb\n",
            "ME\n"
          ]
        }
      ]
    },
    {
      "cell_type": "markdown",
      "metadata": {
        "id": "2eezJB2UbU1M"
      },
      "source": [
        "---\n",
        "### Exercise 8 - Floor division and slicing\n",
        "\n",
        "Write a function called **show_half_word()** which will:\n",
        "\n",
        "*  ask the user to enter a **word**  \n",
        "*  assign the value of half the length of the `word` to a variable called **half_length**  \n",
        "*  assign the first half of the `word` to a new variable called **half_word**  \n",
        "*  print `half_word`  \n",
        "\n",
        "*Hint:  when dividing the length of the word by 2, use floor division (//) so that you get a whole number of letters).  To get the first half of the word, use word[0:halfLength]*  \n",
        "\n",
        "**Test input**:  \n",
        "Runtime  \n",
        "\n",
        "**Expected output**:  \n",
        "Run"
      ]
    },
    {
      "cell_type": "code",
      "metadata": {
        "id": "Xx3zHFgab2pt",
        "colab": {
          "base_uri": "https://localhost:8080/"
        },
        "outputId": "45f8c5d6-3b23-4833-c03a-45ae54100b1d"
      },
      "source": [
        "def show_half_word():\n",
        "   # How to get the first half of the word and print it\n",
        "   word = input(\"Please enter a word: \")\n",
        "   half_length = len(word) // 2\n",
        "   half_word = word[0:half_length]\n",
        "   print(half_word)\n",
        "\n",
        "show_half_word()"
      ],
      "execution_count": 18,
      "outputs": [
        {
          "output_type": "stream",
          "name": "stdout",
          "text": [
            "Please enter a word: Runtime\n",
            "Run\n"
          ]
        }
      ]
    },
    {
      "cell_type": "markdown",
      "metadata": {
        "id": "0MdQRAo4b20u"
      },
      "source": [
        "---\n",
        "### Exercise 9 - String repetition\n",
        "\n",
        "Write a function called **repeat_two_letters()** which will:\n",
        "\n",
        "*  ask the user to enter a **word**  \n",
        "*  assign the last two letters of the `word` to a variable called **last_two**  \n",
        "*  assign a string made of 5 copies of the `last_two` (*Hint: `last_two`* * 5 *will do it)* to a variable called **five_copies**  \n",
        "*  print `five_copies`\n",
        "\n",
        "**Test input**:\n",
        "Data\n",
        "\n",
        "**Expected output**:\n",
        "tatatatata\n"
      ]
    },
    {
      "cell_type": "code",
      "metadata": {
        "id": "85-6jHD-cXRO",
        "colab": {
          "base_uri": "https://localhost:8080/"
        },
        "outputId": "df526ea7-1816-4265-e1bc-7a7da5136016"
      },
      "source": [
        "def repeat_two_letters():\n",
        "   # How to get the last two letters of the word and repeat them 5 times and print\n",
        "   word = input(\"Please enter a word: \")\n",
        "   last_two = word[-2:]\n",
        "   five_copies = last_two * 5\n",
        "   print(five_copies)\n",
        "\n",
        "repeat_two_letters()"
      ],
      "execution_count": 19,
      "outputs": [
        {
          "output_type": "stream",
          "name": "stdout",
          "text": [
            "Please enter a word: Data\n",
            "tatatatata\n"
          ]
        }
      ]
    },
    {
      "cell_type": "markdown",
      "metadata": {
        "id": "6P284VwXcXaU"
      },
      "source": [
        "---\n",
        "### Exercise 10 - converting String to mixed case\n",
        "\n",
        "Write a function called **convert_to_upper_threeLetters()** which will:  \n",
        "\n",
        "*  assign the value “january” to a variable called **month**  \n",
        "*  assign the first three characters of `month` to a variable called **month_short**   \n",
        "*  convert `month_short` to upper case and store the result back in `month_short`\n",
        "*  assign the rest of the characters to a variable called **month_rest**  \n",
        "*  join `month_short` and `month_rest` together and store the result back into the variable `month`  \n",
        "*  print `month`  \n",
        "\n",
        "**Expected output**:  \n",
        "JANuary  "
      ]
    },
    {
      "cell_type": "code",
      "metadata": {
        "id": "GXqOeFwycuDD",
        "colab": {
          "base_uri": "https://localhost:8080/"
        },
        "outputId": "d8ca03e5-ebdd-4f5e-a37c-2343914892f1"
      },
      "source": [
        "def convert_to_upper_threeLetters():\n",
        "   # How to convert the first three letters of the month to uppercase and print\n",
        "   month = \"january\"\n",
        "   month_short = month[0:3]\n",
        "   month_short = month_short.upper()\n",
        "   month_rest = month[3:]\n",
        "   month = month_short + month_rest\n",
        "   print(month)\n",
        "\n",
        "convert_to_upper_threeLetters()\n"
      ],
      "execution_count": 20,
      "outputs": [
        {
          "output_type": "stream",
          "name": "stdout",
          "text": [
            "JANuary\n"
          ]
        }
      ]
    },
    {
      "cell_type": "markdown",
      "source": [
        "---\n",
        "# Takeaways from this worksheet\n",
        "\n",
        "* text is stored in \"string\" variables\n",
        "* a string is a list of characters, with positions 0 to (length of string = 1)\n",
        "* you can get an character from a string using its position either from the beginning, e.g. name[0], or from the end, e.g. name[-1]\n",
        "* you can join two strings together using the + operator\n",
        "* you can extract a substring using \"slicing\" e.g. name[3:5]\n",
        "* you can find the length of a string using len()\n",
        "* you can change the case of the letters in a string using `.upper()`, `.lower()` and `capitalize()`\n",
        "\n",
        "Data sets often have columns of text data.  It is very common to need to standardise that text data by changing the case, adding prefixes or suffixes, or maybe by splitting off part of the string.\n",
        "\n",
        "\n",
        "\n",
        "\n",
        "\n"
      ],
      "metadata": {
        "id": "qcyQUkg6JOjQ"
      }
    },
    {
      "cell_type": "markdown",
      "source": [
        "# Your thoughts on what you have learnt  \n",
        "\n",
        "Please add some comments in the box below to reflect on what you have learnt through completing this worksheet, and any problems you encountered while doing so.\n"
      ],
      "metadata": {
        "id": "iUcgqmagJTFm"
      }
    },
    {
      "cell_type": "markdown",
      "source": [
        "I have learned various functions and use of operators for handling and extracting substring from strings"
      ],
      "metadata": {
        "id": "JRFxF9iJJWRO"
      }
    }
  ]
}