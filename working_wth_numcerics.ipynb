def add_one():
  # code instructions added below here, and indented to show that they belong to the function
  num = int(3)
  num_plus_one = num + 1
  print(num_plus_one)


add_one()
