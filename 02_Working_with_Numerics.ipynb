def add_two():
num = int(3)
  num_plus_one = num + 1
  print(num_plus_one)

add_two()
