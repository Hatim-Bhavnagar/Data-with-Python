{
  "nbformat": 4,
  "nbformat_minor": 0,
  "metadata": {
    "colab": {
      "provenance": [],
      "include_colab_link": true
    },
    "kernelspec": {
      "name": "python3",
      "display_name": "Python 3"
    },
    "language_info": {
      "name": "python"
    }
  },
  "cells": [
    {
      "cell_type": "markdown",
      "metadata": {
        "id": "view-in-github",
        "colab_type": "text"
      },
      "source": [
        "<a href=\"https://colab.research.google.com/github/Hatim-Bhavnagar/Data-with-Python/blob/main/04_Working_with_Datetime.ipynb\" target=\"_parent\"><img src=\"https://colab.research.google.com/assets/colab-badge.svg\" alt=\"Open In Colab\"/></a>"
      ]
    },
    {
      "cell_type": "markdown",
      "metadata": {
        "id": "7iQyKP-SQiw1"
      },
      "source": [
        "# User-defined functions using datetime library\n",
        "\n",
        "---\n"
      ]
    },
    {
      "cell_type": "markdown",
      "metadata": {
        "id": "Vi93h5I4QnKs"
      },
      "source": [
        "When working with dates and times, fairly common in data sets, we need to be able to extract certain bits of information.  \n",
        "\n",
        "In Python, as with other languages, dates and times are stored in a data **object** that combines the two together and stores the information as a number of seconds since a start point (often 1st January 1900).  This is obviously a large number but every bit of information about a date can be extracted from it and used to give a wide range of information.  \n",
        "\n",
        "Before you can use datetime functions you will need to import them. Import the datetime function with whichever of these is most appropriate for what you are doing:\n",
        "\n",
        "`from datetime import datetime`   \n",
        "`from datetime import datetime, timedelta`\n",
        "\n",
        "\n",
        "For more information about datetime functions visit [Python docs](https://docs.python.org/3/library/datetime.html)\n",
        "\n",
        "## Watch this [video](https://vimeo.com/989582446/90fd251483?share=copy) before you start"
      ]
    },
    {
      "cell_type": "markdown",
      "metadata": {
        "id": "MIDLi7CNR034"
      },
      "source": [
        "---\n",
        "### Exercise 1 - print current date and time\n",
        "\n",
        "Write a function that will get the date and time now, then print it.  \n",
        "\n",
        "*Hint:  the format has been added for you, the other exercises will follow a similar format.   Always remember to import datetime from datetime as shown below*\n",
        "\n",
        "`datetime.now()` can be used to get the current date and time  \n",
        "\n",
        "We use datetime to create a date/time object containing Year, Month, Day, Hour, Minutes, Seconds.  We can either tell it the date and time, we want it to create or ask it to create the date and time now.\n",
        "\n",
        "You can use:  \n",
        "`now = datetime.now()` to get the current date and time   \n",
        "\n",
        "You may notice that the time is out by an hour (due to British Summer Time).  Later you will see how it is possible to add an hour on when you create the date and time).    \n",
        "\n",
        "Examples of using datetime to create a date and time:  \n",
        "\n",
        "`now = datetime.now()`  \n",
        "`start_date = datetime(2024, 7, 22)` if no time is given, the time will be set to midnight  \n",
        "`end_date_time = datetime(2024, 9,4,19,0,0)`\n",
        "\n",
        "Examples of getting a day, month, year, hour, etc from a datetime (these examples use `end_date_time`):  \n",
        "`day = end_date_time.day`  \n",
        "`month = end_date_time.month`  \n",
        "`minute = end_date_time.minute`  \n",
        "\n",
        "\n",
        "\n",
        "\n"
      ]
    },
    {
      "cell_type": "code",
      "metadata": {
        "id": "gS6GJdXbQfHp",
        "outputId": "bcc27d28-fd22-4f6f-ee6a-834f350bf2a3",
        "colab": {
          "base_uri": "https://localhost:8080/"
        }
      },
      "source": [
        "from datetime import datetime\n",
        "\n",
        "def get_datetime_now():\n",
        "  # Get the current date and time\n",
        "  now = datetime.now()\n",
        "  print(now)\n",
        "\n",
        "  start_date = datetime(2024, 6, 22)\n",
        "  print(\"Start date: \" + str(start_date))\n",
        "  end_date_time = datetime(2024,8,21,6,30,00)\n",
        "  print(\"End date time :\" + str(end_date_time))\n",
        "\n",
        "  no_of_days = end_date_time - start_date\n",
        "  print(\"Different between start and end date :\" + str(no_of_days))\n",
        "\n",
        "get_datetime_now()"
      ],
      "execution_count": null,
      "outputs": [
        {
          "output_type": "stream",
          "name": "stdout",
          "text": [
            "2024-08-21 17:54:40.712519\n",
            "Start date: 2024-06-22 00:00:00\n",
            "End date time :2024-08-21 06:30:00\n",
            "Different between start and end date :60 days, 6:30:00\n"
          ]
        }
      ]
    },
    {
      "cell_type": "markdown",
      "metadata": {
        "id": "Yy24sL0bUtpF"
      },
      "source": [
        "---\n",
        "### Exercise 2 - print the current year\n",
        "\n",
        "Write a function that will get and print the current year.  "
      ]
    },
    {
      "cell_type": "code",
      "metadata": {
        "id": "YqlQqPIqUtyr",
        "outputId": "2b17a709-6227-4eb9-8c18-5f344f9168a9",
        "colab": {
          "base_uri": "https://localhost:8080/"
        }
      },
      "source": [
        "from datetime import datetime\n",
        "def current_year():\n",
        "  now = datetime.now()\n",
        "  year = now.year\n",
        "  print(\"Current Year : \" + str(year))\n",
        "\n",
        "current_year()\n"
      ],
      "execution_count": null,
      "outputs": [
        {
          "output_type": "stream",
          "name": "stdout",
          "text": [
            "Current Year : 2024\n"
          ]
        }
      ]
    },
    {
      "cell_type": "markdown",
      "metadata": {
        "id": "FzSVCaJKV1O1"
      },
      "source": [
        "---\n",
        "### Exercise 3 - print the current day of the month\n",
        "\n",
        "Write a function that will get and print the current day of the month.  "
      ]
    },
    {
      "cell_type": "code",
      "metadata": {
        "id": "OP4ZIXBWV1Yj",
        "outputId": "53262bf2-2e18-4814-d64c-26d3535d99f9",
        "colab": {
          "base_uri": "https://localhost:8080/"
        }
      },
      "source": [
        "from datetime import datetime\n",
        "\n",
        "def current_day_month():\n",
        "  now = datetime.now()\n",
        "  day = now.day\n",
        "  month = now.month\n",
        "  print(\"Current day : \" + str(day))\n",
        "  print(\"Current month : \" + str(month))\n",
        "\n",
        "current_day_month()\n"
      ],
      "execution_count": null,
      "outputs": [
        {
          "output_type": "stream",
          "name": "stdout",
          "text": [
            "Current day : 21\n",
            "Current month : 8\n"
          ]
        }
      ]
    },
    {
      "cell_type": "markdown",
      "metadata": {
        "id": "a8euCtdmWIDE"
      },
      "source": [
        "---\n",
        "### Exercise 4 - create a new date\n",
        "\n",
        "Write a function that will:\n",
        "\n",
        "*  create 3 variables: day, month, year\n",
        "*  assign each variable with a number that is valid for that variable (e.g. month can only be between 1 and 12)\n",
        "*  create a date using these variables\n",
        "*  print the date\n",
        "\n",
        "**Expected output**:  \n",
        "If day is 22, month is 4 and year is 2023 then the output will look like this:  \n",
        "`2023-04-22 00:00:00`\n",
        "\n"
      ]
    },
    {
      "cell_type": "code",
      "metadata": {
        "id": "FbOFnTwnWILN",
        "outputId": "ab7c415b-5244-4936-f563-7e589de90e8f",
        "colab": {
          "base_uri": "https://localhost:8080/"
        }
      },
      "source": [
        "from datetime import datetime\n",
        "\n",
        "def create_date():\n",
        "    day = input(\"Enter any day between 1 to 30 :\")\n",
        "    month = input(\"Enter any month between 1 to 12 :\")\n",
        "    year = input(\"Enter any year:\")\n",
        "\n",
        "    date = datetime(int(year),int(month),int(day))\n",
        "    print(\"The date is :\" + str(date))\n",
        "\n",
        "create_date()"
      ],
      "execution_count": null,
      "outputs": [
        {
          "output_type": "stream",
          "name": "stdout",
          "text": [
            "Enter any day between 1 to 30 :22\n",
            "Enter any month between 1 to 12 :04\n",
            "Enter any year:2023\n",
            "The date is :2023-04-22 00:00:00\n"
          ]
        }
      ]
    },
    {
      "cell_type": "markdown",
      "metadata": {
        "id": "f5SKVuE0WfcE"
      },
      "source": [
        "---\n",
        "### Exercise 5 - create a date and time and use strftime() to print\n",
        "\n",
        "Write a function that ask the user to enter a day, month, year, hour, minute, second (6 numbers which will need to be converted to integers) and will then :  \n",
        "*   create a new datetime with that date and time  \n",
        "*   print the date and time as shown in the expected output below.  \n",
        "\n",
        "**Note:** You will need to join some strings together to create the message. Each part of the date will need to be converted to a string.  Do this with the datetime function strftime:  \n",
        "\n",
        " e.g. day.strftime(%d), month.strftime(%m), year.strftime(%Y), etc as you can only join strings with strings.  To find the codes for hour, minute and second visit [strftime.org](https://strftime.org/)\n",
        "\n",
        "**Test inputs**:  \n",
        "24  \n",
        "7  \n",
        "2024  \n",
        "17  \n",
        "30  \n",
        "0\n",
        "\n",
        "**Expected output**\n",
        "The set date is 24/7/2024 and time is 17.30.0"
      ]
    },
    {
      "cell_type": "code",
      "metadata": {
        "id": "gclt-f9-XfdG",
        "colab": {
          "base_uri": "https://localhost:8080/",
          "height": 175
        },
        "outputId": "162406bc-950f-4af0-977d-3c912069dd4c"
      },
      "source": [
        "from datetime import datetime\n",
        "\n",
        "def create_datetime():\n",
        "  day = input(\"Day :\")\n",
        "  month = input(\"Month :\")\n",
        "  year = input(\"Year :\")\n",
        "  hour = input(\"Hour :\")\n",
        "  min = input(\"Min :\")\n",
        "  sec = input(\"Sec :\")\n",
        "\n",
        "  date_str = day + \"/\" + month + \"/\" + year + \" \" + hour + \".\" + min + \".\" + sec\n",
        "  print(\"The set date and time is\", date_str)\n",
        "  date = datetime.strptime(date_str,\"%d/%m/%Y %H.%M.%S\")\n",
        "  print(date)\n",
        "  return date_str\n",
        "\n",
        "create_datetime()"
      ],
      "execution_count": 39,
      "outputs": [
        {
          "output_type": "stream",
          "name": "stdout",
          "text": [
            "Day :24\n",
            "Month :07\n",
            "Year :2024\n",
            "Hour :17\n",
            "Min :30\n",
            "Sec :00\n",
            "The set date and time is 24/07/2024 17.30.00\n",
            "2024-07-24 17:30:00\n"
          ]
        },
        {
          "output_type": "execute_result",
          "data": {
            "text/plain": [
              "'24/07/2024 17.30.00'"
            ],
            "application/vnd.google.colaboratory.intrinsic+json": {
              "type": "string"
            }
          },
          "metadata": {},
          "execution_count": 39
        }
      ]
    },
    {
      "cell_type": "markdown",
      "metadata": {
        "id": "js7fy2HWXfm2"
      },
      "source": [
        "---\n",
        "### Exercise 6 - show the date and time in different formats\n",
        "\n",
        "Write a function that will create the same date as before but will then print it in the following 2 formats (using strftime again)\n",
        "\n",
        "Wed 24 July 2024 at 1730 hours  \n",
        "30 minutes past 5pm on July 24 2024\n",
        "\n",
        "*Hint: use 12 hour clock as decimal and remember that you can convert a string to lower case for pm.*"
      ]
    },
    {
      "cell_type": "markdown",
      "source": [
        "List of format available using strftime\n",
        "![image.png](data:image/png;base64,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)\n"
      ],
      "metadata": {
        "id": "AO1_jllK7KTX"
      }
    },
    {
      "cell_type": "markdown",
      "source": [],
      "metadata": {
        "id": "XfXq0dvZ7Jnb"
      }
    },
    {
      "cell_type": "code",
      "metadata": {
        "id": "KY1jtf3lX_ps",
        "colab": {
          "base_uri": "https://localhost:8080/"
        },
        "outputId": "1ecd0b1b-cdb4-4c0e-d038-a2cb0c988c55"
      },
      "source": [
        "from datetime import datetime\n",
        "\n",
        "def display_formatted_date():\n",
        "  date = datetime.strptime(create_datetime(),\"%d/%m/%Y %H.%M.%S\")  #Using the previous create_datetime() function output as input\n",
        "  # print date time in formats\n",
        "  # Wed 24 July 2024 at 1730 hours\n",
        "  # 30 minutes past 5pm on July 24 2024\n",
        "  output1 = date.strftime(\"%a %d %B %Y at %H%M hours\")\n",
        "  print(\"Output1 : \", output1 )\n",
        "  output2 = date.strftime(\"%M minutes past %-l\") + date.strftime(\"%p\").lower() + date.strftime(\" on %B %d %Y\")\n",
        "  print(\"Output1 : \", output2)\n",
        "\n",
        "display_formatted_date()"
      ],
      "execution_count": 32,
      "outputs": [
        {
          "output_type": "stream",
          "name": "stdout",
          "text": [
            "Day :24\n",
            "Month :07\n",
            "Year :2024\n",
            "Hour :17\n",
            "Min :30\n",
            "Sec :00\n",
            "The set date and time is 24/07/2024 17.30.00\n",
            "2024-07-24 17:30:00\n",
            "Output1 :  Wed 24 July 2024 at 1730 hours\n",
            "Output1 :  30 minutes past 5pm on July 24 2024\n"
          ]
        }
      ]
    },
    {
      "cell_type": "markdown",
      "metadata": {
        "id": "9BuRDi08YAO0"
      },
      "source": [
        "---\n",
        "### Exercise 7 - display parts of date/time\n",
        "\n",
        "Write a function that will take a date and print from it the following:  \n",
        "*  given date and time  \n",
        "*  year (in full)\n",
        "*  month (as a number)\n",
        "*  month name\n",
        "*  week number of the year  \n",
        "*  weekday of the week (as a number)  \n",
        "*  day of year  \n",
        "*  day of the month  \n",
        "*  day of week (as a short name)  \n"
      ]
    },
    {
      "cell_type": "code",
      "metadata": {
        "id": "zl-37Ez9ahym",
        "colab": {
          "base_uri": "https://localhost:8080/"
        },
        "outputId": "3a2a2af9-be80-405c-f31e-592c17f79cfd"
      },
      "source": [
        "from datetime import datetime\n",
        "\n",
        "def display_date_parts(date_string):\n",
        "  date = datetime.strptime(date_string,\"%d/%m/%Y %H.%M.%S\")\n",
        "  print(date)\n",
        "  print(\"Year :\", date.strftime(\"%Y\"))\n",
        "  print(\"Month :\", date.strftime(\"%m\"))\n",
        "  print(\"Month name :\", date.strftime(\"%B\"))\n",
        "  print(\"Week number :\", date.strftime(\"%U\"))\n",
        "  print(\"weekday as number:\", date.strftime(\"%w\"))\n",
        "  print(\"day of Year :\", date.strftime(\"%-j\"))\n",
        "  print(\"day of the month :\", date.strftime(\"%d\"))\n",
        "  print(\"day of week :\", date.strftime(\"%A\"))\n",
        "\n",
        "display_date_parts(\"24/07/2024 17.30.00\")\n"
      ],
      "execution_count": 36,
      "outputs": [
        {
          "output_type": "stream",
          "name": "stdout",
          "text": [
            "2024-07-24 17:30:00\n",
            "Year : 2024\n",
            "Month : 07\n",
            "Month name : July\n",
            "Week number : 29\n",
            "weekday as number: 3\n",
            "day of Year : 206\n",
            "day of the month : 24\n",
            "day of week : Wednesday\n"
          ]
        }
      ]
    },
    {
      "cell_type": "markdown",
      "source": [
        "---\n",
        "# strptime\n",
        "The **strptime(**) function will help you to create a new datetime object from a string, rather than supplying the year, month, day, hour, etc as separate numbers.\n",
        "\n",
        "In data processing, dates often appear as strings and so being able to convert them into datetime data easily is very useful.\n",
        "\n",
        "`strptime()` uses the same formatting characters as `strftime()` so you can just supply date in text format and tell it what the format is.  \n",
        "\n",
        "e.g.  \n",
        "```\n",
        "date_string = \"11-24-1990\"\n",
        "new_date = datetime.strptime(date_string, \"%m-%d-%Y\")\n",
        "```\n",
        "If you only want to print the date you can use datetime.date()."
      ],
      "metadata": {
        "id": "6zhQ3j6OkIi9"
      }
    },
    {
      "cell_type": "markdown",
      "source": [
        "---\n",
        "### Exercise 8 - create a datetime from a string\n",
        "\n",
        "Write a function that will:  \n",
        "* create a string to hold a date in the format yyyy:dd:mm\n",
        "* print just the date\n",
        "* print date in the format as shown below:  \n",
        "`day name-day number-short month year`  \n",
        "\n",
        "Test input:  \n",
        "2023:12:2\n",
        "\n",
        "Expected output:\n",
        "  \n",
        "Sun 12 Feb 2023"
      ],
      "metadata": {
        "id": "Ww3txeHOh7Rm"
      }
    },
    {
      "cell_type": "code",
      "source": [
        "from datetime import datetime\n",
        "\n",
        "def convert_str_2_date(date_string):\n",
        "  new_date = datetime.strptime(date_string,\"%Y:%d:%m\")\n",
        "  print(new_date.strftime(\"%a %d %b %Y\"))\n",
        "\n",
        "convert_str_2_date(\"2023:12:2\")"
      ],
      "metadata": {
        "id": "J0pX60wpiVrM",
        "colab": {
          "base_uri": "https://localhost:8080/"
        },
        "outputId": "b38ce325-05b5-4d91-df0c-8e858b488796"
      },
      "execution_count": 42,
      "outputs": [
        {
          "output_type": "stream",
          "name": "stdout",
          "text": [
            "Sun 12 Feb 2023\n"
          ]
        }
      ]
    },
    {
      "cell_type": "markdown",
      "metadata": {
        "id": "_rpTIoSDaiBj"
      },
      "source": [
        "---\n",
        "### Exercise 9 - next 6 days - a challenge\n",
        "\n",
        "**Scenario**\n",
        "\n",
        "The timedelta function is part of the datetime library and will allow you to create a value to represent a number of days (or months, etc) so that you can create a date in the future (like an expiry date).\n",
        "\n",
        "Watch this [video](https://vimeo.com/989587133/fccf9cb783?share=copy) to see timedelta in use\n",
        "\n",
        "**Your task**\n",
        "\n",
        "Write a function that will take a date and generate the dates of the following 6 days.  It should print each of the 6 days in this format:  \n",
        "\n",
        "e.g.  \n",
        "Friday, May 24 2024  \n",
        "Saturday, May 25 2024  \n",
        "Sunday, May 26 2024  \n",
        "Monday, May 27 2024  \n",
        "Tuesday, May ...\n",
        "\n",
        "*Hint:  to generate the days, use the function datetime.timedelta(), there is a good example of its use [here](https://www.geeksforgeeks.org/python-datetime-timedelta-function/) *\n",
        "\n",
        "DON'T FORGET TO IMPORT timedelta as well as datetime"
      ]
    },
    {
      "cell_type": "code",
      "metadata": {
        "id": "1d-oXqLLb0vX",
        "colab": {
          "base_uri": "https://localhost:8080/"
        },
        "outputId": "90564c3e-c5db-4da2-a6b5-5781b6fb1b8e"
      },
      "source": [
        "from datetime import datetime, timedelta\n",
        "\n",
        "date = datetime.now()\n",
        "day1 = date + timedelta(days=1)\n",
        "print(day1.strftime(\"%A, %B %d %Y\"))\n",
        "day1 = day1 + timedelta(days=1)\n",
        "print(day1.strftime(\"%A, %B %d %Y\"))\n",
        "day1 = day1 + timedelta(days=1)\n",
        "print(day1.strftime(\"%A, %B %d %Y\"))\n",
        "day1 = date + timedelta(days=4)\n",
        "print(day1.strftime(\"%A, %B %d %Y\"))\n",
        "day1 = date + timedelta(days=5)\n",
        "print(day1.strftime(\"%A, %B %d %Y\"))\n",
        "day1 = date + timedelta(days=6)\n",
        "print(day1.strftime(\"%A, %B %d %Y\"))"
      ],
      "execution_count": 48,
      "outputs": [
        {
          "output_type": "stream",
          "name": "stdout",
          "text": [
            "Thursday, August 22 2024\n",
            "Friday, August 23 2024\n",
            "Saturday, August 24 2024\n",
            "Sunday, August 25 2024\n",
            "Monday, August 26 2024\n",
            "Tuesday, August 27 2024\n"
          ]
        }
      ]
    },
    {
      "cell_type": "markdown",
      "metadata": {
        "id": "22Rhwx2Sb1Ey"
      },
      "source": [
        "---\n",
        "### Optional extra practice\n",
        "\n",
        "There are some similar and some more challenging exercises [here](https://www.w3resource.com/python-exercises/date-time-exercise/) if you would like to practice more. The site has its own editor."
      ]
    },
    {
      "cell_type": "markdown",
      "source": [
        "---\n",
        "# Takeaways\n",
        "\n",
        "* the datetime library has a number of functions for working with dates\n",
        "* you have used the `datetime` function and `timedelta` function\n",
        "* the `strftime()` function helps you to format parts of the date and time into strings to help format the data into text and the `strptime()` function helps you to create dates with differently organised date strings\n",
        "* changing the format of dates is a common data cleaning task"
      ],
      "metadata": {
        "id": "ebyScSG_hKFV"
      }
    },
    {
      "cell_type": "markdown",
      "source": [
        "# Your thoughts on what you have learnt  \n",
        "\n",
        "Please add some comments in the box below to reflect on what you have learnt through completing this worksheet, and any problems you encountered while doing so.\n"
      ],
      "metadata": {
        "id": "zXCWqmiOpIME"
      }
    },
    {
      "cell_type": "markdown",
      "source": [
        "Learned the usage of timedelta and datetime function strptime() and strftime(). Also, got familiar with various formatting options with date"
      ],
      "metadata": {
        "id": "oDwUX3jVpTIr"
      }
    }
  ]
}