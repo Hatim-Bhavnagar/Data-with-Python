{
  "nbformat": 4,
  "nbformat_minor": 0,
  "metadata": {
    "colab": {
      "provenance": [],
      "authorship_tag": "ABX9TyNPvORL5f7Rg+htP78ypAg5",
      "include_colab_link": true
    },
    "kernelspec": {
      "name": "python3",
      "display_name": "Python 3"
    },
    "language_info": {
      "name": "python"
    }
  },
  "cells": [
    {
      "cell_type": "markdown",
      "metadata": {
        "id": "view-in-github",
        "colab_type": "text"
      },
      "source": [
        "<a href=\"https://colab.research.google.com/github/Hatim-Bhavnagar/Data-with-Python/blob/main/01_Ex1_Working_with_Number.ipynb\" target=\"_parent\"><img src=\"https://colab.research.google.com/assets/colab-badge.svg\" alt=\"Open In Colab\"/></a>"
      ]
    },
    {
      "cell_type": "markdown",
      "source": [
        "I am working on numbers as per example given in worksheet. Here the input is 345 as integer and output will be 346."
      ],
      "metadata": {
        "id": "E8yAWDZqxwko"
      }
    },
    {
      "cell_type": "code",
      "source": [
        "def Add_one(  ):\n",
        "  num = int(345)\n",
        "  num_plus_one = num + 1\n",
        "  print(num_plus_one)\n",
        "\n",
        "Add_one()"
      ],
      "metadata": {
        "colab": {
          "base_uri": "https://localhost:8080/"
        },
        "id": "wZVsJHP3yT7w",
        "outputId": "6ab87248-31ec-4184-c056-8fba026a796a"
      },
      "execution_count": 6,
      "outputs": [
        {
          "output_type": "stream",
          "name": "stdout",
          "text": [
            "346\n"
          ]
        }
      ]
    },
    {
      "cell_type": "markdown",
      "source": [
        "I tried various defination naming combination like Add_one(), Add_one( ), Add_one(   ). The result is the same everytime, i didn't got any error.\n",
        "\n",
        "However, when i tried executing int( 345 ) with space between brackets. it gave error."
      ],
      "metadata": {
        "id": "K-T4iVbt0a06"
      }
    }
  ]
}